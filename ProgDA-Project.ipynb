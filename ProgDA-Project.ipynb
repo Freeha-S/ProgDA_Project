{
 "cells": [
  {
   "cell_type": "markdown",
   "metadata": {},
   "source": [
    "# Module: Programming for Data Analysis\n",
    "\n",
    "# Project 2019\n",
    "\n",
    "# Lecturer: Brian McGinley"
   ]
  },
  {
   "cell_type": "markdown",
   "metadata": {},
   "source": [
    "## Introduction\n",
    " The Objective of this project is\n",
    " \n",
    "    - Choose a real-world phenomenon that can be measured and for which you could collect at least one-hundred data points across at least four diﬀerent variables. \n",
    "    - Investigate the types of variables involved, their likely distributions, and their relationships with each other.\n",
    "    - Synthesise/simulate a data set as closely matching their properties as possible.\n",
    "    - Detail research and implement the simulation in a Jupyter notebook – the data set itself can simply be displayed in an output cell within the notebook."
   ]
  },
  {
   "cell_type": "markdown",
   "metadata": {},
   "source": [
    "## Real-world phenomenon "
   ]
  },
  {
   "cell_type": "markdown",
   "metadata": {},
   "source": [
    "I decide to look at the socioeconomic factors effecting health of people age 18 and above in Ireland. The link between general health and socio-economic status is well established.First I have to look at the variables in the dataset\n",
    "\n",
    "column in dataset\n",
    "\n",
    "- Gender: \n",
    "- Age:\n",
    "- Education:\n",
    "- Employment Status:(Full Time, self_employed, Unemployed) \n",
    "- Living Area:(Urban,Rural)\n",
    "- Income:\n",
    "- Marital Status:\n",
    "- General Health:"
   ]
  },
  {
   "cell_type": "markdown",
   "metadata": {},
   "source": [
    "we  have to collect the data of 1000  young people."
   ]
  },
  {
   "cell_type": "code",
   "execution_count": 2,
   "metadata": {},
   "outputs": [],
   "source": [
    "#import libraries\n",
    "import seaborn as sns\n",
    "import pandas as pd\n",
    "import numpy as np\n",
    "import matplotlib.pyplot as plt"
   ]
  },
  {
   "cell_type": "code",
   "execution_count": 3,
   "metadata": {},
   "outputs": [
    {
     "data": {
      "text/html": [
       "<div>\n",
       "<style scoped>\n",
       "    .dataframe tbody tr th:only-of-type {\n",
       "        vertical-align: middle;\n",
       "    }\n",
       "\n",
       "    .dataframe tbody tr th {\n",
       "        vertical-align: top;\n",
       "    }\n",
       "\n",
       "    .dataframe thead th {\n",
       "        text-align: right;\n",
       "    }\n",
       "</style>\n",
       "<table border=\"1\" class=\"dataframe\">\n",
       "  <thead>\n",
       "    <tr style=\"text-align: right;\">\n",
       "      <th></th>\n",
       "      <th>GENDER</th>\n",
       "      <th>AGE</th>\n",
       "      <th>EDUCATION</th>\n",
       "      <th>Employment_Status</th>\n",
       "      <th>AREA</th>\n",
       "      <th>INCOME</th>\n",
       "      <th>MARITAL STATUS</th>\n",
       "      <th>GENERAL HEALTH</th>\n",
       "    </tr>\n",
       "  </thead>\n",
       "  <tbody>\n",
       "  </tbody>\n",
       "</table>\n",
       "</div>"
      ],
      "text/plain": [
       "Empty DataFrame\n",
       "Columns: [GENDER, AGE, EDUCATION, Employment_Status, AREA, INCOME, MARITAL STATUS, GENERAL HEALTH]\n",
       "Index: []"
      ]
     },
     "execution_count": 3,
     "metadata": {},
     "output_type": "execute_result"
    }
   ],
   "source": [
    "data1 = ['GENDER: Female,Male',\n",
    "         'AGE: years',\n",
    "         'EDUCATION:',\n",
    "         'Employment_Status: ',\n",
    "         'AREA: ',\n",
    "         'INCOME: Income yearly',\n",
    "         'MARITAL_STATUS: ',\n",
    "         'GENERAL_HEALTH:'\n",
    "]\n",
    "short_names = [d.split(':')[0] for d in data1]\n",
    "data=pd.DataFrame(columns = short_names)\n",
    "\n",
    "data"
   ]
  },
  {
   "cell_type": "markdown",
   "metadata": {},
   "source": [
    "## Gender\n",
    "In this dataset the number of males and females are not equal. numpy.random.choice() is used to generates a random sample from ['male','female] .there are many health conditions that vary with gender therefore gender is an important variable."
   ]
  },
  {
   "cell_type": "code",
   "execution_count": 3,
   "metadata": {},
   "outputs": [
    {
     "data": {
      "text/plain": [
       "Male      531\n",
       "Female    469\n",
       "Name: GENDER, dtype: int64"
      ]
     },
     "execution_count": 3,
     "metadata": {},
     "output_type": "execute_result"
    }
   ],
   "source": [
    "np.random.seed(256) # Set the random seed\n",
    "a=['Male','Female']\n",
    "data['GENDER']= np.random.choice(a, 1000)\n",
    "\n",
    "data['GENDER'].value_counts()"
   ]
  },
  {
   "cell_type": "code",
   "execution_count": 4,
   "metadata": {},
   "outputs": [
    {
     "data": {
      "text/plain": [
       "<matplotlib.axes._subplots.AxesSubplot at 0x1f2ee10aeb8>"
      ]
     },
     "execution_count": 4,
     "metadata": {},
     "output_type": "execute_result"
    },
    {
     "data": {
      "image/png": "[encoded data removed]",
      "text/plain": [
       "<Figure size 432x288 with 1 Axes>"
      ]
     },
     "metadata": {
      "needs_background": "light"
     },
     "output_type": "display_data"
    }
   ],
   "source": [
    "sns.countplot(x=data['GENDER'])"
   ]
  },
  {
   "cell_type": "markdown",
   "metadata": {},
   "source": [
    "## Age \n",
    "as this dataset have the data for age 25 -45\n",
    "18-29 25.2\n",
    "30-44 31.1 \n",
    "45-64 29.1\n",
    "65+ 14.6 \n",
    "source: http://www.ucd.ie/t4cms/slan_wellbeing_report.pdf"
   ]
  },
  {
   "cell_type": "code",
   "execution_count": 6,
   "metadata": {},
   "outputs": [
    {
     "data": {
      "text/plain": [
       "<matplotlib.axes._subplots.AxesSubplot at 0x1f2ef776ba8>"
      ]
     },
     "execution_count": 6,
     "metadata": {},
     "output_type": "execute_result"
    },
    {
     "data": {
      "image/png": "[encoded data removed]",
      "text/plain": [
       "<Figure size 432x288 with 1 Axes>"
      ]
     },
     "metadata": {
      "needs_background": "light"
     },
     "output_type": "display_data"
    }
   ],
   "source": [
    "np.random.seed(256) # Set the random seed\n",
    "##data['AGE'] = np.random.randint(25,45, size= 1000,dtype='int')\n",
    "#data = data.astype({\"AGE\": int})\n",
    "age=['18-29','30-44','45-64','65+']\n",
    "data['AGE'] = np.random.choice(age, 1000, p=[0.25,0.31,0.29,0.15])\n",
    "sns.countplot(data['AGE'])"
   ]
  },
  {
   "cell_type": "code",
   "execution_count": null,
   "metadata": {},
   "outputs": [],
   "source": []
  },
  {
   "attachments": {
    "Education.PNG": {
     "image/png": "[encoded data removed]"
    }
   },
   "cell_type": "markdown",
   "metadata": {},
   "source": [
    "## Education\n",
    "education is very important indicator of socioeconomics class  and health. As people with higher education are more aware of issue like healthy eating ,healthy lifestyle and mental health.\n",
    "the data in the column is correspondent to the cso.ie statisics about education\n",
    "![Education.PNG](attachment:Education.PNG)"
   ]
  },
  {
   "cell_type": "code",
   "execution_count": 8,
   "metadata": {},
   "outputs": [],
   "source": [
    "np.random.seed(256)\n",
    "Edu= ['Third Level','Post Leaving CERT','Higher Secondary', 'Lower Secondry','Primary or Below']\n",
    "#source: https://www.cso.ie/en/releasesandpublications/er/eda/educationalattainmentthematicreport2019/\n",
    "data['EDUCATION']= np.random.choice(Edu, 1000, p=[0.47,0.15,0.22,0.11,0.05])\n"
   ]
  },
  {
   "cell_type": "markdown",
   "metadata": {},
   "source": [
    "Unemployment rate is  6% and employment rate is 80% and self employed 14%\n"
   ]
  },
  {
   "cell_type": "markdown",
   "metadata": {},
   "source": [
    "## Household income\n",
    "- Under €10,000  3.9%\n",
    "- €10,000 – €19,000 15.4%\n",
    "- €20,000 – €29,999 17.3%\n",
    "- €30,000 – €39,999 16.7%\n",
    "- €40,000 – €49,999 16.8%\n",
    "- €50,000 or more 30.0%\n",
    "The equivalised household (HH) income is calculated based on the above figures using the national equivalence scale (Callan et al, 1996). The equivalised HH income (units: weekly net household incomes) adjusts for household size such that the needs of the composition of households are taken into account. The national equivalence scale used here attributes a weight of 1 to the first adult, 0.66 to each subsequent adult and 0.33 to each child.12 For analysis purposes, the equivalised income is split into quintiles, from the highest income quintile to the lowest income quintile.\n"
   ]
  },
  {
   "cell_type": "code",
   "execution_count": 11,
   "metadata": {},
   "outputs": [
    {
     "data": {
      "text/plain": [
       "<matplotlib.axes._subplots.AxesSubplot at 0x1f2ef90a2e8>"
      ]
     },
     "execution_count": 11,
     "metadata": {},
     "output_type": "execute_result"
    },
    {
     "data": {
      "image/png": "[encoded data removed]",
      "text/plain": [
       "<Figure size 432x288 with 1 Axes>"
      ]
     },
     "metadata": {
      "needs_background": "light"
     },
     "output_type": "display_data"
    }
   ],
   "source": [
    "hincome= ['Under €10,000','€10,000 – €19,000','€20,000 – €29,999','€30,000 – €39,999','€40,000 – €49,999','€50,000 or more']\n",
    "data['Household_Income']= np.random.choice(hincome, 1000, p=[0.039,0.154,0.172,0.167,0.168,0.30]) \n",
    "sns.countplot(data['Household_Income'])"
   ]
  },
  {
   "cell_type": "markdown",
   "metadata": {},
   "source": [
    "## Marital Status\n",
    "Single 41.1 \n",
    "Married 47.7\n",
    "Separated 3.0 \n",
    "Divorced 3.0 \n",
    "Widowed 5.2\n",
    "source: https://www.cso.ie/en/releasesandpublications/ep/p-cp4hf/cp4hf/ms/"
   ]
  },
  {
   "cell_type": "code",
   "execution_count": 30,
   "metadata": {},
   "outputs": [
    {
     "data": {
      "text/plain": [
       "<matplotlib.axes._subplots.AxesSubplot at 0x1c65af0a6a0>"
      ]
     },
     "execution_count": 30,
     "metadata": {},
     "output_type": "execute_result"
    },
    {
     "data": {
      "image/png": "[encoded data removed]",
      "text/plain": [
       "<Figure size 432x288 with 1 Axes>"
      ]
     },
     "metadata": {
      "needs_background": "light"
     },
     "output_type": "display_data"
    }
   ],
   "source": [
    "np.random.seed(256) # Set the random seed\n",
    "ms =['Single','Married','Separated','Divorced','Widowed']\n",
    "data['Marital_Status']= np.random.choice(ms, 1000, p=[0.411,0.477,0.03,0.03,0.052])\n",
    "sns.countplot(data['Marital_Status'])"
   ]
  },
  {
   "cell_type": "markdown",
   "metadata": {},
   "source": [
    "# Social Class"
   ]
  },
  {
   "cell_type": "markdown",
   "metadata": {},
   "source": [
    "The entire population is classified into one of the following social class groups (introduced in 1996) which are defined on the basis of occupation (coded using Soc90):\n",
    "1. Professional workers\n",
    "2. Managerial and technical\n",
    "3. Non-manual\n",
    "4. Skilled manual\n",
    "5. Semi-skilled\n",
    "6. Unskilled\n",
    "7. All others gainfully occupied and unknown\n",
    "The occupations included in each of these groups have been selected in such a way as to bring together, as far as possible, people with similar levels of occupational skill. In determining social class no account is taken of the differences between individuals on the basis of other characteristics such as education. Accordingly social class ranks occupations by the level of skill required on a social class scale ranging from 1 (highest) to 7 (lowest). This scale combines occupations into six groups by occupation and employment status following procedures similar to those outlined above for the allocation of socio-economic group. A residual category “All others gainfully occupied and unknown” is used where no precise allocation is possible.\n",
    "source:https://www.cso.ie/en/releasesandpublications/ep/p-cp4hf/cp4hf/bgn/\n",
    "\n",
    "for dataset we are using 4 categories\n",
    "SC 1-2 (Upper) 31.4 \n",
    "SC 3-4 (Middle) 37.6 \n",
    "SC 5-6 (Lower) 16.1 \n",
    "Unclassified 14.9 "
   ]
  },
  {
   "cell_type": "code",
   "execution_count": 32,
   "metadata": {},
   "outputs": [
    {
     "data": {
      "text/plain": [
       "<matplotlib.axes._subplots.AxesSubplot at 0x1c65bfa9710>"
      ]
     },
     "execution_count": 32,
     "metadata": {},
     "output_type": "execute_result"
    },
    {
     "data": {
      "image/png": "[encoded data removed]",
      "text/plain": [
       "<Figure size 432x288 with 1 Axes>"
      ]
     },
     "metadata": {
      "needs_background": "light"
     },
     "output_type": "display_data"
    }
   ],
   "source": [
    "np.random.seed(256) # Set the random seed\n",
    "a=['Upper','Middle','Lower','Unclassified']\n",
    "data['Social_Class']= np.random.choice(a, 1000, p=[0.314,0.376,0.161,0.149])\n",
    "sns.countplot(data['Social_Class'])"
   ]
  },
  {
   "cell_type": "code",
   "execution_count": null,
   "metadata": {},
   "outputs": [],
   "source": [
    "np.random.seed(256) # Set the random seed\n",
    "a=['Employed','Unemployed']\n",
    "data['Employment_Status']= np.random.choice(a, 200, p=[0.85,0.15])\n"
   ]
  },
  {
   "cell_type": "markdown",
   "metadata": {},
   "source": [
    "#### General Health\n",
    "\n",
    "for genral health in Ireland \n",
    "- 84.2% good health\n",
    "- 3.3%very bad and bad\n",
    "- 12.5% fair \n",
    "source https://ec.europa.eu/eurostat/cache/infographs/qol/index_en.html"
   ]
  },
  {
   "cell_type": "code",
   "execution_count": 37,
   "metadata": {},
   "outputs": [
    {
     "data": {
      "text/plain": [
       "<matplotlib.axes._subplots.AxesSubplot at 0x1c65c01eda0>"
      ]
     },
     "execution_count": 37,
     "metadata": {},
     "output_type": "execute_result"
    },
    {
     "data": {
      "image/png": "[encoded data removed]",
      "text/plain": [
       "<Figure size 432x288 with 1 Axes>"
      ]
     },
     "metadata": {
      "needs_background": "light"
     },
     "output_type": "display_data"
    }
   ],
   "source": [
    "np.random.seed(256) # Set the random seed\n",
    "gh=['Good Health','Bad','Fair']\n",
    "data['General_Health']= np.random.choice(gh, 1000, p=[0.842,0.033,0.125])\n",
    "sns.countplot(data['General_Health'])"
   ]
  },
  {
   "cell_type": "markdown",
   "metadata": {},
   "source": [
    "18,095\n",
    "Lower secondary\n",
    "22,443\n",
    "Higher secondary\n",
    "25,925\n",
    "Post leaving cert \n",
    "24,627\n",
    "Third level non degree\n",
    "30,068\n",
    "Third level degree or above\n",
    "38,074\n",
    "source https://www.cso.ie/en/releasesandpublications/ep/p-silc/surveyonincomeandlivingconditionssilc2018/income/"
   ]
  },
  {
   "cell_type": "code",
   "execution_count": null,
   "metadata": {},
   "outputs": [],
   "source": [
    "np.random.seed(42)\n",
    "#arr = np.arange(1, len(df[df.YN == 'N']) + 1)\n",
    "#np.random.shuffle(arr)\n",
    "#'Third Level,','Post Leaving CERT','Higher Secondary', 'Lower Secondry'\n",
    "cnt = 0\n",
    "for idx, val in enumerate(data.itertuples()):\n",
    "    if data.EDUCATION[idx] == 'Primary or Below':\n",
    "        if data.Employment_Status[idx] =='Employed':\n",
    "            data.loc[idx, 'INCOME'] = np.random.randint(18095,20000)\n",
    "        else:\n",
    "            data.loc[idx, 'INCOME'] = 0\n",
    "    if data.EDUCATION[idx] == 'Lower Secondry':\n",
    "        if data.Employment_Status[idx] =='Employed':\n",
    "            data.loc[idx, 'INCOME'] = np.random.randint(22443,24000)\n",
    "        else:\n",
    "            data.loc[idx, 'INCOME'] = 0  \n",
    "    if data.EDUCATION[idx] == 'Higher Secondary':\n",
    "        if data.Employment_Status[idx] =='Employed':\n",
    "            data.loc[idx, 'INCOME'] = np.random.randint(25000,27000)\n",
    "        else:\n",
    "            data.loc[idx, 'INCOME'] = 0\n",
    "    if data.EDUCATION[idx] == 'Post Leaving CERT':\n",
    "        if data.Employment_Status[idx] =='Employed':\n",
    "            data.loc[idx, 'INCOME'] = np.random.randint(24627,25627)\n",
    "        else:\n",
    "            data.loc[idx, 'INCOME'] = 0 \n",
    "    if data.EDUCATION[idx] == 'Third Level':\n",
    "        if data.Employment_Status[idx] =='Employed':\n",
    "            data.loc[idx, 'INCOME'] = np.random.randint(30065,35000)\n",
    "        else:\n",
    "            data.loc[idx, 'INCOME'] = 0\n",
    "        \n"
   ]
  },
  {
   "cell_type": "code",
   "execution_count": null,
   "metadata": {},
   "outputs": [],
   "source": [
    "np.random.seed(256)\n",
    "Area = ['Urban','Rural']\n",
    "#source:https://www.cso.ie/en/releasesandpublications/ep/p-cp2tc/cp2pdm/\n",
    "data['AREA']= np.random.choice(Area, 200, p=[0.63,0.37])\n",
    "#data"
   ]
  },
  {
   "cell_type": "code",
   "execution_count": null,
   "metadata": {},
   "outputs": [],
   "source": [
    "#np.random.seed(42)\n",
    "#data['INCOME'] = data.GENDER.apply(lambda x: np.random.randint(2200,3000) if x == 'Female' else np.random.randint(3000,4000)).ffill().astype(float)\n",
    "data\n",
    "#https://stackoverflow.com/questions/55114954/iterate-over-pandas-rows-and-set-column-values-based-on-values-in-other-column"
   ]
  },
  {
   "cell_type": "code",
   "execution_count": null,
   "metadata": {},
   "outputs": [],
   "source": []
  },
  {
   "cell_type": "code",
   "execution_count": null,
   "metadata": {},
   "outputs": [],
   "source": [
    "jobs = {\n",
    "    # 'title': (p, min salary, max salary)\n",
    "    'developer': (0.4, 40000, 55000),\n",
    "    'business manager': (0.1, 70000, 85000),\n",
    "    'staff': (0.4, 25000, 45000),\n",
    "    'senior developer': (0.1, 55000, 75000),\n",
    "}\n",
    "\n",
    "titles = [title for title in jobs.keys()]\n",
    "p = [job[0] for job in jobs.values()]\n",
    "title = np.random.choice(titles, size=1, p=p)[0]\n",
    "\n",
    "min_salary = jobs[title][1]\n",
    "max_salary = jobs[title][2]\n",
    "salary = np.random.randint(min_salary, max_salary)\n",
    "print(salary)"
   ]
  },
  {
   "cell_type": "code",
   "execution_count": null,
   "metadata": {},
   "outputs": [],
   "source": [
    "np.random.seed(256)\n",
    "M = ['Married','Single','Divorced']\n",
    "#source:https://www.cso.ie/en/releasesandpublications/ep/p-cp2tc/cp2pdm/\n",
    "data['MARITAL STATUS']= np.random.choice(M, 200, p=[0.40,0.40,0.20])\n",
    "data"
   ]
  },
  {
   "cell_type": "code",
   "execution_count": null,
   "metadata": {},
   "outputs": [],
   "source": [
    "jobs = {\n",
    "    # 'title': (p, min salary, max salary)\n",
    "    'developer': (0.4, 40000, 55000),\n",
    "    'business manager': (0.1, 70000, 85000),\n",
    "    'staff': (0.4, 25000, 45000),\n",
    "    'senior developer': (0.1, 55000, 75000),\n",
    "}\n",
    "\n",
    "titles = [title for title in jobs.keys()]\n",
    "p = [job[0] for job in jobs.values()]\n",
    "title = np.random.choice(titles, size=1, p=p)[0]\n",
    "\n",
    "min_salary = jobs[title][1]\n",
    "max_salary = jobs[title][2]\n",
    "salary = np.random.randint(min_salary, max_salary)\n",
    "print(salary)"
   ]
  },
  {
   "cell_type": "markdown",
   "metadata": {},
   "source": [
    "significant divide in earnings from county to county.\n",
    "\n",
    "The Central Statistics Office (CSO) numbers show that the average income for Irish households stood at €45,256 in 2016.\n",
    "\n",
    "The Dublin coastal town of Malahide had the highest average income of €78,631 of all 41 towns in the country with a population of 10,000 or over.\n",
    "\n",
    "Celbridge in Co Kildare had the second highest at €64,877 while Maynooth was third at €64,529. The towns with the lowest average incomes were Longford at €29,224, Enniscorthy, Co Wexford, at €31,049 and Ballina, Co Mayo, with €32,779.\n",
    "\n",
    "Dublin City had the highest earned income per person at €39,999, followed by Dún Laoghaire-Rathdown, €37,117, and Cork City, €34,317.\n",
    "\n",
    "The lowest earned incomes per person by county were in Donegal at €24,626, Monaghan at €24,903 and Leitrim at €25,962. The figures showed that 42.3pc of households had two or more people earning an income, while 30.1pc had just one member earning a wage."
   ]
  },
  {
   "cell_type": "markdown",
   "metadata": {},
   "source": [
    "#An average of 27pc of households throughout the country had no income earners at all\n",
    "\n",
    "#Social welfare payments to people of working age made up more than half of the income in 13.7pc of households \n",
    "#while the State pension formed the majority of income in 12.9pc.\n",
    "#This gave a total of 26.6pc of households where social welfare made up more than half of household income in Ireland in 2016.\n",
    "#Households where the occupants were in the medical, finance, legal and IT professions enjoyed the highest incomes, \n",
    "#while farmers, care workers and home carers earned under €30,000.\n",
    "#gender\n",
    "#The data also showed a significant gender gap in some professions. \n",
    "#In the financial managers and directors' sector, female income was €60,126 compared with €94,500 for males. \n",
    "#In contrast, the primary and nursery teaching professions had the smallest gender gaps.\n",
    "#Travel\n",
    "#The CSO revealed that those who travel farthest to work also earn the most. \n",
    "#The average worker driving less than 30 minutes to work earns €32,004 a year,\n",
    "#compared with €41,495 for those travelling more than 30 minutes.\n",
    "# education \n",
    "#Those who described their health as \"very bad\" earned an average of €11,700, \n",
    "#but those who earned more than €27,579 reported their health as \"very good\".\n",
    "#source: https://www.independent.ie/business/personal-finance/latest-news/great-divide-in-household-income-across-the-country-is-laid-bare-38239841.html\n"
   ]
  },
  {
   "cell_type": "markdown",
   "metadata": {},
   "source": [
    "# Reference\n",
    "1. https://www.cso.ie/en/releasesandpublications/ep/p-eaads/earningsanalysisusingadministrativedatasources2018/\n",
    "2. Education Attainment Report 2019 online available at https://www.cso.ie/en/releasesandpublications/er/eda/educationalattainmentthematicreport2019/ accessed on 04/12/2019\n",
    "3. Great divide in household income across the country is laid bare online available at  https://www.independent.ie/business/personal-finance/latest-news/great-divide-in-household-income-across-the-country-is-laid-bare-38239841.html accessed on 05/12/2019\n",
    "4. iterate over pandas rows and set column values based on values in other column available online at\n",
    "https://stackoverflow.com/questions/55114954/iterate-over-pandas-rows-and-set-column-values-based-on-values-in-other-column accessed on 06/12/2019\n",
    "5. Barry, M.M., Van Lente, E., Molcho. M., Morgan, K., McGee, H., Conroy, R.M., Watson, D., Shelley, E. and Perry, I. (2009) SLÁN 2007: Survey of Lifestyle, Attitudes and Nutrition in Ireland. Mental Health and Social Well-being Report, Department of Health and Children. Dublin: The Stationery Office."
   ]
  },
  {
   "cell_type": "code",
   "execution_count": null,
   "metadata": {},
   "outputs": [],
   "source": []
  }
 ],
 "metadata": {
  "kernelspec": {
   "display_name": "Python 3",
   "language": "python",
   "name": "python3"
  },
  "language_info": {
   "codemirror_mode": {
    "name": "ipython",
    "version": 3
   },
   "file_extension": ".py",
   "mimetype": "text/x-python",
   "name": "python",
   "nbconvert_exporter": "python",
   "pygments_lexer": "ipython3",
   "version": "3.7.1"
  }
 },
 "nbformat": 4,
 "nbformat_minor": 2
}
