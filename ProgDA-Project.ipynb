{
 "cells": [
  {
   "cell_type": "markdown",
   "metadata": {},
   "source": [
    "# Module: Programming for Data Analysis\n",
    "\n",
    "# Project 2019\n",
    "\n",
    "# Lecturer: Brian McGinley"
   ]
  },
  {
   "cell_type": "markdown",
   "metadata": {},
   "source": [
    "## Introduction\n",
    " The Objective of this project is\n",
    " \n",
    "    - Choose a real-world phenomenon that can be measured and for which you could collect at least one-hundred data points across at least four diﬀerent variables. \n",
    "    - Investigate the types of variables involved, their likely distributions, and their relationships with each other.\n",
    "    - Synthesise/simulate a data set as closely matching their properties as possible.\n",
    "    - Detail research and implement the simulation in a Jupyter notebook – the data set itself can simply be displayed in an output cell within the notebook."
   ]
  },
  {
   "cell_type": "markdown",
   "metadata": {},
   "source": [
    "## Real-world phenomenon "
   ]
  },
  {
   "cell_type": "markdown",
   "metadata": {},
   "source": [
    "I decide to look at the factors effecting salaries of age 20 - 60\n",
    "\n",
    "column in dataset\n",
    "\n",
    "\n",
    "Gender:\n",
    "Age:\n",
    "Education:\n",
    "Occupation:\n",
    "Experience\n",
    "Income:\n",
    "Living Area:(rural,Urban)\n",
    "Time to Travel to Work:\n",
    "General Health:"
   ]
  },
  {
   "cell_type": "markdown",
   "metadata": {},
   "source": [
    "we  have to collect the data of 200  young people I decide to have 50% males and 50% females "
   ]
  },
  {
   "cell_type": "code",
   "execution_count": 8,
   "metadata": {},
   "outputs": [],
   "source": [
    "#import libraries\n",
    "import seaborn as sns\n",
    "import pandas as pd\n",
    "import numpy as np\n",
    "import matplotlib.pyplot as plt"
   ]
  },
  {
   "cell_type": "code",
   "execution_count": 59,
   "metadata": {},
   "outputs": [
    {
     "data": {
      "text/html": [
       "<div>\n",
       "<style scoped>\n",
       "    .dataframe tbody tr th:only-of-type {\n",
       "        vertical-align: middle;\n",
       "    }\n",
       "\n",
       "    .dataframe tbody tr th {\n",
       "        vertical-align: top;\n",
       "    }\n",
       "\n",
       "    .dataframe thead th {\n",
       "        text-align: right;\n",
       "    }\n",
       "</style>\n",
       "<table border=\"1\" class=\"dataframe\">\n",
       "  <thead>\n",
       "    <tr style=\"text-align: right;\">\n",
       "      <th></th>\n",
       "      <th>GENDER</th>\n",
       "      <th>AGE</th>\n",
       "      <th>EDUCATION</th>\n",
       "      <th>OCCUPATION</th>\n",
       "      <th>EXPERIENCE</th>\n",
       "      <th>AREA</th>\n",
       "      <th>INCOME</th>\n",
       "      <th>ETHNIC BACKGROUND</th>\n",
       "      <th>SECTOR</th>\n",
       "      <th>MARITAL STATUS</th>\n",
       "      <th>GENERAL HEALTH</th>\n",
       "    </tr>\n",
       "  </thead>\n",
       "  <tbody>\n",
       "  </tbody>\n",
       "</table>\n",
       "</div>"
      ],
      "text/plain": [
       "Empty DataFrame\n",
       "Columns: [GENDER, AGE, EDUCATION, OCCUPATION, EXPERIENCE, AREA, INCOME, ETHNIC BACKGROUND, SECTOR, MARITAL STATUS, GENERAL HEALTH]\n",
       "Index: []"
      ]
     },
     "execution_count": 59,
     "metadata": {},
     "output_type": "execute_result"
    }
   ],
   "source": [
    "data1 = ['GENDER: Female,Male',\n",
    "         'AGE: years',\n",
    "         'EDUCATION: Level',\n",
    "         'OCCUPATION: ',\n",
    "         'EXPERIENCE: ',\n",
    "         'AREA: 1= Urban, 0= Rural',\n",
    "         'INCOME: Income yearly',\n",
    "         'ETHNIC BACKGROUND: ',\n",
    "         'SECTOR: 0=Other, 1=Manufacturing, 2=Construction',\n",
    "         'MARITAL STATUS: 0= Single , 1 = Married, 3= Divorced ',\n",
    "         'GENERAL HEALTH:  0= Poor, 1=Good,2= Very Good, 3=Excellent'\n",
    "]\n",
    "short_names = [d.split(':')[0] for d in data1]\n",
    "data=pd.DataFrame(columns = short_names)\n",
    "\n",
    "data\n"
   ]
  },
  {
   "cell_type": "code",
   "execution_count": 60,
   "metadata": {},
   "outputs": [
    {
     "data": {
      "text/plain": [
       "0        Male\n",
       "1      Female\n",
       "2        Male\n",
       "3        Male\n",
       "4        Male\n",
       "5        Male\n",
       "6        Male\n",
       "7        Male\n",
       "8      Female\n",
       "9        Male\n",
       "10       Male\n",
       "11     Female\n",
       "12     Female\n",
       "13     Female\n",
       "14     Female\n",
       "15       Male\n",
       "16       Male\n",
       "17       Male\n",
       "18       Male\n",
       "19     Female\n",
       "20     Female\n",
       "21     Female\n",
       "22     Female\n",
       "23     Female\n",
       "24       Male\n",
       "25     Female\n",
       "26     Female\n",
       "27     Female\n",
       "28       Male\n",
       "29       Male\n",
       "        ...  \n",
       "170      Male\n",
       "171      Male\n",
       "172    Female\n",
       "173    Female\n",
       "174      Male\n",
       "175      Male\n",
       "176    Female\n",
       "177      Male\n",
       "178      Male\n",
       "179      Male\n",
       "180      Male\n",
       "181    Female\n",
       "182      Male\n",
       "183      Male\n",
       "184    Female\n",
       "185    Female\n",
       "186    Female\n",
       "187    Female\n",
       "188    Female\n",
       "189    Female\n",
       "190    Female\n",
       "191      Male\n",
       "192    Female\n",
       "193      Male\n",
       "194      Male\n",
       "195      Male\n",
       "196    Female\n",
       "197      Male\n",
       "198      Male\n",
       "199      Male\n",
       "Name: GENDER, Length: 200, dtype: object"
      ]
     },
     "execution_count": 60,
     "metadata": {},
     "output_type": "execute_result"
    }
   ],
   "source": [
    "np.random.seed(256) # Set the random seed\n",
    "a=['Male','Female']\n",
    "data['GENDER']= np.random.choice(a, 200, p=[0.5,0.5])\n",
    "\n",
    "data['GENDER']"
   ]
  },
  {
   "cell_type": "code",
   "execution_count": 31,
   "metadata": {},
   "outputs": [
    {
     "data": {
      "text/plain": [
       "<matplotlib.axes._subplots.AxesSubplot at 0x24209f5bbe0>"
      ]
     },
     "execution_count": 31,
     "metadata": {},
     "output_type": "execute_result"
    },
    {
     "data": {
      "image/png": "[encoded data removed]",
      "text/plain": [
       "<Figure size 432x288 with 1 Axes>"
      ]
     },
     "metadata": {
      "needs_background": "light"
     },
     "output_type": "display_data"
    }
   ],
   "source": [
    "sns.countplot(x=data['GENDER'])"
   ]
  },
  {
   "cell_type": "code",
   "execution_count": 65,
   "metadata": {},
   "outputs": [
    {
     "data": {
      "text/plain": [
       "(array([22., 18., 18., 18., 15., 21., 18., 19., 28., 23.]),\n",
       " array([25. , 28.9, 32.8, 36.7, 40.6, 44.5, 48.4, 52.3, 56.2, 60.1, 64. ]),\n",
       " <a list of 10 Patch objects>)"
      ]
     },
     "execution_count": 65,
     "metadata": {},
     "output_type": "execute_result"
    },
    {
     "data": {
      "image/png": "[encoded data removed]",
      "text/plain": [
       "<Figure size 432x288 with 1 Axes>"
      ]
     },
     "metadata": {
      "needs_background": "light"
     },
     "output_type": "display_data"
    }
   ],
   "source": [
    "np.random.seed(256) # Set the random seed\n",
    "data['AGE'] = np.random.randint(25,65, size= 200)\n",
    "#data = data.astype({\"AGE\": int})\n",
    "plt.hist(data['AGE'])"
   ]
  },
  {
   "cell_type": "code",
   "execution_count": 62,
   "metadata": {},
   "outputs": [
    {
     "name": "stdout",
     "output_type": "stream",
     "text": [
      "     GENDER  AGE EDUCATION OCCUPATION EXPERIENCE AREA INCOME  \\\n",
      "0      Male   52       NaN        NaN        NaN  NaN    NaN   \n",
      "1    Female   59       NaN        NaN        NaN  NaN    NaN   \n",
      "2      Male   21       NaN        NaN        NaN  NaN    NaN   \n",
      "3      Male   45       NaN        NaN        NaN  NaN    NaN   \n",
      "4      Male   58       NaN        NaN        NaN  NaN    NaN   \n",
      "5      Male   43       NaN        NaN        NaN  NaN    NaN   \n",
      "6      Male   22       NaN        NaN        NaN  NaN    NaN   \n",
      "7      Male   44       NaN        NaN        NaN  NaN    NaN   \n",
      "8    Female   27       NaN        NaN        NaN  NaN    NaN   \n",
      "9      Male   56       NaN        NaN        NaN  NaN    NaN   \n",
      "10     Male   26       NaN        NaN        NaN  NaN    NaN   \n",
      "11   Female   56       NaN        NaN        NaN  NaN    NaN   \n",
      "12   Female   54       NaN        NaN        NaN  NaN    NaN   \n",
      "13   Female   34       NaN        NaN        NaN  NaN    NaN   \n",
      "14   Female   52       NaN        NaN        NaN  NaN    NaN   \n",
      "15     Male   59       NaN        NaN        NaN  NaN    NaN   \n",
      "16     Male   29       NaN        NaN        NaN  NaN    NaN   \n",
      "17     Male   22       NaN        NaN        NaN  NaN    NaN   \n",
      "18     Male   20       NaN        NaN        NaN  NaN    NaN   \n",
      "19   Female   45       NaN        NaN        NaN  NaN    NaN   \n",
      "20   Female   35       NaN        NaN        NaN  NaN    NaN   \n",
      "21   Female   53       NaN        NaN        NaN  NaN    NaN   \n",
      "22   Female   23       NaN        NaN        NaN  NaN    NaN   \n",
      "23   Female   56       NaN        NaN        NaN  NaN    NaN   \n",
      "24     Male   29       NaN        NaN        NaN  NaN    NaN   \n",
      "25   Female   54       NaN        NaN        NaN  NaN    NaN   \n",
      "26   Female   24       NaN        NaN        NaN  NaN    NaN   \n",
      "27   Female   53       NaN        NaN        NaN  NaN    NaN   \n",
      "28     Male   42       NaN        NaN        NaN  NaN    NaN   \n",
      "29     Male   42       NaN        NaN        NaN  NaN    NaN   \n",
      "..      ...  ...       ...        ...        ...  ...    ...   \n",
      "170    Male   37       NaN        NaN        NaN  NaN    NaN   \n",
      "171    Male   40       NaN        NaN        NaN  NaN    NaN   \n",
      "172  Female   39       NaN        NaN        NaN  NaN    NaN   \n",
      "173  Female   43       NaN        NaN        NaN  NaN    NaN   \n",
      "174    Male   56       NaN        NaN        NaN  NaN    NaN   \n",
      "175    Male   58       NaN        NaN        NaN  NaN    NaN   \n",
      "176  Female   37       NaN        NaN        NaN  NaN    NaN   \n",
      "177    Male   45       NaN        NaN        NaN  NaN    NaN   \n",
      "178    Male   29       NaN        NaN        NaN  NaN    NaN   \n",
      "179    Male   25       NaN        NaN        NaN  NaN    NaN   \n",
      "180    Male   33       NaN        NaN        NaN  NaN    NaN   \n",
      "181  Female   41       NaN        NaN        NaN  NaN    NaN   \n",
      "182    Male   54       NaN        NaN        NaN  NaN    NaN   \n",
      "183    Male   52       NaN        NaN        NaN  NaN    NaN   \n",
      "184  Female   45       NaN        NaN        NaN  NaN    NaN   \n",
      "185  Female   46       NaN        NaN        NaN  NaN    NaN   \n",
      "186  Female   36       NaN        NaN        NaN  NaN    NaN   \n",
      "187  Female   57       NaN        NaN        NaN  NaN    NaN   \n",
      "188  Female   58       NaN        NaN        NaN  NaN    NaN   \n",
      "189  Female   32       NaN        NaN        NaN  NaN    NaN   \n",
      "190  Female   54       NaN        NaN        NaN  NaN    NaN   \n",
      "191    Male   35       NaN        NaN        NaN  NaN    NaN   \n",
      "192  Female   20       NaN        NaN        NaN  NaN    NaN   \n",
      "193    Male   39       NaN        NaN        NaN  NaN    NaN   \n",
      "194    Male   39       NaN        NaN        NaN  NaN    NaN   \n",
      "195    Male   56       NaN        NaN        NaN  NaN    NaN   \n",
      "196  Female   40       NaN        NaN        NaN  NaN    NaN   \n",
      "197    Male   20       NaN        NaN        NaN  NaN    NaN   \n",
      "198    Male   34       NaN        NaN        NaN  NaN    NaN   \n",
      "199    Male   25       NaN        NaN        NaN  NaN    NaN   \n",
      "\n",
      "    ETHNIC BACKGROUND SECTOR MARITAL STATUS GENERAL HEALTH  \n",
      "0                 NaN    NaN            NaN            NaN  \n",
      "1                 NaN    NaN            NaN            NaN  \n",
      "2                 NaN    NaN            NaN            NaN  \n",
      "3                 NaN    NaN            NaN            NaN  \n",
      "4                 NaN    NaN            NaN            NaN  \n",
      "5                 NaN    NaN            NaN            NaN  \n",
      "6                 NaN    NaN            NaN            NaN  \n",
      "7                 NaN    NaN            NaN            NaN  \n",
      "8                 NaN    NaN            NaN            NaN  \n",
      "9                 NaN    NaN            NaN            NaN  \n",
      "10                NaN    NaN            NaN            NaN  \n",
      "11                NaN    NaN            NaN            NaN  \n",
      "12                NaN    NaN            NaN            NaN  \n",
      "13                NaN    NaN            NaN            NaN  \n",
      "14                NaN    NaN            NaN            NaN  \n",
      "15                NaN    NaN            NaN            NaN  \n",
      "16                NaN    NaN            NaN            NaN  \n",
      "17                NaN    NaN            NaN            NaN  \n",
      "18                NaN    NaN            NaN            NaN  \n",
      "19                NaN    NaN            NaN            NaN  \n",
      "20                NaN    NaN            NaN            NaN  \n",
      "21                NaN    NaN            NaN            NaN  \n",
      "22                NaN    NaN            NaN            NaN  \n",
      "23                NaN    NaN            NaN            NaN  \n",
      "24                NaN    NaN            NaN            NaN  \n",
      "25                NaN    NaN            NaN            NaN  \n",
      "26                NaN    NaN            NaN            NaN  \n",
      "27                NaN    NaN            NaN            NaN  \n",
      "28                NaN    NaN            NaN            NaN  \n",
      "29                NaN    NaN            NaN            NaN  \n",
      "..                ...    ...            ...            ...  \n",
      "170               NaN    NaN            NaN            NaN  \n",
      "171               NaN    NaN            NaN            NaN  \n",
      "172               NaN    NaN            NaN            NaN  \n",
      "173               NaN    NaN            NaN            NaN  \n",
      "174               NaN    NaN            NaN            NaN  \n",
      "175               NaN    NaN            NaN            NaN  \n",
      "176               NaN    NaN            NaN            NaN  \n",
      "177               NaN    NaN            NaN            NaN  \n",
      "178               NaN    NaN            NaN            NaN  \n",
      "179               NaN    NaN            NaN            NaN  \n",
      "180               NaN    NaN            NaN            NaN  \n",
      "181               NaN    NaN            NaN            NaN  \n",
      "182               NaN    NaN            NaN            NaN  \n",
      "183               NaN    NaN            NaN            NaN  \n",
      "184               NaN    NaN            NaN            NaN  \n",
      "185               NaN    NaN            NaN            NaN  \n",
      "186               NaN    NaN            NaN            NaN  \n",
      "187               NaN    NaN            NaN            NaN  \n",
      "188               NaN    NaN            NaN            NaN  \n",
      "189               NaN    NaN            NaN            NaN  \n",
      "190               NaN    NaN            NaN            NaN  \n",
      "191               NaN    NaN            NaN            NaN  \n",
      "192               NaN    NaN            NaN            NaN  \n",
      "193               NaN    NaN            NaN            NaN  \n",
      "194               NaN    NaN            NaN            NaN  \n",
      "195               NaN    NaN            NaN            NaN  \n",
      "196               NaN    NaN            NaN            NaN  \n",
      "197               NaN    NaN            NaN            NaN  \n",
      "198               NaN    NaN            NaN            NaN  \n",
      "199               NaN    NaN            NaN            NaN  \n",
      "\n",
      "[200 rows x 11 columns]\n"
     ]
    }
   ],
   "source": [
    "print(data)"
   ]
  },
  {
   "cell_type": "code",
   "execution_count": 67,
   "metadata": {},
   "outputs": [
    {
     "name": "stdout",
     "output_type": "stream",
     "text": [
      "42416\n"
     ]
    }
   ],
   "source": [
    "jobs = {\n",
    "    # 'title': (p, min salary, max salary)\n",
    "    'developer': (0.4, 40000, 55000),\n",
    "    'business manager': (0.1, 70000, 85000),\n",
    "    'staff': (0.4, 25000, 45000),\n",
    "    'senior developer': (0.1, 55000, 75000),\n",
    "}\n",
    "\n",
    "titles = [title for title in jobs.keys()]\n",
    "p = [job[0] for job in jobs.values()]\n",
    "title = np.random.choice(titles, size=1, p=p)[0]\n",
    "\n",
    "min_salary = jobs[title][1]\n",
    "max_salary = jobs[title][2]\n",
    "salary = np.random.randint(min_salary, max_salary)\n",
    "print(salary)"
   ]
  },
  {
   "cell_type": "markdown",
   "metadata": {},
   "source": [
    "significant divide in earnings from county to county.\n",
    "\n",
    "The Central Statistics Office (CSO) numbers show that the average income for Irish households stood at €45,256 in 2016.\n",
    "\n",
    "The Dublin coastal town of Malahide had the highest average income of €78,631 of all 41 towns in the country with a population of 10,000 or over.\n",
    "\n",
    "Celbridge in Co Kildare had the second highest at €64,877 while Maynooth was third at €64,529. The towns with the lowest average incomes were Longford at €29,224, Enniscorthy, Co Wexford, at €31,049 and Ballina, Co Mayo, with €32,779.\n",
    "\n",
    "Dublin City had the highest earned income per person at €39,999, followed by Dún Laoghaire-Rathdown, €37,117, and Cork City, €34,317.\n",
    "\n",
    "The lowest earned incomes per person by county were in Donegal at €24,626, Monaghan at €24,903 and Leitrim at €25,962. The figures showed that 42.3pc of households had two or more people earning an income, while 30.1pc had just one member earning a wage."
   ]
  },
  {
   "cell_type": "code",
   "execution_count": 57,
   "metadata": {},
   "outputs": [
    {
     "ename": "KeyError",
     "evalue": "'INCOME'",
     "output_type": "error",
     "traceback": [
      "\u001b[1;31m---------------------------------------------------------------------------\u001b[0m",
      "\u001b[1;31mKeyError\u001b[0m                                  Traceback (most recent call last)",
      "\u001b[1;32m~\\Anaconda3\\lib\\site-packages\\pandas\\core\\indexes\\base.py\u001b[0m in \u001b[0;36mget_loc\u001b[1;34m(self, key, method, tolerance)\u001b[0m\n\u001b[0;32m   3077\u001b[0m             \u001b[1;32mtry\u001b[0m\u001b[1;33m:\u001b[0m\u001b[1;33m\u001b[0m\u001b[1;33m\u001b[0m\u001b[0m\n\u001b[1;32m-> 3078\u001b[1;33m                 \u001b[1;32mreturn\u001b[0m \u001b[0mself\u001b[0m\u001b[1;33m.\u001b[0m\u001b[0m_engine\u001b[0m\u001b[1;33m.\u001b[0m\u001b[0mget_loc\u001b[0m\u001b[1;33m(\u001b[0m\u001b[0mkey\u001b[0m\u001b[1;33m)\u001b[0m\u001b[1;33m\u001b[0m\u001b[1;33m\u001b[0m\u001b[0m\n\u001b[0m\u001b[0;32m   3079\u001b[0m             \u001b[1;32mexcept\u001b[0m \u001b[0mKeyError\u001b[0m\u001b[1;33m:\u001b[0m\u001b[1;33m\u001b[0m\u001b[1;33m\u001b[0m\u001b[0m\n",
      "\u001b[1;32mpandas\\_libs\\index.pyx\u001b[0m in \u001b[0;36mpandas._libs.index.IndexEngine.get_loc\u001b[1;34m()\u001b[0m\n",
      "\u001b[1;32mpandas\\_libs\\index.pyx\u001b[0m in \u001b[0;36mpandas._libs.index.IndexEngine.get_loc\u001b[1;34m()\u001b[0m\n",
      "\u001b[1;32mpandas\\_libs\\hashtable_class_helper.pxi\u001b[0m in \u001b[0;36mpandas._libs.hashtable.PyObjectHashTable.get_item\u001b[1;34m()\u001b[0m\n",
      "\u001b[1;32mpandas\\_libs\\hashtable_class_helper.pxi\u001b[0m in \u001b[0;36mpandas._libs.hashtable.PyObjectHashTable.get_item\u001b[1;34m()\u001b[0m\n",
      "\u001b[1;31mKeyError\u001b[0m: 'INCOME'",
      "\nDuring handling of the above exception, another exception occurred:\n",
      "\u001b[1;31mKeyError\u001b[0m                                  Traceback (most recent call last)",
      "\u001b[1;32m<ipython-input-57-8871da0ae7fa>\u001b[0m in \u001b[0;36m<module>\u001b[1;34m\u001b[0m\n\u001b[0;32m      1\u001b[0m \u001b[1;31m# education\u001b[0m\u001b[1;33m\u001b[0m\u001b[1;33m\u001b[0m\u001b[1;33m\u001b[0m\u001b[0m\n\u001b[0;32m      2\u001b[0m \u001b[1;33m\u001b[0m\u001b[0m\n\u001b[1;32m----> 3\u001b[1;33m \u001b[0mdata\u001b[0m\u001b[1;33m[\u001b[0m\u001b[1;34m'INCOME'\u001b[0m\u001b[1;33m]\u001b[0m \u001b[1;33m=\u001b[0m \u001b[0mnp\u001b[0m\u001b[1;33m.\u001b[0m\u001b[0mlog10\u001b[0m\u001b[1;33m(\u001b[0m\u001b[0mdata\u001b[0m\u001b[1;33m[\u001b[0m\u001b[1;34m'INCOME'\u001b[0m\u001b[1;33m]\u001b[0m\u001b[1;33m)\u001b[0m\u001b[1;33m\u001b[0m\u001b[1;33m\u001b[0m\u001b[0m\n\u001b[0m",
      "\u001b[1;32m~\\Anaconda3\\lib\\site-packages\\pandas\\core\\frame.py\u001b[0m in \u001b[0;36m__getitem__\u001b[1;34m(self, key)\u001b[0m\n\u001b[0;32m   2686\u001b[0m             \u001b[1;32mreturn\u001b[0m \u001b[0mself\u001b[0m\u001b[1;33m.\u001b[0m\u001b[0m_getitem_multilevel\u001b[0m\u001b[1;33m(\u001b[0m\u001b[0mkey\u001b[0m\u001b[1;33m)\u001b[0m\u001b[1;33m\u001b[0m\u001b[1;33m\u001b[0m\u001b[0m\n\u001b[0;32m   2687\u001b[0m         \u001b[1;32melse\u001b[0m\u001b[1;33m:\u001b[0m\u001b[1;33m\u001b[0m\u001b[1;33m\u001b[0m\u001b[0m\n\u001b[1;32m-> 2688\u001b[1;33m             \u001b[1;32mreturn\u001b[0m \u001b[0mself\u001b[0m\u001b[1;33m.\u001b[0m\u001b[0m_getitem_column\u001b[0m\u001b[1;33m(\u001b[0m\u001b[0mkey\u001b[0m\u001b[1;33m)\u001b[0m\u001b[1;33m\u001b[0m\u001b[1;33m\u001b[0m\u001b[0m\n\u001b[0m\u001b[0;32m   2689\u001b[0m \u001b[1;33m\u001b[0m\u001b[0m\n\u001b[0;32m   2690\u001b[0m     \u001b[1;32mdef\u001b[0m \u001b[0m_getitem_column\u001b[0m\u001b[1;33m(\u001b[0m\u001b[0mself\u001b[0m\u001b[1;33m,\u001b[0m \u001b[0mkey\u001b[0m\u001b[1;33m)\u001b[0m\u001b[1;33m:\u001b[0m\u001b[1;33m\u001b[0m\u001b[1;33m\u001b[0m\u001b[0m\n",
      "\u001b[1;32m~\\Anaconda3\\lib\\site-packages\\pandas\\core\\frame.py\u001b[0m in \u001b[0;36m_getitem_column\u001b[1;34m(self, key)\u001b[0m\n\u001b[0;32m   2693\u001b[0m         \u001b[1;31m# get column\u001b[0m\u001b[1;33m\u001b[0m\u001b[1;33m\u001b[0m\u001b[1;33m\u001b[0m\u001b[0m\n\u001b[0;32m   2694\u001b[0m         \u001b[1;32mif\u001b[0m \u001b[0mself\u001b[0m\u001b[1;33m.\u001b[0m\u001b[0mcolumns\u001b[0m\u001b[1;33m.\u001b[0m\u001b[0mis_unique\u001b[0m\u001b[1;33m:\u001b[0m\u001b[1;33m\u001b[0m\u001b[1;33m\u001b[0m\u001b[0m\n\u001b[1;32m-> 2695\u001b[1;33m             \u001b[1;32mreturn\u001b[0m \u001b[0mself\u001b[0m\u001b[1;33m.\u001b[0m\u001b[0m_get_item_cache\u001b[0m\u001b[1;33m(\u001b[0m\u001b[0mkey\u001b[0m\u001b[1;33m)\u001b[0m\u001b[1;33m\u001b[0m\u001b[1;33m\u001b[0m\u001b[0m\n\u001b[0m\u001b[0;32m   2696\u001b[0m \u001b[1;33m\u001b[0m\u001b[0m\n\u001b[0;32m   2697\u001b[0m         \u001b[1;31m# duplicate columns & possible reduce dimensionality\u001b[0m\u001b[1;33m\u001b[0m\u001b[1;33m\u001b[0m\u001b[1;33m\u001b[0m\u001b[0m\n",
      "\u001b[1;32m~\\Anaconda3\\lib\\site-packages\\pandas\\core\\generic.py\u001b[0m in \u001b[0;36m_get_item_cache\u001b[1;34m(self, item)\u001b[0m\n\u001b[0;32m   2487\u001b[0m         \u001b[0mres\u001b[0m \u001b[1;33m=\u001b[0m \u001b[0mcache\u001b[0m\u001b[1;33m.\u001b[0m\u001b[0mget\u001b[0m\u001b[1;33m(\u001b[0m\u001b[0mitem\u001b[0m\u001b[1;33m)\u001b[0m\u001b[1;33m\u001b[0m\u001b[1;33m\u001b[0m\u001b[0m\n\u001b[0;32m   2488\u001b[0m         \u001b[1;32mif\u001b[0m \u001b[0mres\u001b[0m \u001b[1;32mis\u001b[0m \u001b[1;32mNone\u001b[0m\u001b[1;33m:\u001b[0m\u001b[1;33m\u001b[0m\u001b[1;33m\u001b[0m\u001b[0m\n\u001b[1;32m-> 2489\u001b[1;33m             \u001b[0mvalues\u001b[0m \u001b[1;33m=\u001b[0m \u001b[0mself\u001b[0m\u001b[1;33m.\u001b[0m\u001b[0m_data\u001b[0m\u001b[1;33m.\u001b[0m\u001b[0mget\u001b[0m\u001b[1;33m(\u001b[0m\u001b[0mitem\u001b[0m\u001b[1;33m)\u001b[0m\u001b[1;33m\u001b[0m\u001b[1;33m\u001b[0m\u001b[0m\n\u001b[0m\u001b[0;32m   2490\u001b[0m             \u001b[0mres\u001b[0m \u001b[1;33m=\u001b[0m \u001b[0mself\u001b[0m\u001b[1;33m.\u001b[0m\u001b[0m_box_item_values\u001b[0m\u001b[1;33m(\u001b[0m\u001b[0mitem\u001b[0m\u001b[1;33m,\u001b[0m \u001b[0mvalues\u001b[0m\u001b[1;33m)\u001b[0m\u001b[1;33m\u001b[0m\u001b[1;33m\u001b[0m\u001b[0m\n\u001b[0;32m   2491\u001b[0m             \u001b[0mcache\u001b[0m\u001b[1;33m[\u001b[0m\u001b[0mitem\u001b[0m\u001b[1;33m]\u001b[0m \u001b[1;33m=\u001b[0m \u001b[0mres\u001b[0m\u001b[1;33m\u001b[0m\u001b[1;33m\u001b[0m\u001b[0m\n",
      "\u001b[1;32m~\\Anaconda3\\lib\\site-packages\\pandas\\core\\internals.py\u001b[0m in \u001b[0;36mget\u001b[1;34m(self, item, fastpath)\u001b[0m\n\u001b[0;32m   4113\u001b[0m \u001b[1;33m\u001b[0m\u001b[0m\n\u001b[0;32m   4114\u001b[0m             \u001b[1;32mif\u001b[0m \u001b[1;32mnot\u001b[0m \u001b[0misna\u001b[0m\u001b[1;33m(\u001b[0m\u001b[0mitem\u001b[0m\u001b[1;33m)\u001b[0m\u001b[1;33m:\u001b[0m\u001b[1;33m\u001b[0m\u001b[1;33m\u001b[0m\u001b[0m\n\u001b[1;32m-> 4115\u001b[1;33m                 \u001b[0mloc\u001b[0m \u001b[1;33m=\u001b[0m \u001b[0mself\u001b[0m\u001b[1;33m.\u001b[0m\u001b[0mitems\u001b[0m\u001b[1;33m.\u001b[0m\u001b[0mget_loc\u001b[0m\u001b[1;33m(\u001b[0m\u001b[0mitem\u001b[0m\u001b[1;33m)\u001b[0m\u001b[1;33m\u001b[0m\u001b[1;33m\u001b[0m\u001b[0m\n\u001b[0m\u001b[0;32m   4116\u001b[0m             \u001b[1;32melse\u001b[0m\u001b[1;33m:\u001b[0m\u001b[1;33m\u001b[0m\u001b[1;33m\u001b[0m\u001b[0m\n\u001b[0;32m   4117\u001b[0m                 \u001b[0mindexer\u001b[0m \u001b[1;33m=\u001b[0m \u001b[0mnp\u001b[0m\u001b[1;33m.\u001b[0m\u001b[0marange\u001b[0m\u001b[1;33m(\u001b[0m\u001b[0mlen\u001b[0m\u001b[1;33m(\u001b[0m\u001b[0mself\u001b[0m\u001b[1;33m.\u001b[0m\u001b[0mitems\u001b[0m\u001b[1;33m)\u001b[0m\u001b[1;33m)\u001b[0m\u001b[1;33m[\u001b[0m\u001b[0misna\u001b[0m\u001b[1;33m(\u001b[0m\u001b[0mself\u001b[0m\u001b[1;33m.\u001b[0m\u001b[0mitems\u001b[0m\u001b[1;33m)\u001b[0m\u001b[1;33m]\u001b[0m\u001b[1;33m\u001b[0m\u001b[1;33m\u001b[0m\u001b[0m\n",
      "\u001b[1;32m~\\Anaconda3\\lib\\site-packages\\pandas\\core\\indexes\\base.py\u001b[0m in \u001b[0;36mget_loc\u001b[1;34m(self, key, method, tolerance)\u001b[0m\n\u001b[0;32m   3078\u001b[0m                 \u001b[1;32mreturn\u001b[0m \u001b[0mself\u001b[0m\u001b[1;33m.\u001b[0m\u001b[0m_engine\u001b[0m\u001b[1;33m.\u001b[0m\u001b[0mget_loc\u001b[0m\u001b[1;33m(\u001b[0m\u001b[0mkey\u001b[0m\u001b[1;33m)\u001b[0m\u001b[1;33m\u001b[0m\u001b[1;33m\u001b[0m\u001b[0m\n\u001b[0;32m   3079\u001b[0m             \u001b[1;32mexcept\u001b[0m \u001b[0mKeyError\u001b[0m\u001b[1;33m:\u001b[0m\u001b[1;33m\u001b[0m\u001b[1;33m\u001b[0m\u001b[0m\n\u001b[1;32m-> 3080\u001b[1;33m                 \u001b[1;32mreturn\u001b[0m \u001b[0mself\u001b[0m\u001b[1;33m.\u001b[0m\u001b[0m_engine\u001b[0m\u001b[1;33m.\u001b[0m\u001b[0mget_loc\u001b[0m\u001b[1;33m(\u001b[0m\u001b[0mself\u001b[0m\u001b[1;33m.\u001b[0m\u001b[0m_maybe_cast_indexer\u001b[0m\u001b[1;33m(\u001b[0m\u001b[0mkey\u001b[0m\u001b[1;33m)\u001b[0m\u001b[1;33m)\u001b[0m\u001b[1;33m\u001b[0m\u001b[1;33m\u001b[0m\u001b[0m\n\u001b[0m\u001b[0;32m   3081\u001b[0m \u001b[1;33m\u001b[0m\u001b[0m\n\u001b[0;32m   3082\u001b[0m         \u001b[0mindexer\u001b[0m \u001b[1;33m=\u001b[0m \u001b[0mself\u001b[0m\u001b[1;33m.\u001b[0m\u001b[0mget_indexer\u001b[0m\u001b[1;33m(\u001b[0m\u001b[1;33m[\u001b[0m\u001b[0mkey\u001b[0m\u001b[1;33m]\u001b[0m\u001b[1;33m,\u001b[0m \u001b[0mmethod\u001b[0m\u001b[1;33m=\u001b[0m\u001b[0mmethod\u001b[0m\u001b[1;33m,\u001b[0m \u001b[0mtolerance\u001b[0m\u001b[1;33m=\u001b[0m\u001b[0mtolerance\u001b[0m\u001b[1;33m)\u001b[0m\u001b[1;33m\u001b[0m\u001b[1;33m\u001b[0m\u001b[0m\n",
      "\u001b[1;32mpandas\\_libs\\index.pyx\u001b[0m in \u001b[0;36mpandas._libs.index.IndexEngine.get_loc\u001b[1;34m()\u001b[0m\n",
      "\u001b[1;32mpandas\\_libs\\index.pyx\u001b[0m in \u001b[0;36mpandas._libs.index.IndexEngine.get_loc\u001b[1;34m()\u001b[0m\n",
      "\u001b[1;32mpandas\\_libs\\hashtable_class_helper.pxi\u001b[0m in \u001b[0;36mpandas._libs.hashtable.PyObjectHashTable.get_item\u001b[1;34m()\u001b[0m\n",
      "\u001b[1;32mpandas\\_libs\\hashtable_class_helper.pxi\u001b[0m in \u001b[0;36mpandas._libs.hashtable.PyObjectHashTable.get_item\u001b[1;34m()\u001b[0m\n",
      "\u001b[1;31mKeyError\u001b[0m: 'INCOME'"
     ]
    }
   ],
   "source": [
    "#An average of 27pc of households throughout the country had no income earners at all\n",
    "\n",
    "#Social welfare payments to people of working age made up more than half of the income in 13.7pc of households \n",
    "#while the State pension formed the majority of income in 12.9pc.\n",
    "#This gave a total of 26.6pc of households where social welfare made up more than half of household income in Ireland in 2016.\n",
    "# Households where the occupants were in the medical, finance, legal and IT professions enjoyed the highest incomes, \n",
    "#while farmers, care workers and home carers earned under €30,000.\n",
    "#gender\n",
    "#The data also showed a significant gender gap in some professions. \n",
    "#In the financial managers and directors' sector, female income was €60,126 compared with €94,500 for males. \n",
    "#In contrast, the primary and nursery teaching professions had the smallest gender gaps.\n",
    "#Travel\n",
    "#The CSO revealed that those who travel farthest to work also earn the most. \n",
    "#The average worker driving less than 30 minutes to work earns €32,004 a year,\n",
    "#compared with €41,495 for those travelling more than 30 minutes.\n",
    "# education \n",
    "#Those who described their health as \"very bad\" earned an average of €11,700, \n",
    "#but those who earned more than €27,579 reported their health as \"very good\".\n",
    "#source: https://www.independent.ie/business/personal-finance/latest-news/great-divide-in-household-income-across-the-country-is-laid-bare-38239841.html\n"
   ]
  },
  {
   "cell_type": "code",
   "execution_count": null,
   "metadata": {},
   "outputs": [],
   "source": []
  }
 ],
 "metadata": {
  "kernelspec": {
   "display_name": "Python 3",
   "language": "python",
   "name": "python3"
  },
  "language_info": {
   "codemirror_mode": {
    "name": "ipython",
    "version": 3
   },
   "file_extension": ".py",
   "mimetype": "text/x-python",
   "name": "python",
   "nbconvert_exporter": "python",
   "pygments_lexer": "ipython3",
   "version": "3.7.1"
  }
 },
 "nbformat": 4,
 "nbformat_minor": 2
}
