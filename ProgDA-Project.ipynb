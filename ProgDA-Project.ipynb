{
 "cells": [
  {
   "cell_type": "markdown",
   "metadata": {},
   "source": [
    "\n",
    " <img src=\"images/logo.jpg\" width=\"240\" height=\"240\" align=\"center\"/>\n",
    " \n",
    "# ProgDA_Project\n",
    "\n",
    "# Module: Programming for Data Analysis\n",
    "\n",
    "# Lecturer: Brian McGinley \n",
    "\n",
    "# Student ID:G00376465"
   ]
  },
  {
   "cell_type": "markdown",
   "metadata": {},
   "source": [
    "## Introduction\n",
    " The Objective of this project is\n",
    " \n",
    "    - Choose a real-world phenomenon that can be measured and for which you could collect at least one-hundred data points across at least four diﬀerent variables. \n",
    "    - Investigate the types of variables involved, their likely distributions, and their relationships with each other.\n",
    "    - Synthesise/simulate a data set as closely matching their properties as possible.\n",
    "    - Detail research and implement the simulation in a Jupyter notebook – the data set itself can simply be displayed in an output cell within the notebook."
   ]
  },
  {
   "cell_type": "markdown",
   "metadata": {},
   "source": [
    "## Real-world phenomenon "
   ]
  },
  {
   "cell_type": "markdown",
   "metadata": {},
   "source": [
    "I decide to look at the sociodemographic factors effecting health of people in Ireland. The link between general health and socio-economic status is well established.I started with CSO.ie statistics and looking at the databases available online.After looking at lots of resources.I decide on the variables that I would like to add in the dataset. As there are so many factors that effect health but I choose few of them.\n",
    "\n",
    "I select following factors for creating the dataset. I use the cso.ie website and slan 2007 report to get statistics about the variables.\n",
    "\n",
    "**Gender:** \n",
    "    <br>It is a  categorical variable with values (Male, Female)\n",
    "    \n",
    "**Age:**\n",
    "    <br>It is a categorical variable\n",
    "\n",
    "**Education:**\n",
    "    <br>It is a  categorical variable with values (Primary, Post Primary, Third Level)\n",
    "    \n",
    "**Medical card & Insurance:**\n",
    "    <br>It is a  categorical variable.\n",
    "    \n",
    "**Work Situation:**\n",
    "    <br>It is a  categorical variable.\n",
    "    \n",
    "**Marital Status:**\n",
    "    <br>It is a  categorical variable with values( Single, Cohabitant, Married, Separated, Divorced, Widowed)\n",
    "    \n",
    "**Residential Area:**\n",
    "     <br>It is a  categorical variable.\n",
    "     \n",
    "**Household Income:**\n",
    "     <br>It is a  numerical variable.\n",
    "     \n",
    "**Social Class:**\n",
    "     <br>It is a  categorical variable."
   ]
  },
  {
   "cell_type": "markdown",
   "metadata": {},
   "source": [
    "## Simulate Dataset"
   ]
  },
  {
   "cell_type": "markdown",
   "metadata": {},
   "source": [
    "### Import Libraries"
   ]
  },
  {
   "cell_type": "code",
   "execution_count": 1,
   "metadata": {},
   "outputs": [],
   "source": [
    "#import libraries\n",
    "#Pandas is a software library for data maniupulation & analysis.\n",
    "import pandas as pd\n",
    "#Numpy is a python library useful for multi-dimensional arrays & matrices, along with functions to operate on arrays.\n",
    "import numpy as np\n",
    "#Visualisation libraries\n",
    "import seaborn as sns\n",
    "import matplotlib.pyplot as plt\n",
    "\n",
    "# set the figure size\n",
    "\n"
   ]
  },
  {
   "cell_type": "code",
   "execution_count": 130,
   "metadata": {},
   "outputs": [
    {
     "data": {
      "text/html": [
       "<div>\n",
       "<style scoped>\n",
       "    .dataframe tbody tr th:only-of-type {\n",
       "        vertical-align: middle;\n",
       "    }\n",
       "\n",
       "    .dataframe tbody tr th {\n",
       "        vertical-align: top;\n",
       "    }\n",
       "\n",
       "    .dataframe thead th {\n",
       "        text-align: right;\n",
       "    }\n",
       "</style>\n",
       "<table border=\"1\" class=\"dataframe\">\n",
       "  <thead>\n",
       "    <tr style=\"text-align: right;\">\n",
       "      <th></th>\n",
       "      <th>GENDER</th>\n",
       "      <th>AGE</th>\n",
       "      <th>EDUCATION</th>\n",
       "      <th>MEDICAL_CARD</th>\n",
       "      <th>WORK_SITUATION</th>\n",
       "      <th>MARITAL_STATUS</th>\n",
       "      <th>AREA</th>\n",
       "      <th>INCOME</th>\n",
       "      <th>SOCIAL_CLASS</th>\n",
       "    </tr>\n",
       "  </thead>\n",
       "  <tbody>\n",
       "  </tbody>\n",
       "</table>\n",
       "</div>"
      ],
      "text/plain": [
       "Empty DataFrame\n",
       "Columns: [GENDER, AGE, EDUCATION, MEDICAL_CARD, WORK_SITUATION, MARITAL_STATUS, AREA, INCOME, SOCIAL_CLASS]\n",
       "Index: []"
      ]
     },
     "execution_count": 130,
     "metadata": {},
     "output_type": "execute_result"
    }
   ],
   "source": [
    "data1 = ['GENDER: Female, Male',\n",
    "         'AGE: years',\n",
    "         'EDUCATION:',\n",
    "         'MEDICAL_CARD',\n",
    "         'WORK_SITUATION: ',\n",
    "         'MARITAL_STATUS: ',\n",
    "         'AREA: ',      \n",
    "         'INCOME: ',\n",
    "         'SOCIAL_CLASS:'\n",
    "]\n",
    "short_names = [d.split(':')[0] for d in data1]\n",
    "#create the dataset\n",
    "data=pd.DataFrame(columns = short_names)\n",
    "\n",
    "data"
   ]
  },
  {
   "cell_type": "markdown",
   "metadata": {},
   "source": [
    "## GENDER\n",
    "\n",
    "Gender is a categorical variable, it has two categories male and female. In this dataset the number of males and females are not equal.\n",
    "\n",
    "numpy.random.choice() is used to generates a random sample from  list gender that has two values ['male','female] .there are many health conditions that vary with gender therefore gender is an important variable."
   ]
  },
  {
   "cell_type": "code",
   "execution_count": 131,
   "metadata": {},
   "outputs": [
    {
     "data": {
      "text/plain": [
       "Female    504\n",
       "Male      496\n",
       "Name: GENDER, dtype: int64"
      ]
     },
     "execution_count": 131,
     "metadata": {},
     "output_type": "execute_result"
    }
   ],
   "source": [
    "np.random.seed(256) # Set the random seed\n",
    "gender=['Male','Female']\n",
    "\n",
    "data['GENDER']= np.random.choice(gender,1000,p=[0.495,0.505])\n",
    "\n",
    "data['GENDER'].value_counts()"
   ]
  },
  {
   "cell_type": "code",
   "execution_count": 132,
   "metadata": {},
   "outputs": [
    {
     "data": {
      "text/plain": [
       "<matplotlib.axes._subplots.AxesSubplot at 0x282c8ac1f28>"
      ]
     },
     "execution_count": 132,
     "metadata": {},
     "output_type": "execute_result"
    },
    {
     "data": {
      "image/png": "[encoded data removed]",
      "text/plain": [
       "<Figure size 432x288 with 1 Axes>"
      ]
     },
     "metadata": {
      "needs_background": "light"
     },
     "output_type": "display_data"
    }
   ],
   "source": [
    "sns.countplot(x=data['GENDER'])"
   ]
  },
  {
   "cell_type": "markdown",
   "metadata": {},
   "source": [
    "## AGE \n",
    "Age column data is a categorical data. \n",
    "\n",
    "To simulate the data for age column use numpy.random.choice  ."
   ]
  },
  {
   "cell_type": "code",
   "execution_count": 133,
   "metadata": {},
   "outputs": [
    {
     "data": {
      "text/plain": [
       "<matplotlib.axes._subplots.AxesSubplot at 0x282c8b0e940>"
      ]
     },
     "execution_count": 133,
     "metadata": {},
     "output_type": "execute_result"
    },
    {
     "data": {
      "image/png": "[encoded data removed]",
      "text/plain": [
       "<Figure size 432x288 with 1 Axes>"
      ]
     },
     "metadata": {
      "needs_background": "light"
     },
     "output_type": "display_data"
    }
   ],
   "source": [
    "np.random.seed(256) # Set the random seed\n",
    "#data['AGE'] = np.random.randint(25,65, size= 1000,dtype='int')# use np.random.randint to generate number between 25-64 from uniform distribution\n",
    "age=['18-29','30-44','45-64','65+']\n",
    "data['AGE'] = np.random.choice(age, 1000, p=[0.25,0.31,0.29,0.15])\n",
    "#data = data.astype({\"AGE\": int})\n",
    "#fig= plt.figure(figsize=(10,6))\n",
    "sns.countplot(data['AGE'])\n",
    "\n",
    "# In first attempt i used the following code as i think of numeric data \n",
    "#but than i changed to categories as i found slan statistics better\n",
    "###data['AGE'] = np.random.randint(25,45, size= 1000,dtype='int')\n"
   ]
  },
  {
   "cell_type": "markdown",
   "metadata": {},
   "source": [
    "## Education\n",
    "Education is very important indicator of socioeconomics class  and health. As people with higher education are more aware of issue like healthy eating ,healthy lifestyle and mental health.\n",
    "the data in the column is correspondent to the cso.ie statisics about education\n",
    "<img src=\"images\\Education.PNG\"  align=\"center\"/>\n",
    "\n",
    "but according to the respondents of slan 2007 report\n",
    "\n"
   ]
  },
  {
   "cell_type": "code",
   "execution_count": 134,
   "metadata": {},
   "outputs": [
    {
     "data": {
      "text/html": [
       "<div>\n",
       "<style scoped>\n",
       "    .dataframe tbody tr th:only-of-type {\n",
       "        vertical-align: middle;\n",
       "    }\n",
       "\n",
       "    .dataframe tbody tr th {\n",
       "        vertical-align: top;\n",
       "    }\n",
       "\n",
       "    .dataframe thead th {\n",
       "        text-align: right;\n",
       "    }\n",
       "</style>\n",
       "<table border=\"1\" class=\"dataframe\">\n",
       "  <thead>\n",
       "    <tr style=\"text-align: right;\">\n",
       "      <th></th>\n",
       "      <th>GENDER</th>\n",
       "      <th>AGE</th>\n",
       "      <th>EDUCATION</th>\n",
       "      <th>MEDICAL_CARD</th>\n",
       "      <th>WORK_SITUATION</th>\n",
       "      <th>MARITAL_STATUS</th>\n",
       "      <th>AREA</th>\n",
       "      <th>INCOME</th>\n",
       "      <th>SOCIAL_CLASS</th>\n",
       "    </tr>\n",
       "  </thead>\n",
       "  <tbody>\n",
       "    <tr>\n",
       "      <th>995</th>\n",
       "      <td>Female</td>\n",
       "      <td>45-64</td>\n",
       "      <td>Post Primary</td>\n",
       "      <td>NaN</td>\n",
       "      <td>NaN</td>\n",
       "      <td>NaN</td>\n",
       "      <td>NaN</td>\n",
       "      <td>NaN</td>\n",
       "      <td>NaN</td>\n",
       "    </tr>\n",
       "    <tr>\n",
       "      <th>996</th>\n",
       "      <td>Female</td>\n",
       "      <td>45-64</td>\n",
       "      <td>Post Primary</td>\n",
       "      <td>NaN</td>\n",
       "      <td>NaN</td>\n",
       "      <td>NaN</td>\n",
       "      <td>NaN</td>\n",
       "      <td>NaN</td>\n",
       "      <td>NaN</td>\n",
       "    </tr>\n",
       "    <tr>\n",
       "      <th>997</th>\n",
       "      <td>Male</td>\n",
       "      <td>30-44</td>\n",
       "      <td>Post Primary</td>\n",
       "      <td>NaN</td>\n",
       "      <td>NaN</td>\n",
       "      <td>NaN</td>\n",
       "      <td>NaN</td>\n",
       "      <td>NaN</td>\n",
       "      <td>NaN</td>\n",
       "    </tr>\n",
       "    <tr>\n",
       "      <th>998</th>\n",
       "      <td>Female</td>\n",
       "      <td>45-64</td>\n",
       "      <td>Third Level</td>\n",
       "      <td>NaN</td>\n",
       "      <td>NaN</td>\n",
       "      <td>NaN</td>\n",
       "      <td>NaN</td>\n",
       "      <td>NaN</td>\n",
       "      <td>NaN</td>\n",
       "    </tr>\n",
       "    <tr>\n",
       "      <th>999</th>\n",
       "      <td>Male</td>\n",
       "      <td>30-44</td>\n",
       "      <td>Post Primary</td>\n",
       "      <td>NaN</td>\n",
       "      <td>NaN</td>\n",
       "      <td>NaN</td>\n",
       "      <td>NaN</td>\n",
       "      <td>NaN</td>\n",
       "      <td>NaN</td>\n",
       "    </tr>\n",
       "  </tbody>\n",
       "</table>\n",
       "</div>"
      ],
      "text/plain": [
       "     GENDER    AGE     EDUCATION MEDICAL_CARD WORK_SITUATION MARITAL_STATUS  \\\n",
       "995  Female  45-64  Post Primary          NaN            NaN            NaN   \n",
       "996  Female  45-64  Post Primary          NaN            NaN            NaN   \n",
       "997    Male  30-44  Post Primary          NaN            NaN            NaN   \n",
       "998  Female  45-64   Third Level          NaN            NaN            NaN   \n",
       "999    Male  30-44  Post Primary          NaN            NaN            NaN   \n",
       "\n",
       "    AREA INCOME SOCIAL_CLASS  \n",
       "995  NaN    NaN          NaN  \n",
       "996  NaN    NaN          NaN  \n",
       "997  NaN    NaN          NaN  \n",
       "998  NaN    NaN          NaN  \n",
       "999  NaN    NaN          NaN  "
      ]
     },
     "execution_count": 134,
     "metadata": {},
     "output_type": "execute_result"
    }
   ],
   "source": [
    "np.random.seed(256)\n",
    "\n",
    "Edu= ['Primary','Post Primary','Third Level']\n",
    "#source: https://www.cso.ie/en/releasesandpublications/er/eda/educationalattainmentthematicreport2019/\n",
    "data['EDUCATION']= np.random.choice(Edu, 1000, p=[0.196,0.44,0.364])\n",
    "data.tail(5)\n"
   ]
  },
  {
   "cell_type": "markdown",
   "metadata": {},
   "source": [
    "## Medical Card and Insurance\n",
    "1. has a Medical card\n",
    "2. has a private Insurance\n",
    "3. Medical card and Insurance\n",
    "4. No Medical card No Insurance"
   ]
  },
  {
   "cell_type": "code",
   "execution_count": 135,
   "metadata": {},
   "outputs": [],
   "source": [
    "np.random.seed(256)\n",
    "\n",
    "medical= ['has a Medical card','has a private Insurance','Medical card and Insurance','No Medical card No Insurance']\n",
    "#source: https://www.cso.ie/en/releasesandpublications/er/eda/educationalattainmentthematicreport2019/\n",
    "data['MEDICAL_CARD']= np.random.choice(medical, 1000, p=[0.32,0.40,0.075,0.205])"
   ]
  },
  {
   "cell_type": "markdown",
   "metadata": {},
   "source": [
    "## Work Situation\n",
    " \n",
    "1. Employee, including apprenticeship or community employment 49.0\n",
    "2. Self-employed 8.5\n",
    "3. Farmer 9.0 \n",
    "4. Student full-time 5.7 \n",
    "5. On State training scheme 0.7 Marital status \n",
    "6. Not in paid employment,  actively looking for a job 3.9\n",
    "7. Long-term sickness or disability 2.8 \n",
    "8. Home duties,  looking after the home \n",
    "9. Retired \n",
    "10. Other \n"
   ]
  },
  {
   "cell_type": "code",
   "execution_count": 144,
   "metadata": {},
   "outputs": [],
   "source": [
    "\n",
    "np.random.seed(256) # Set the random seed\n",
    "emp=['Employee','Self Employed','Farmer','Student full-time','On State training scheme','looking for a job',\n",
    "     'Long-term sickness/disability','Home duties','Retired','Other']\n",
    "data['WORK_SITUATION']= np.random.choice(emp, 1000, p=[0.50,0.089,0.009,0.057,0.007,0.039,0.028,0.165,0.098,0.008])\n"
   ]
  },
  {
   "cell_type": "code",
   "execution_count": 145,
   "metadata": {},
   "outputs": [
    {
     "data": {
      "image/png": "[encoded data removed]",
      "text/plain": [
       "<Figure size 1152x432 with 1 Axes>"
      ]
     },
     "metadata": {
      "needs_background": "light"
     },
     "output_type": "display_data"
    }
   ],
   "source": [
    "fig= plt.figure(figsize=(16,6))\n",
    "sns.countplot(data['WORK_SITUATION'])\n",
    "#sns.distplot(data. == 'Unemployed')\n",
    "plt.show()"
   ]
  },
  {
   "cell_type": "markdown",
   "metadata": {},
   "source": [
    "## Marital Status\n",
    "Marital status is a categorical data column that has values from list ['Single','Cohabiting','Married','Separated','Divorced','Widowed']\n",
    "\n",
    "The percentage is from the cso.ie data source\n",
    "- Single 35.8%\n",
    "- Cohabiting 5.6 %\n",
    "- Married (47.9%)\n",
    "- Separated (2.6%) \n",
    "- Divorced (1.6%)\n",
    "- Widowed (6.6%)\n"
   ]
  },
  {
   "cell_type": "code",
   "execution_count": 138,
   "metadata": {},
   "outputs": [
    {
     "data": {
      "text/plain": [
       "<matplotlib.axes._subplots.AxesSubplot at 0x282c9078898>"
      ]
     },
     "execution_count": 138,
     "metadata": {},
     "output_type": "execute_result"
    },
    {
     "data": {
      "image/png": "[encoded data removed]",
      "text/plain": [
       "<Figure size 432x288 with 1 Axes>"
      ]
     },
     "metadata": {
      "needs_background": "light"
     },
     "output_type": "display_data"
    }
   ],
   "source": [
    "np.random.seed(256) # Set the random seed\n",
    "ms =['Single','Cohabiting','Married','Separated','Divorced','Widowed']\n",
    "data['MARITAL_STATUS']= np.random.choice(ms, 1000, p=[0.358,0.056,0.479,0.026,0.016,0.065])\n",
    "sns.countplot(data['MARITAL_STATUS'])"
   ]
  },
  {
   "cell_type": "markdown",
   "metadata": {},
   "source": [
    "## Residential Location\n",
    "\n",
    "<img src=\"images\\urban&rural.PNG\" align=\"center\"/>\n",
    "\n",
    "cso.ie statistics is used as probability that state 63% people lives in urban area and 37% lives in rural area.\n",
    "1. In open country (rural) 30.6 \n",
    "2. In a village (rural) 10.0 \n",
    "3. In a town (1,500+) (urban) 23.5\n",
    "4. In a city (other than Dublin) (urban) 11.2\n",
    "5. In Dublin City or County (urban) 24.7 \n",
    "\n",
    "np.random.choice() is used to get values randomly and it is a categorical data column\n"
   ]
  },
  {
   "cell_type": "code",
   "execution_count": 139,
   "metadata": {},
   "outputs": [],
   "source": [
    "np.random.seed(256)\n",
    "Area = ['In open country (rural)','In a village (rural)','In a town (1,500+) (urban)',\n",
    "        'In a city (other than Dublin) (urban)','In Dublin City or County']\n",
    "#source:https://www.cso.ie/en/releasesandpublications/ep/p-cp2tc/cp2pdm/\n",
    "data['AREA']= np.random.choice(Area, 1000, p=[0.306,0.10,0.235,0.112,0.247])\n",
    "#data"
   ]
  },
  {
   "cell_type": "markdown",
   "metadata": {},
   "source": [
    "## Household income\n",
    "- Under €10,000  3.9%\n",
    "- €10,000 – €19,000 15.4%\n",
    "- €20,000 – €29,999 17.3%\n",
    "- €30,000 – €39,999 16.7%\n",
    "- €40,000 – €49,999 16.8%\n",
    "- €50,000 or more 30.0%\n",
    "\n",
    "The equivalised household (HH) income is calculated based on the above figures using the national equivalence scale (Callan et al, 1996). The equivalised HH income (units: weekly net household incomes) adjusts for household size such that the needs of the composition of households are taken into account. The national equivalence scale used here attributes a weight of 1 to the first adult, 0.66 to each subsequent adult and 0.33 to each child.12 For analysis purposes, the equivalised income is split into quintiles, from the highest income quintile to the lowest income quintile.\n"
   ]
  },
  {
   "cell_type": "code",
   "execution_count": 140,
   "metadata": {},
   "outputs": [
    {
     "data": {
      "text/plain": [
       "<matplotlib.axes._subplots.AxesSubplot at 0x282c93bbe10>"
      ]
     },
     "execution_count": 140,
     "metadata": {},
     "output_type": "execute_result"
    },
    {
     "data": {
      "image/png": "[encoded data removed]",
      "text/plain": [
       "<Figure size 864x432 with 1 Axes>"
      ]
     },
     "metadata": {
      "needs_background": "light"
     },
     "output_type": "display_data"
    }
   ],
   "source": [
    "hincome= ['Under €10,000','€10,000 – €19,000','€20,000 – €29,999','€30,000 – €39,999','€40,000 – €49,999','€50,000 or more']\n",
    "data['INCOME']= np.random.choice(hincome, 1000, p=[0.039,0.154,0.172,0.167,0.168,0.30]) \n",
    "fig= plt.figure(figsize=(12,6))\n",
    "sns.countplot(data['INCOME'])"
   ]
  },
  {
   "cell_type": "code",
   "execution_count": 141,
   "metadata": {},
   "outputs": [],
   "source": [
    "#data['INCOME'] = data.GENDER.apply(lambda x: np.random.randint(2200,3000) if x == 'Female' else np.random.randint(3000,4000)).ffill().astype(float)\n"
   ]
  },
  {
   "cell_type": "code",
   "execution_count": 146,
   "metadata": {},
   "outputs": [
    {
     "data": {
      "text/html": [
       "<div>\n",
       "<style scoped>\n",
       "    .dataframe tbody tr th:only-of-type {\n",
       "        vertical-align: middle;\n",
       "    }\n",
       "\n",
       "    .dataframe tbody tr th {\n",
       "        vertical-align: top;\n",
       "    }\n",
       "\n",
       "    .dataframe thead th {\n",
       "        text-align: right;\n",
       "    }\n",
       "</style>\n",
       "<table border=\"1\" class=\"dataframe\">\n",
       "  <thead>\n",
       "    <tr style=\"text-align: right;\">\n",
       "      <th></th>\n",
       "      <th>GENDER</th>\n",
       "      <th>AGE</th>\n",
       "      <th>EDUCATION</th>\n",
       "      <th>MEDICAL_CARD</th>\n",
       "      <th>WORK_SITUATION</th>\n",
       "      <th>MARITAL_STATUS</th>\n",
       "      <th>AREA</th>\n",
       "      <th>INCOME</th>\n",
       "      <th>SOCIAL_CLASS</th>\n",
       "      <th>EMPLOYMENT_STATUS</th>\n",
       "    </tr>\n",
       "  </thead>\n",
       "  <tbody>\n",
       "    <tr>\n",
       "      <th>0</th>\n",
       "      <td>Male</td>\n",
       "      <td>18-29</td>\n",
       "      <td>Primary</td>\n",
       "      <td>has a Medical card</td>\n",
       "      <td>Employee</td>\n",
       "      <td>Single</td>\n",
       "      <td>In open country (rural)</td>\n",
       "      <td>€50,000 or more</td>\n",
       "      <td>NaN</td>\n",
       "      <td>Employee</td>\n",
       "    </tr>\n",
       "    <tr>\n",
       "      <th>1</th>\n",
       "      <td>Female</td>\n",
       "      <td>45-64</td>\n",
       "      <td>Post Primary</td>\n",
       "      <td>has a private Insurance</td>\n",
       "      <td>Self Employed</td>\n",
       "      <td>Married</td>\n",
       "      <td>In a town (1,500+) (urban)</td>\n",
       "      <td>€40,000 – €49,999</td>\n",
       "      <td>NaN</td>\n",
       "      <td>Self Employed</td>\n",
       "    </tr>\n",
       "    <tr>\n",
       "      <th>2</th>\n",
       "      <td>Male</td>\n",
       "      <td>18-29</td>\n",
       "      <td>Post Primary</td>\n",
       "      <td>has a Medical card</td>\n",
       "      <td>Employee</td>\n",
       "      <td>Single</td>\n",
       "      <td>In open country (rural)</td>\n",
       "      <td>€20,000 – €29,999</td>\n",
       "      <td>NaN</td>\n",
       "      <td>Employee</td>\n",
       "    </tr>\n",
       "    <tr>\n",
       "      <th>3</th>\n",
       "      <td>Male</td>\n",
       "      <td>18-29</td>\n",
       "      <td>Primary</td>\n",
       "      <td>has a Medical card</td>\n",
       "      <td>Employee</td>\n",
       "      <td>Single</td>\n",
       "      <td>In open country (rural)</td>\n",
       "      <td>€50,000 or more</td>\n",
       "      <td>NaN</td>\n",
       "      <td>Employee</td>\n",
       "    </tr>\n",
       "    <tr>\n",
       "      <th>4</th>\n",
       "      <td>Male</td>\n",
       "      <td>18-29</td>\n",
       "      <td>Primary</td>\n",
       "      <td>has a Medical card</td>\n",
       "      <td>Employee</td>\n",
       "      <td>Single</td>\n",
       "      <td>In open country (rural)</td>\n",
       "      <td>€50,000 or more</td>\n",
       "      <td>NaN</td>\n",
       "      <td>Employee</td>\n",
       "    </tr>\n",
       "  </tbody>\n",
       "</table>\n",
       "</div>"
      ],
      "text/plain": [
       "   GENDER    AGE     EDUCATION             MEDICAL_CARD WORK_SITUATION  \\\n",
       "0    Male  18-29       Primary       has a Medical card       Employee   \n",
       "1  Female  45-64  Post Primary  has a private Insurance  Self Employed   \n",
       "2    Male  18-29  Post Primary       has a Medical card       Employee   \n",
       "3    Male  18-29       Primary       has a Medical card       Employee   \n",
       "4    Male  18-29       Primary       has a Medical card       Employee   \n",
       "\n",
       "  MARITAL_STATUS                        AREA             INCOME SOCIAL_CLASS  \\\n",
       "0         Single     In open country (rural)    €50,000 or more          NaN   \n",
       "1        Married  In a town (1,500+) (urban)  €40,000 – €49,999          NaN   \n",
       "2         Single     In open country (rural)  €20,000 – €29,999          NaN   \n",
       "3         Single     In open country (rural)    €50,000 or more          NaN   \n",
       "4         Single     In open country (rural)    €50,000 or more          NaN   \n",
       "\n",
       "  EMPLOYMENT_STATUS  \n",
       "0          Employee  \n",
       "1     Self Employed  \n",
       "2          Employee  \n",
       "3          Employee  \n",
       "4          Employee  "
      ]
     },
     "execution_count": 146,
     "metadata": {},
     "output_type": "execute_result"
    }
   ],
   "source": [
    "data.head(5)"
   ]
  },
  {
   "cell_type": "markdown",
   "metadata": {},
   "source": [
    "## General Health\n",
    "\n",
    "According to Eurostat, people's perception of general health in Ireland is dependant upon their income. The median value for gross earned income per person with \"very good\" health was €27,579 compared to €11,700 per person who described their health as \"very bad\".\n",
    "\n",
    "- 84.2% good health\n",
    "- 3.3%very bad and bad\n",
    "- 12.5% fair \n",
    "source https://ec.europa.eu/eurostat/cache/infographs/qol/index_en.html"
   ]
  },
  {
   "cell_type": "markdown",
   "metadata": {},
   "source": [
    "# Social Class"
   ]
  },
  {
   "cell_type": "markdown",
   "metadata": {},
   "source": [
    "The entire population is classified into one of the following social class groups (introduced in 1996) which are defined on the basis of occupation (coded using Soc90):\n",
    "1. Professional workers\n",
    "2. Managerial and technical\n",
    "3. Non-manual\n",
    "4. Skilled manual\n",
    "5. Semi-skilled\n",
    "6. Unskilled\n",
    "7. All others gainfully occupied and unknown\n",
    "\n",
    "The occupations included in each of these groups have been selected in such a way as to bring together, as far as possible, people with similar levels of occupational skill.\n",
    "\n",
    "In determining social class no account is taken of the differences between individuals on the basis of other characteristics such as education. Accordingly social class ranks occupations by the level of skill required on a social class scale ranging from 1 (highest) to 7 (lowest). This scale combines occupations into six groups by occupation and employment status following procedures similar to those outlined above for the allocation of socio-economic group. A residual category “All others gainfully occupied and unknown” is used where no precise allocation is possible.\n",
    "source:https://www.cso.ie/en/releasesandpublications/ep/p-cp4hf/cp4hf/bgn/\n",
    "\n",
    "For dataset we are using 4 categories these\n",
    "SC 1-2 (Upper) 31.4% \n",
    "SC 3-4 (Middle) 37.6%\n",
    "SC 5-6 (Lower) 16.1% \n",
    "Unclassified 14.9%"
   ]
  },
  {
   "cell_type": "code",
   "execution_count": 148,
   "metadata": {},
   "outputs": [
    {
     "data": {
      "text/plain": [
       "<matplotlib.axes._subplots.AxesSubplot at 0x282c927d748>"
      ]
     },
     "execution_count": 148,
     "metadata": {},
     "output_type": "execute_result"
    },
    {
     "data": {
      "image/png": "[encoded data removed]",
      "text/plain": [
       "<Figure size 432x288 with 1 Axes>"
      ]
     },
     "metadata": {
      "needs_background": "light"
     },
     "output_type": "display_data"
    }
   ],
   "source": [
    "np.random.seed(256) # Set the random seed\n",
    "a=['Upper','Middle','Lower','Unclassified']\n",
    "data['SOCIAL_CLASS']= np.random.choice(a, 1000, p=[0.314,0.376,0.161,0.149])\n",
    "sns.countplot(data['SOCIAL_CLASS'])"
   ]
  },
  {
   "cell_type": "code",
   "execution_count": 149,
   "metadata": {},
   "outputs": [
    {
     "data": {
      "text/html": [
       "<div>\n",
       "<style scoped>\n",
       "    .dataframe tbody tr th:only-of-type {\n",
       "        vertical-align: middle;\n",
       "    }\n",
       "\n",
       "    .dataframe tbody tr th {\n",
       "        vertical-align: top;\n",
       "    }\n",
       "\n",
       "    .dataframe thead th {\n",
       "        text-align: right;\n",
       "    }\n",
       "</style>\n",
       "<table border=\"1\" class=\"dataframe\">\n",
       "  <thead>\n",
       "    <tr style=\"text-align: right;\">\n",
       "      <th></th>\n",
       "      <th>GENDER</th>\n",
       "      <th>AGE</th>\n",
       "      <th>EDUCATION</th>\n",
       "      <th>MEDICAL_CARD</th>\n",
       "      <th>WORK_SITUATION</th>\n",
       "      <th>MARITAL_STATUS</th>\n",
       "      <th>AREA</th>\n",
       "      <th>INCOME</th>\n",
       "      <th>SOCIAL_CLASS</th>\n",
       "      <th>EMPLOYMENT_STATUS</th>\n",
       "    </tr>\n",
       "  </thead>\n",
       "  <tbody>\n",
       "    <tr>\n",
       "      <th>0</th>\n",
       "      <td>Male</td>\n",
       "      <td>18-29</td>\n",
       "      <td>Primary</td>\n",
       "      <td>has a Medical card</td>\n",
       "      <td>Employee</td>\n",
       "      <td>Single</td>\n",
       "      <td>In open country (rural)</td>\n",
       "      <td>€50,000 or more</td>\n",
       "      <td>Upper</td>\n",
       "      <td>Employee</td>\n",
       "    </tr>\n",
       "    <tr>\n",
       "      <th>1</th>\n",
       "      <td>Female</td>\n",
       "      <td>45-64</td>\n",
       "      <td>Post Primary</td>\n",
       "      <td>has a private Insurance</td>\n",
       "      <td>Self Employed</td>\n",
       "      <td>Married</td>\n",
       "      <td>In a town (1,500+) (urban)</td>\n",
       "      <td>€40,000 – €49,999</td>\n",
       "      <td>Middle</td>\n",
       "      <td>Self Employed</td>\n",
       "    </tr>\n",
       "    <tr>\n",
       "      <th>2</th>\n",
       "      <td>Male</td>\n",
       "      <td>18-29</td>\n",
       "      <td>Post Primary</td>\n",
       "      <td>has a Medical card</td>\n",
       "      <td>Employee</td>\n",
       "      <td>Single</td>\n",
       "      <td>In open country (rural)</td>\n",
       "      <td>€20,000 – €29,999</td>\n",
       "      <td>Upper</td>\n",
       "      <td>Employee</td>\n",
       "    </tr>\n",
       "    <tr>\n",
       "      <th>3</th>\n",
       "      <td>Male</td>\n",
       "      <td>18-29</td>\n",
       "      <td>Primary</td>\n",
       "      <td>has a Medical card</td>\n",
       "      <td>Employee</td>\n",
       "      <td>Single</td>\n",
       "      <td>In open country (rural)</td>\n",
       "      <td>€50,000 or more</td>\n",
       "      <td>Upper</td>\n",
       "      <td>Employee</td>\n",
       "    </tr>\n",
       "    <tr>\n",
       "      <th>4</th>\n",
       "      <td>Male</td>\n",
       "      <td>18-29</td>\n",
       "      <td>Primary</td>\n",
       "      <td>has a Medical card</td>\n",
       "      <td>Employee</td>\n",
       "      <td>Single</td>\n",
       "      <td>In open country (rural)</td>\n",
       "      <td>€50,000 or more</td>\n",
       "      <td>Upper</td>\n",
       "      <td>Employee</td>\n",
       "    </tr>\n",
       "  </tbody>\n",
       "</table>\n",
       "</div>"
      ],
      "text/plain": [
       "   GENDER    AGE     EDUCATION             MEDICAL_CARD WORK_SITUATION  \\\n",
       "0    Male  18-29       Primary       has a Medical card       Employee   \n",
       "1  Female  45-64  Post Primary  has a private Insurance  Self Employed   \n",
       "2    Male  18-29  Post Primary       has a Medical card       Employee   \n",
       "3    Male  18-29       Primary       has a Medical card       Employee   \n",
       "4    Male  18-29       Primary       has a Medical card       Employee   \n",
       "\n",
       "  MARITAL_STATUS                        AREA             INCOME SOCIAL_CLASS  \\\n",
       "0         Single     In open country (rural)    €50,000 or more        Upper   \n",
       "1        Married  In a town (1,500+) (urban)  €40,000 – €49,999       Middle   \n",
       "2         Single     In open country (rural)  €20,000 – €29,999        Upper   \n",
       "3         Single     In open country (rural)    €50,000 or more        Upper   \n",
       "4         Single     In open country (rural)    €50,000 or more        Upper   \n",
       "\n",
       "  EMPLOYMENT_STATUS  \n",
       "0          Employee  \n",
       "1     Self Employed  \n",
       "2          Employee  \n",
       "3          Employee  \n",
       "4          Employee  "
      ]
     },
     "execution_count": 149,
     "metadata": {},
     "output_type": "execute_result"
    }
   ],
   "source": [
    "data.head(5)"
   ]
  },
  {
   "cell_type": "markdown",
   "metadata": {},
   "source": [
    "There is a significant divide in earnings from county to county. The Central Statistics Office (CSO) numbers show that the average income for Irish households stood at €45,256 in 2016.\n",
    "\n",
    "The Dublin coastal town of Malahide had the highest average income of €78,631 of all 41 towns in the country with a population of 10,000 or over.\n",
    "\n",
    "Celbridge in Co Kildare had the second highest at €64,877 while Maynooth was third at €64,529. The towns with the lowest average incomes were Longford at €29,224, Enniscorthy, Co Wexford, at €31,049 and Ballina, Co Mayo, with €32,779.\n",
    "\n",
    "Dublin City had the highest earned income per person at €39,999, followed by Dún Laoghaire-Rathdown, €37,117, and Cork City, €34,317.\n",
    "\n",
    "The lowest earned incomes per person by county were in Donegal at €24,626, Monaghan at €24,903 and Leitrim at €25,962. The figures showed that 42.3% of households had two or more people earning an income, while 30.1% had just one member earning a wage."
   ]
  },
  {
   "cell_type": "markdown",
   "metadata": {},
   "source": [
    "An average of 27% of households throughout the country had no income earners at all. Social welfare payments to people of working age made up more than half of the income in 13.7pc of households. while the State pension formed the majority of income in 12.9 %. This gave a total of 26.6pc of households where social welfare made up more than half of household income in Ireland in 2016.Households where the occupants were in the medical, finance, legal and IT professions enjoyed the highest incomes, while farmers, care workers and home carers earned under €30,000. gender The data also showed a significant gender gap in some professions. In the financial managers and directors' sector, female income was €60,126 compared with €94,500 for males. \n",
    "\n",
    "In contrast, the primary and nursery teaching professions had the smallest gender gaps.The CSO revealed that those who travel farthest to work also earn the most. The average worker driving less than 30 minutes to work earns €32,004 a year,\n",
    " compared with €41,495 for those travelling more than 30 minutes.Those who described their health as \"very bad\" earned an average of €11,700, but those who earned more than €27,579 reported their health as \"very good\".\n",
    " \n",
    "source: https://www.independent.ie/business/personal-finance/latest-news/great-divide-in-household-income-across-the-country-is-laid-bare-38239841.html\n"
   ]
  },
  {
   "cell_type": "markdown",
   "metadata": {},
   "source": [
    "**NOTE:\n",
    "\n",
    "**I was thinking that it would be easy to generate this dataset but it was so wide that I feel my research was not enough and as I didn't complete the statistics module understanding the probability distributions was a challenge.In my research I found that there are so many factors involved in health and wellbeing but most of it is categorical data and very wide. Only one thing was for definite people who earn more are healthier than people who earn less.**\n",
    "\n",
    "**As I was interested in a health related dataset and in my research It came across a dataset about Adolescent Sleep. It was not that wide and I decided to work on that. I could not find the exact data but I got the statistics so I decided to build it.**"
   ]
  },
  {
   "cell_type": "markdown",
   "metadata": {},
   "source": [
    "# Sleep in Adolescents: Association with Social Media, Mental Health and Problem Behaviour\n",
    "I decide to simulate the dataset that was based on a research.This research  was about Adolesents sleep and its association with social media ,mental health and problem behaviour. I have the statistics of this data to generate the dataset. that I found from the following source.\n",
    "\n",
    "Dataset statistics available at (Source): https://skemman.is/bitstream/1946/28393/1/Halld%C3%B3r_Gauti_Bs_.pdf"
   ]
  },
  {
   "cell_type": "code",
   "execution_count": 19,
   "metadata": {},
   "outputs": [],
   "source": [
    "#import libraries\n",
    "import pandas as pd\n",
    "\n",
    "import numpy as np\n",
    "#import visualisation libraries\n",
    "import seaborn as sns\n",
    "import matplotlib.pyplot as plt\n",
    "from matplotlib.pyplot import pie, axis, show\n",
    "\n",
    "# Display plots inline in the notebook\n",
    "%matplotlib inline "
   ]
  },
  {
   "cell_type": "code",
   "execution_count": 20,
   "metadata": {},
   "outputs": [],
   "source": [
    "#create a DataFrame\n",
    "s_data=pd.DataFrame()"
   ]
  },
  {
   "cell_type": "markdown",
   "metadata": {},
   "source": [
    "## Age \n",
    "This research was on the kids age 13 to 17. \n",
    "This column has age value of kids from 13 -18 with 17 as mean. I used np.random.randint() to create an sample of 2028 numbers range from 13-18"
   ]
  },
  {
   "cell_type": "code",
   "execution_count": 21,
   "metadata": {},
   "outputs": [
    {
     "name": "stdout",
     "output_type": "stream",
     "text": [
      "[13 15 14 ... 14 16 17]\n",
      "14.952169625246547\n"
     ]
    },
    {
     "name": "stderr",
     "output_type": "stream",
     "text": [
      "C:\\Users\\Admin2\\Anaconda3\\lib\\site-packages\\scipy\\stats\\stats.py:1713: FutureWarning: Using a non-tuple sequence for multidimensional indexing is deprecated; use `arr[tuple(seq)]` instead of `arr[seq]`. In the future this will be interpreted as an array index, `arr[np.array(seq)]`, which will result either in an error or a different result.\n",
      "  return np.add.reduce(sorted[indexer] * weights, axis=axis) / sumval\n"
     ]
    },
    {
     "data": {
      "image/png": "[encoded data removed]",
      "text/plain": [
       "<Figure size 432x288 with 1 Axes>"
      ]
     },
     "metadata": {
      "needs_background": "light"
     },
     "output_type": "display_data"
    }
   ],
   "source": [
    "#Age 13-18 15mean\n",
    "np.random.seed(256) # Set the random seed\n",
    "# create a random number between 13-17 included. with mean age 15.\n",
    "\n",
    "age= np.random.randint(13,18, size= 2028,dtype='int')\n",
    "\n",
    "# I try to use the triangular distribution for age columnbut than leave it because feel randint is fine\n",
    "#age=np.random.triangular(13, 15, 17, 2028)\n",
    "\n",
    "s_data['AGE'] =age\n",
    "# print age series\n",
    "print(age)\n",
    "#print the mean age\n",
    "print(s_data['AGE'].mean())\n",
    "#age dist plot\n",
    "sns.distplot(s_data['AGE'])\n",
    "\n",
    "plt.show()"
   ]
  },
  {
   "cell_type": "markdown",
   "metadata": {},
   "source": [
    "## Gender"
   ]
  },
  {
   "cell_type": "markdown",
   "metadata": {},
   "source": [
    "As this data is base on a survey and the respondents in that research were 51.1% females and 48.9% males. so I I use np.random.choice with given probabilities. "
   ]
  },
  {
   "cell_type": "code",
   "execution_count": 22,
   "metadata": {},
   "outputs": [
    {
     "data": {
      "text/plain": [
       "Female    1031\n",
       "Male       997\n",
       "Name: GENDER, dtype: int64"
      ]
     },
     "execution_count": 22,
     "metadata": {},
     "output_type": "execute_result"
    }
   ],
   "source": [
    "#Gender male= 48.9% female= 51.1%\n",
    "np.random.seed(256) # Set the random seed\n",
    "#create a list\n",
    "gender=['Male','Female']\n",
    "#np.random.choice to populate the gender column\n",
    "s_data['GENDER']= np.random.choice(gender, 2028,p=[0.489,0.511])\n",
    "#print the number of males and females in Gender column\n",
    "s_data['GENDER'].value_counts()"
   ]
  },
  {
   "cell_type": "code",
   "execution_count": 23,
   "metadata": {},
   "outputs": [
    {
     "data": {
      "image/png": "[encoded data removed]",
      "text/plain": [
       "<Figure size 432x432 with 1 Axes>"
      ]
     },
     "metadata": {},
     "output_type": "display_data"
    }
   ],
   "source": [
    "# Pie Plot of gender\n",
    "fig= plt.figure(figsize=(6,6))# set the plot size\n",
    "plt.pie([0.489, 0.511], labels=['Male', 'Female'], colors=['blue','yellow'],\n",
    "autopct='%1.1f%%', textprops={'fontsize': 16})\n",
    "plt.show()\n"
   ]
  },
  {
   "cell_type": "markdown",
   "metadata": {},
   "source": [
    "## Social media use\n",
    "To measure the time spent on social media participants were asked the following question “How much time on average do you spend on the following: Being on social media on the internet for example on Facebook, Twitter, Instagram, Vine, Tumblr,\n",
    "WhatsApp, Snapchat, Skype” the response to the question ranged from 1 (almost no time) to 8 (6 hours or more). When processing the date a change was made and the responses were combined into three groups; those that answered Almost no time, thirty minutes to an hour and around one hour, were combined and called Little time. Those who answered around two hours and around three hours were combined and called Average time and finally those that answered, around four hours, around five hours and six hours or more were combined and called Long time. This was done on the basis of a study by Mediakix (2017) stating that the\n",
    "average person spends around 116 minutes a day on social media. (Source): https://skemman.is/bitstream/1946/28393/1/Halld%C3%B3r_Gauti_Bs_.pdf\n",
    "\n",
    "It is a categorical data and numpy.random.choice is used to draw the samples"
   ]
  },
  {
   "cell_type": "code",
   "execution_count": 24,
   "metadata": {},
   "outputs": [
    {
     "data": {
      "text/plain": [
       "Little Time     1130\n",
       "Average Time     617\n",
       "Long Time        281\n",
       "Name: MEDIA, dtype: int64"
      ]
     },
     "execution_count": 24,
     "metadata": {},
     "output_type": "execute_result"
    }
   ],
   "source": [
    "# these are the statistics in the dataset,Little time 55.5% (1,077) ,Average time 30.4% (589), Long time 14.1% \n",
    "np.random.seed(256) # Set the random seed\n",
    "#create a list of time on media categories\n",
    "smedia=['Little Time','Average Time','Long Time']\n",
    "#np.random.choice method is used to generate data from list according to the given probabilities\n",
    "s_data['MEDIA']= np.random.choice(smedia, 2028,p=[0.56,0.30,0.14])\n",
    "# print the number value count of media column\n",
    "s_data['MEDIA'].value_counts()\n",
    "\n"
   ]
  },
  {
   "cell_type": "code",
   "execution_count": 25,
   "metadata": {},
   "outputs": [
    {
     "data": {
      "image/png": "[encoded data removed]",
      "text/plain": [
       "<Figure size 360x360 with 1 Axes>"
      ]
     },
     "metadata": {
      "needs_background": "light"
     },
     "output_type": "display_data"
    }
   ],
   "source": [
    "# Plot of media use\n",
    "sns.catplot(x=\"MEDIA\", kind=\"count\" ,data=s_data);\n",
    "plt.show()"
   ]
  },
  {
   "cell_type": "markdown",
   "metadata": {},
   "source": [
    "## Sleep\n",
    "To measure participant’s sleep they were asked the following question: “How many hours on average do you normally sleep at night?” And the following answers were available: 9 hours or more, around 9 hours, around 8 hours, around 7 hours, around 6 hours,6 hours or less. When processing the data a change was made and the six categories were combined into two groups, Sufficient sleep and Insufficient sleep. This was done according to official sleep recommendations for this age group (14-17 years old) which states that seven to eleven hours of sleep is appropriate but anything below is not (Hirshkowitz et al., 2015)."
   ]
  },
  {
   "cell_type": "code",
   "execution_count": 26,
   "metadata": {},
   "outputs": [
    {
     "data": {
      "text/plain": [
       "Sufficient_sleep      1691\n",
       "Insufficient_sleep     337\n",
       "Name: SLEEP, dtype: int64"
      ]
     },
     "execution_count": 26,
     "metadata": {},
     "output_type": "execute_result"
    }
   ],
   "source": [
    "# sufficient sleep 86.5 Insufficient sleep 13.5. The Sufficient sleep\n",
    "#np.random.seed(256) # Set the random seed\n",
    "#create list\n",
    "sleep=['Sufficient_sleep','Insufficient_sleep']\n",
    "cnt = 0\n",
    "for idx, val in enumerate(s_data.itertuples()):\n",
    "    if s_data.MEDIA[idx] == 'Long Time':#check if the media use column have long time\n",
    "            s_data.loc[idx, 'SLEEP'] = np.random.choice(sleep,p=[0.70,0.30])#select from sleep list to add value in sleep column\n",
    "        \n",
    "    if s_data.MEDIA[idx] == 'Average Time':\n",
    "            s_data.loc[idx, 'SLEEP'] = np.random.choice(sleep,p=[0.85,0.15])\n",
    "        \n",
    "    if s_data.MEDIA[idx] == 'Little Time':\n",
    "            s_data.loc[idx, 'SLEEP'] = np.random.choice(sleep,p=[0.87,0.13])\n",
    "        \n",
    "#data['SLEEP']= np.random.choice(sleep, 2028,p=[0.865,0.135])\n",
    "#print the number kids have sufficient and insufficient sleep\n",
    "s_data['SLEEP'].value_counts()"
   ]
  },
  {
   "cell_type": "code",
   "execution_count": 27,
   "metadata": {},
   "outputs": [
    {
     "data": {
      "image/png": "[encoded data removed]",
      "text/plain": [
       "<Figure size 360x360 with 1 Axes>"
      ]
     },
     "metadata": {
      "needs_background": "light"
     },
     "output_type": "display_data"
    }
   ],
   "source": [
    "#catplot of sleep data column\n",
    "sns.catplot(x=\"SLEEP\", kind=\"count\" ,data=s_data);\n",
    "plt.show()"
   ]
  },
  {
   "cell_type": "code",
   "execution_count": 28,
   "metadata": {},
   "outputs": [
    {
     "data": {
      "image/png": "[encoded data removed]",
      "text/plain": [
       "<Figure size 483.375x360 with 1 Axes>"
      ]
     },
     "metadata": {
      "needs_background": "light"
     },
     "output_type": "display_data"
    }
   ],
   "source": [
    "# catplot of media and sleep it shows the people with long time media use are more likely to have insufficient sleep\n",
    "sns.catplot(x=\"MEDIA\", hue=\"SLEEP\",kind=\"count\" ,data=s_data);\n",
    "plt.show()"
   ]
  },
  {
   "cell_type": "code",
   "execution_count": 29,
   "metadata": {},
   "outputs": [
    {
     "data": {
      "text/html": [
       "<div>\n",
       "<style scoped>\n",
       "    .dataframe tbody tr th:only-of-type {\n",
       "        vertical-align: middle;\n",
       "    }\n",
       "\n",
       "    .dataframe tbody tr th {\n",
       "        vertical-align: top;\n",
       "    }\n",
       "\n",
       "    .dataframe thead th {\n",
       "        text-align: right;\n",
       "    }\n",
       "</style>\n",
       "<table border=\"1\" class=\"dataframe\">\n",
       "  <thead>\n",
       "    <tr style=\"text-align: right;\">\n",
       "      <th></th>\n",
       "      <th></th>\n",
       "      <th>AGE</th>\n",
       "      <th>GENDER</th>\n",
       "    </tr>\n",
       "    <tr>\n",
       "      <th>SLEEP</th>\n",
       "      <th>MEDIA</th>\n",
       "      <th></th>\n",
       "      <th></th>\n",
       "    </tr>\n",
       "  </thead>\n",
       "  <tbody>\n",
       "    <tr>\n",
       "      <th rowspan=\"3\" valign=\"top\">Insufficient_sleep</th>\n",
       "      <th>Average Time</th>\n",
       "      <td>90</td>\n",
       "      <td>90</td>\n",
       "    </tr>\n",
       "    <tr>\n",
       "      <th>Little Time</th>\n",
       "      <td>162</td>\n",
       "      <td>162</td>\n",
       "    </tr>\n",
       "    <tr>\n",
       "      <th>Long Time</th>\n",
       "      <td>85</td>\n",
       "      <td>85</td>\n",
       "    </tr>\n",
       "    <tr>\n",
       "      <th rowspan=\"3\" valign=\"top\">Sufficient_sleep</th>\n",
       "      <th>Average Time</th>\n",
       "      <td>527</td>\n",
       "      <td>527</td>\n",
       "    </tr>\n",
       "    <tr>\n",
       "      <th>Little Time</th>\n",
       "      <td>968</td>\n",
       "      <td>968</td>\n",
       "    </tr>\n",
       "    <tr>\n",
       "      <th>Long Time</th>\n",
       "      <td>196</td>\n",
       "      <td>196</td>\n",
       "    </tr>\n",
       "  </tbody>\n",
       "</table>\n",
       "</div>"
      ],
      "text/plain": [
       "                                 AGE  GENDER\n",
       "SLEEP              MEDIA                    \n",
       "Insufficient_sleep Average Time   90      90\n",
       "                   Little Time   162     162\n",
       "                   Long Time      85      85\n",
       "Sufficient_sleep   Average Time  527     527\n",
       "                   Little Time   968     968\n",
       "                   Long Time     196     196"
      ]
     },
     "execution_count": 29,
     "metadata": {},
     "output_type": "execute_result"
    }
   ],
   "source": [
    "#groupy to see the relationship between media use and sleep\n",
    "s_data.groupby(['SLEEP','MEDIA']).count()"
   ]
  },
  {
   "cell_type": "markdown",
   "metadata": {},
   "source": [
    "## Mental Health\n",
    "To measure mental wellbeing participants were asked the following question “How good is your mental health?” and the responses were measured on a 4 point Likert scale, range from 1 (very good) to 4 (bad). as this study is about sleep therefore on the base of sleep we are putting the values in"
   ]
  },
  {
   "cell_type": "code",
   "execution_count": 30,
   "metadata": {},
   "outputs": [
    {
     "data": {
      "text/plain": [
       "Very good    830\n",
       "Good         783\n",
       "Alright      236\n",
       "Bad          179\n",
       "Name: MENTAL_HEALTH, dtype: int64"
      ]
     },
     "execution_count": 30,
     "metadata": {},
     "output_type": "execute_result"
    }
   ],
   "source": [
    "# Very good 44.1% (876),Good 37.9% (754),Alright 12.5% (248),Bad 5.5% \n",
    "#np.random.seed(256) # Set the random seed\n",
    "mhealth=['Very good','Good','Alright','Bad']\n",
    "cnt = 0\n",
    "for idx, val in enumerate(s_data.itertuples()):\n",
    "    if s_data.SLEEP[idx] == 'Sufficient_sleep':\n",
    "            s_data.loc[idx, 'MENTAL_HEALTH'] = np.random.choice(mhealth,p=[0.441,0.379,0.125,0.055])\n",
    "        \n",
    "    if s_data.SLEEP[idx] == 'Insufficient_sleep':\n",
    "            s_data.loc[idx, 'MENTAL_HEALTH'] = np.random.choice(mhealth,p=[0.305,0.32,0.125,0.25])\n",
    "                           \n",
    "\n",
    "#data['MENTAL_HEALTH']= np.random.choice(mhealth, 2028,p=[0.441,0.379,0.125,0.055])\n",
    "# number of observations for mental health categories\n",
    "s_data['MENTAL_HEALTH'].value_counts()\n",
    "#s=np.random.lognormal(2.5,1,2000)\n",
    "#print(s)"
   ]
  },
  {
   "cell_type": "code",
   "execution_count": 31,
   "metadata": {},
   "outputs": [
    {
     "data": {
      "text/html": [
       "<div>\n",
       "<style scoped>\n",
       "    .dataframe tbody tr th:only-of-type {\n",
       "        vertical-align: middle;\n",
       "    }\n",
       "\n",
       "    .dataframe tbody tr th {\n",
       "        vertical-align: top;\n",
       "    }\n",
       "\n",
       "    .dataframe thead th {\n",
       "        text-align: right;\n",
       "    }\n",
       "</style>\n",
       "<table border=\"1\" class=\"dataframe\">\n",
       "  <thead>\n",
       "    <tr style=\"text-align: right;\">\n",
       "      <th></th>\n",
       "      <th></th>\n",
       "      <th>AGE</th>\n",
       "      <th>GENDER</th>\n",
       "      <th>MEDIA</th>\n",
       "    </tr>\n",
       "    <tr>\n",
       "      <th>SLEEP</th>\n",
       "      <th>MENTAL_HEALTH</th>\n",
       "      <th></th>\n",
       "      <th></th>\n",
       "      <th></th>\n",
       "    </tr>\n",
       "  </thead>\n",
       "  <tbody>\n",
       "    <tr>\n",
       "      <th rowspan=\"4\" valign=\"top\">Insufficient_sleep</th>\n",
       "      <th>Alright</th>\n",
       "      <td>47</td>\n",
       "      <td>47</td>\n",
       "      <td>47</td>\n",
       "    </tr>\n",
       "    <tr>\n",
       "      <th>Bad</th>\n",
       "      <td>92</td>\n",
       "      <td>92</td>\n",
       "      <td>92</td>\n",
       "    </tr>\n",
       "    <tr>\n",
       "      <th>Good</th>\n",
       "      <td>98</td>\n",
       "      <td>98</td>\n",
       "      <td>98</td>\n",
       "    </tr>\n",
       "    <tr>\n",
       "      <th>Very good</th>\n",
       "      <td>100</td>\n",
       "      <td>100</td>\n",
       "      <td>100</td>\n",
       "    </tr>\n",
       "    <tr>\n",
       "      <th rowspan=\"4\" valign=\"top\">Sufficient_sleep</th>\n",
       "      <th>Alright</th>\n",
       "      <td>189</td>\n",
       "      <td>189</td>\n",
       "      <td>189</td>\n",
       "    </tr>\n",
       "    <tr>\n",
       "      <th>Bad</th>\n",
       "      <td>87</td>\n",
       "      <td>87</td>\n",
       "      <td>87</td>\n",
       "    </tr>\n",
       "    <tr>\n",
       "      <th>Good</th>\n",
       "      <td>685</td>\n",
       "      <td>685</td>\n",
       "      <td>685</td>\n",
       "    </tr>\n",
       "    <tr>\n",
       "      <th>Very good</th>\n",
       "      <td>730</td>\n",
       "      <td>730</td>\n",
       "      <td>730</td>\n",
       "    </tr>\n",
       "  </tbody>\n",
       "</table>\n",
       "</div>"
      ],
      "text/plain": [
       "                                  AGE  GENDER  MEDIA\n",
       "SLEEP              MENTAL_HEALTH                    \n",
       "Insufficient_sleep Alright         47      47     47\n",
       "                   Bad             92      92     92\n",
       "                   Good            98      98     98\n",
       "                   Very good      100     100    100\n",
       "Sufficient_sleep   Alright        189     189    189\n",
       "                   Bad             87      87     87\n",
       "                   Good           685     685    685\n",
       "                   Very good      730     730    730"
      ]
     },
     "execution_count": 31,
     "metadata": {},
     "output_type": "execute_result"
    }
   ],
   "source": [
    "#group by sleep and mental health\n",
    "s_data.groupby(['SLEEP','MENTAL_HEALTH']).count()"
   ]
  },
  {
   "cell_type": "code",
   "execution_count": 32,
   "metadata": {},
   "outputs": [
    {
     "data": {
      "image/png": "[encoded data removed]",
      "text/plain": [
       "<Figure size 483.375x360 with 1 Axes>"
      ]
     },
     "metadata": {
      "needs_background": "light"
     },
     "output_type": "display_data"
    }
   ],
   "source": [
    "#catplot to show relation of sleep and mental health\n",
    "sns.catplot(x='MENTAL_HEALTH', hue=\"SLEEP\",kind=\"count\" ,data=s_data);\n",
    "plt.show()"
   ]
  },
  {
   "cell_type": "markdown",
   "metadata": {},
   "source": [
    "## Problem Behaviour\n",
    "A few questions were combined to measure problem behaviour that all involved inappropriate actions such as showing aggression by fighting and skipping school. The following questions were asked: “How often in the last 12 months, did the following of these six statement happen”: break rules at home, broke rules at school, got into a fight, skipped school, fled from home, and got in to trouble for lying and stealing. The Answers were collected using a Likert scale which ranges from 1 (rare/almost never) to 4 (almost always or always). After combining all answers the range reached from 0-24 and the variable was named behaviour. The variable was split into three groups, The first group ranged from 0-6 and was named Low, the second group ranged from 7-12 and was named Medium and the third group range was 13-24 and named High. "
   ]
  },
  {
   "cell_type": "code",
   "execution_count": 33,
   "metadata": {},
   "outputs": [
    {
     "data": {
      "text/plain": [
       "Low       1035\n",
       "Medium     892\n",
       "High       101\n",
       "Name: BEHAVIOUR_PROBLEM, dtype: int64"
      ]
     },
     "execution_count": 33,
     "metadata": {},
     "output_type": "execute_result"
    }
   ],
   "source": [
    "#Low 51.6% (1,022),Medium 45.4% (900),High 3.0% (59)\n",
    "\n",
    "#np.random.seed(256) # Set the random seed\n",
    "behaviour=['Low','Medium','High']\n",
    "cnt = 0\n",
    "for idx, val in enumerate(s_data.itertuples()):\n",
    "    if s_data.SLEEP[idx] == 'Sufficient_sleep':\n",
    "            s_data.loc[idx, 'BEHAVIOUR_PROBLEM'] = np.random.choice(behaviour,p=[0.52,0.46,0.02])\n",
    "        \n",
    "    if s_data.SLEEP[idx] == 'Insufficient_sleep':\n",
    "            s_data.loc[idx, 'BEHAVIOUR_PROBLEM'] = np.random.choice(behaviour,p=[0.41,0.39,0.20])\n",
    "        \n",
    "   #data['BEHAVIOUR']= np.random.choice(behaviour, 2028,p=[0.516,0.454,0.03])\n",
    "\n",
    "s_data['BEHAVIOUR_PROBLEM'].value_counts()\n"
   ]
  },
  {
   "cell_type": "code",
   "execution_count": 34,
   "metadata": {
    "scrolled": true
   },
   "outputs": [
    {
     "data": {
      "text/html": [
       "<div>\n",
       "<style scoped>\n",
       "    .dataframe tbody tr th:only-of-type {\n",
       "        vertical-align: middle;\n",
       "    }\n",
       "\n",
       "    .dataframe tbody tr th {\n",
       "        vertical-align: top;\n",
       "    }\n",
       "\n",
       "    .dataframe thead th {\n",
       "        text-align: right;\n",
       "    }\n",
       "</style>\n",
       "<table border=\"1\" class=\"dataframe\">\n",
       "  <thead>\n",
       "    <tr style=\"text-align: right;\">\n",
       "      <th></th>\n",
       "      <th></th>\n",
       "      <th>AGE</th>\n",
       "      <th>GENDER</th>\n",
       "      <th>MEDIA</th>\n",
       "      <th>MENTAL_HEALTH</th>\n",
       "    </tr>\n",
       "    <tr>\n",
       "      <th>SLEEP</th>\n",
       "      <th>BEHAVIOUR_PROBLEM</th>\n",
       "      <th></th>\n",
       "      <th></th>\n",
       "      <th></th>\n",
       "      <th></th>\n",
       "    </tr>\n",
       "  </thead>\n",
       "  <tbody>\n",
       "    <tr>\n",
       "      <th rowspan=\"3\" valign=\"top\">Insufficient_sleep</th>\n",
       "      <th>High</th>\n",
       "      <td>76</td>\n",
       "      <td>76</td>\n",
       "      <td>76</td>\n",
       "      <td>76</td>\n",
       "    </tr>\n",
       "    <tr>\n",
       "      <th>Low</th>\n",
       "      <td>133</td>\n",
       "      <td>133</td>\n",
       "      <td>133</td>\n",
       "      <td>133</td>\n",
       "    </tr>\n",
       "    <tr>\n",
       "      <th>Medium</th>\n",
       "      <td>128</td>\n",
       "      <td>128</td>\n",
       "      <td>128</td>\n",
       "      <td>128</td>\n",
       "    </tr>\n",
       "    <tr>\n",
       "      <th rowspan=\"3\" valign=\"top\">Sufficient_sleep</th>\n",
       "      <th>High</th>\n",
       "      <td>25</td>\n",
       "      <td>25</td>\n",
       "      <td>25</td>\n",
       "      <td>25</td>\n",
       "    </tr>\n",
       "    <tr>\n",
       "      <th>Low</th>\n",
       "      <td>902</td>\n",
       "      <td>902</td>\n",
       "      <td>902</td>\n",
       "      <td>902</td>\n",
       "    </tr>\n",
       "    <tr>\n",
       "      <th>Medium</th>\n",
       "      <td>764</td>\n",
       "      <td>764</td>\n",
       "      <td>764</td>\n",
       "      <td>764</td>\n",
       "    </tr>\n",
       "  </tbody>\n",
       "</table>\n",
       "</div>"
      ],
      "text/plain": [
       "                                      AGE  GENDER  MEDIA  MENTAL_HEALTH\n",
       "SLEEP              BEHAVIOUR_PROBLEM                                   \n",
       "Insufficient_sleep High                76      76     76             76\n",
       "                   Low                133     133    133            133\n",
       "                   Medium             128     128    128            128\n",
       "Sufficient_sleep   High                25      25     25             25\n",
       "                   Low                902     902    902            902\n",
       "                   Medium             764     764    764            764"
      ]
     },
     "execution_count": 34,
     "metadata": {},
     "output_type": "execute_result"
    }
   ],
   "source": [
    "#groupby sleep and behaviour problem\n",
    "s_data.groupby(['SLEEP','BEHAVIOUR_PROBLEM']).count()"
   ]
  },
  {
   "cell_type": "code",
   "execution_count": 35,
   "metadata": {},
   "outputs": [
    {
     "data": {
      "image/png": "[encoded data removed]",
      "text/plain": [
       "<Figure size 483.375x360 with 1 Axes>"
      ]
     },
     "metadata": {
      "needs_background": "light"
     },
     "output_type": "display_data"
    }
   ],
   "source": [
    "#catplot to show relation between sleep and behaviour problem\n",
    "sns.catplot(x=\"BEHAVIOUR_PROBLEM\", hue=\"SLEEP\",kind=\"count\" ,data=s_data);\n",
    "plt.show()"
   ]
  },
  {
   "cell_type": "code",
   "execution_count": 36,
   "metadata": {},
   "outputs": [
    {
     "data": {
      "text/html": [
       "<div>\n",
       "<style scoped>\n",
       "    .dataframe tbody tr th:only-of-type {\n",
       "        vertical-align: middle;\n",
       "    }\n",
       "\n",
       "    .dataframe tbody tr th {\n",
       "        vertical-align: top;\n",
       "    }\n",
       "\n",
       "    .dataframe thead th {\n",
       "        text-align: right;\n",
       "    }\n",
       "</style>\n",
       "<table border=\"1\" class=\"dataframe\">\n",
       "  <thead>\n",
       "    <tr style=\"text-align: right;\">\n",
       "      <th></th>\n",
       "      <th>AGE</th>\n",
       "      <th>GENDER</th>\n",
       "      <th>MEDIA</th>\n",
       "      <th>SLEEP</th>\n",
       "      <th>MENTAL_HEALTH</th>\n",
       "      <th>BEHAVIOUR_PROBLEM</th>\n",
       "    </tr>\n",
       "  </thead>\n",
       "  <tbody>\n",
       "    <tr>\n",
       "      <th>0</th>\n",
       "      <td>13</td>\n",
       "      <td>Male</td>\n",
       "      <td>Little Time</td>\n",
       "      <td>Sufficient_sleep</td>\n",
       "      <td>Alright</td>\n",
       "      <td>Low</td>\n",
       "    </tr>\n",
       "    <tr>\n",
       "      <th>1</th>\n",
       "      <td>15</td>\n",
       "      <td>Female</td>\n",
       "      <td>Average Time</td>\n",
       "      <td>Sufficient_sleep</td>\n",
       "      <td>Bad</td>\n",
       "      <td>Medium</td>\n",
       "    </tr>\n",
       "    <tr>\n",
       "      <th>2</th>\n",
       "      <td>14</td>\n",
       "      <td>Male</td>\n",
       "      <td>Little Time</td>\n",
       "      <td>Sufficient_sleep</td>\n",
       "      <td>Good</td>\n",
       "      <td>Medium</td>\n",
       "    </tr>\n",
       "    <tr>\n",
       "      <th>3</th>\n",
       "      <td>13</td>\n",
       "      <td>Male</td>\n",
       "      <td>Little Time</td>\n",
       "      <td>Sufficient_sleep</td>\n",
       "      <td>Good</td>\n",
       "      <td>Low</td>\n",
       "    </tr>\n",
       "    <tr>\n",
       "      <th>4</th>\n",
       "      <td>14</td>\n",
       "      <td>Male</td>\n",
       "      <td>Little Time</td>\n",
       "      <td>Sufficient_sleep</td>\n",
       "      <td>Alright</td>\n",
       "      <td>Medium</td>\n",
       "    </tr>\n",
       "    <tr>\n",
       "      <th>5</th>\n",
       "      <td>17</td>\n",
       "      <td>Male</td>\n",
       "      <td>Little Time</td>\n",
       "      <td>Sufficient_sleep</td>\n",
       "      <td>Very good</td>\n",
       "      <td>Low</td>\n",
       "    </tr>\n",
       "    <tr>\n",
       "      <th>6</th>\n",
       "      <td>16</td>\n",
       "      <td>Male</td>\n",
       "      <td>Little Time</td>\n",
       "      <td>Insufficient_sleep</td>\n",
       "      <td>Good</td>\n",
       "      <td>Low</td>\n",
       "    </tr>\n",
       "    <tr>\n",
       "      <th>7</th>\n",
       "      <td>15</td>\n",
       "      <td>Male</td>\n",
       "      <td>Little Time</td>\n",
       "      <td>Sufficient_sleep</td>\n",
       "      <td>Good</td>\n",
       "      <td>Medium</td>\n",
       "    </tr>\n",
       "    <tr>\n",
       "      <th>8</th>\n",
       "      <td>15</td>\n",
       "      <td>Female</td>\n",
       "      <td>Average Time</td>\n",
       "      <td>Sufficient_sleep</td>\n",
       "      <td>Very good</td>\n",
       "      <td>Medium</td>\n",
       "    </tr>\n",
       "    <tr>\n",
       "      <th>9</th>\n",
       "      <td>13</td>\n",
       "      <td>Male</td>\n",
       "      <td>Little Time</td>\n",
       "      <td>Sufficient_sleep</td>\n",
       "      <td>Bad</td>\n",
       "      <td>Medium</td>\n",
       "    </tr>\n",
       "    <tr>\n",
       "      <th>10</th>\n",
       "      <td>17</td>\n",
       "      <td>Male</td>\n",
       "      <td>Little Time</td>\n",
       "      <td>Sufficient_sleep</td>\n",
       "      <td>Good</td>\n",
       "      <td>Medium</td>\n",
       "    </tr>\n",
       "    <tr>\n",
       "      <th>11</th>\n",
       "      <td>17</td>\n",
       "      <td>Female</td>\n",
       "      <td>Average Time</td>\n",
       "      <td>Sufficient_sleep</td>\n",
       "      <td>Very good</td>\n",
       "      <td>Medium</td>\n",
       "    </tr>\n",
       "    <tr>\n",
       "      <th>12</th>\n",
       "      <td>15</td>\n",
       "      <td>Female</td>\n",
       "      <td>Little Time</td>\n",
       "      <td>Sufficient_sleep</td>\n",
       "      <td>Very good</td>\n",
       "      <td>Low</td>\n",
       "    </tr>\n",
       "    <tr>\n",
       "      <th>13</th>\n",
       "      <td>17</td>\n",
       "      <td>Female</td>\n",
       "      <td>Little Time</td>\n",
       "      <td>Sufficient_sleep</td>\n",
       "      <td>Alright</td>\n",
       "      <td>Medium</td>\n",
       "    </tr>\n",
       "    <tr>\n",
       "      <th>14</th>\n",
       "      <td>13</td>\n",
       "      <td>Female</td>\n",
       "      <td>Long Time</td>\n",
       "      <td>Insufficient_sleep</td>\n",
       "      <td>Bad</td>\n",
       "      <td>Low</td>\n",
       "    </tr>\n",
       "    <tr>\n",
       "      <th>15</th>\n",
       "      <td>15</td>\n",
       "      <td>Male</td>\n",
       "      <td>Little Time</td>\n",
       "      <td>Insufficient_sleep</td>\n",
       "      <td>Very good</td>\n",
       "      <td>Medium</td>\n",
       "    </tr>\n",
       "    <tr>\n",
       "      <th>16</th>\n",
       "      <td>14</td>\n",
       "      <td>Male</td>\n",
       "      <td>Little Time</td>\n",
       "      <td>Sufficient_sleep</td>\n",
       "      <td>Good</td>\n",
       "      <td>Low</td>\n",
       "    </tr>\n",
       "    <tr>\n",
       "      <th>17</th>\n",
       "      <td>14</td>\n",
       "      <td>Male</td>\n",
       "      <td>Little Time</td>\n",
       "      <td>Sufficient_sleep</td>\n",
       "      <td>Good</td>\n",
       "      <td>Low</td>\n",
       "    </tr>\n",
       "    <tr>\n",
       "      <th>18</th>\n",
       "      <td>13</td>\n",
       "      <td>Male</td>\n",
       "      <td>Little Time</td>\n",
       "      <td>Sufficient_sleep</td>\n",
       "      <td>Very good</td>\n",
       "      <td>Medium</td>\n",
       "    </tr>\n",
       "    <tr>\n",
       "      <th>19</th>\n",
       "      <td>15</td>\n",
       "      <td>Female</td>\n",
       "      <td>Little Time</td>\n",
       "      <td>Sufficient_sleep</td>\n",
       "      <td>Very good</td>\n",
       "      <td>Low</td>\n",
       "    </tr>\n",
       "    <tr>\n",
       "      <th>20</th>\n",
       "      <td>13</td>\n",
       "      <td>Female</td>\n",
       "      <td>Average Time</td>\n",
       "      <td>Sufficient_sleep</td>\n",
       "      <td>Good</td>\n",
       "      <td>Low</td>\n",
       "    </tr>\n",
       "    <tr>\n",
       "      <th>21</th>\n",
       "      <td>14</td>\n",
       "      <td>Female</td>\n",
       "      <td>Long Time</td>\n",
       "      <td>Sufficient_sleep</td>\n",
       "      <td>Alright</td>\n",
       "      <td>Low</td>\n",
       "    </tr>\n",
       "    <tr>\n",
       "      <th>22</th>\n",
       "      <td>13</td>\n",
       "      <td>Female</td>\n",
       "      <td>Average Time</td>\n",
       "      <td>Sufficient_sleep</td>\n",
       "      <td>Very good</td>\n",
       "      <td>Low</td>\n",
       "    </tr>\n",
       "    <tr>\n",
       "      <th>23</th>\n",
       "      <td>17</td>\n",
       "      <td>Female</td>\n",
       "      <td>Average Time</td>\n",
       "      <td>Sufficient_sleep</td>\n",
       "      <td>Very good</td>\n",
       "      <td>Low</td>\n",
       "    </tr>\n",
       "    <tr>\n",
       "      <th>24</th>\n",
       "      <td>14</td>\n",
       "      <td>Male</td>\n",
       "      <td>Little Time</td>\n",
       "      <td>Sufficient_sleep</td>\n",
       "      <td>Very good</td>\n",
       "      <td>Medium</td>\n",
       "    </tr>\n",
       "    <tr>\n",
       "      <th>25</th>\n",
       "      <td>16</td>\n",
       "      <td>Female</td>\n",
       "      <td>Long Time</td>\n",
       "      <td>Insufficient_sleep</td>\n",
       "      <td>Very good</td>\n",
       "      <td>Medium</td>\n",
       "    </tr>\n",
       "    <tr>\n",
       "      <th>26</th>\n",
       "      <td>17</td>\n",
       "      <td>Female</td>\n",
       "      <td>Average Time</td>\n",
       "      <td>Sufficient_sleep</td>\n",
       "      <td>Very good</td>\n",
       "      <td>Low</td>\n",
       "    </tr>\n",
       "    <tr>\n",
       "      <th>27</th>\n",
       "      <td>17</td>\n",
       "      <td>Female</td>\n",
       "      <td>Long Time</td>\n",
       "      <td>Sufficient_sleep</td>\n",
       "      <td>Very good</td>\n",
       "      <td>Medium</td>\n",
       "    </tr>\n",
       "    <tr>\n",
       "      <th>28</th>\n",
       "      <td>14</td>\n",
       "      <td>Male</td>\n",
       "      <td>Little Time</td>\n",
       "      <td>Sufficient_sleep</td>\n",
       "      <td>Very good</td>\n",
       "      <td>Low</td>\n",
       "    </tr>\n",
       "    <tr>\n",
       "      <th>29</th>\n",
       "      <td>15</td>\n",
       "      <td>Male</td>\n",
       "      <td>Little Time</td>\n",
       "      <td>Sufficient_sleep</td>\n",
       "      <td>Alright</td>\n",
       "      <td>Low</td>\n",
       "    </tr>\n",
       "    <tr>\n",
       "      <th>...</th>\n",
       "      <td>...</td>\n",
       "      <td>...</td>\n",
       "      <td>...</td>\n",
       "      <td>...</td>\n",
       "      <td>...</td>\n",
       "      <td>...</td>\n",
       "    </tr>\n",
       "    <tr>\n",
       "      <th>1998</th>\n",
       "      <td>16</td>\n",
       "      <td>Male</td>\n",
       "      <td>Little Time</td>\n",
       "      <td>Sufficient_sleep</td>\n",
       "      <td>Very good</td>\n",
       "      <td>Medium</td>\n",
       "    </tr>\n",
       "    <tr>\n",
       "      <th>1999</th>\n",
       "      <td>17</td>\n",
       "      <td>Female</td>\n",
       "      <td>Average Time</td>\n",
       "      <td>Sufficient_sleep</td>\n",
       "      <td>Good</td>\n",
       "      <td>Medium</td>\n",
       "    </tr>\n",
       "    <tr>\n",
       "      <th>2000</th>\n",
       "      <td>17</td>\n",
       "      <td>Female</td>\n",
       "      <td>Long Time</td>\n",
       "      <td>Sufficient_sleep</td>\n",
       "      <td>Very good</td>\n",
       "      <td>Medium</td>\n",
       "    </tr>\n",
       "    <tr>\n",
       "      <th>2001</th>\n",
       "      <td>17</td>\n",
       "      <td>Male</td>\n",
       "      <td>Little Time</td>\n",
       "      <td>Insufficient_sleep</td>\n",
       "      <td>Bad</td>\n",
       "      <td>Medium</td>\n",
       "    </tr>\n",
       "    <tr>\n",
       "      <th>2002</th>\n",
       "      <td>15</td>\n",
       "      <td>Female</td>\n",
       "      <td>Average Time</td>\n",
       "      <td>Sufficient_sleep</td>\n",
       "      <td>Good</td>\n",
       "      <td>Medium</td>\n",
       "    </tr>\n",
       "    <tr>\n",
       "      <th>2003</th>\n",
       "      <td>13</td>\n",
       "      <td>Female</td>\n",
       "      <td>Average Time</td>\n",
       "      <td>Sufficient_sleep</td>\n",
       "      <td>Alright</td>\n",
       "      <td>Medium</td>\n",
       "    </tr>\n",
       "    <tr>\n",
       "      <th>2004</th>\n",
       "      <td>14</td>\n",
       "      <td>Female</td>\n",
       "      <td>Long Time</td>\n",
       "      <td>Insufficient_sleep</td>\n",
       "      <td>Very good</td>\n",
       "      <td>High</td>\n",
       "    </tr>\n",
       "    <tr>\n",
       "      <th>2005</th>\n",
       "      <td>14</td>\n",
       "      <td>Male</td>\n",
       "      <td>Little Time</td>\n",
       "      <td>Sufficient_sleep</td>\n",
       "      <td>Very good</td>\n",
       "      <td>Low</td>\n",
       "    </tr>\n",
       "    <tr>\n",
       "      <th>2006</th>\n",
       "      <td>13</td>\n",
       "      <td>Male</td>\n",
       "      <td>Little Time</td>\n",
       "      <td>Sufficient_sleep</td>\n",
       "      <td>Very good</td>\n",
       "      <td>Low</td>\n",
       "    </tr>\n",
       "    <tr>\n",
       "      <th>2007</th>\n",
       "      <td>15</td>\n",
       "      <td>Male</td>\n",
       "      <td>Little Time</td>\n",
       "      <td>Sufficient_sleep</td>\n",
       "      <td>Very good</td>\n",
       "      <td>Medium</td>\n",
       "    </tr>\n",
       "    <tr>\n",
       "      <th>2008</th>\n",
       "      <td>16</td>\n",
       "      <td>Male</td>\n",
       "      <td>Little Time</td>\n",
       "      <td>Insufficient_sleep</td>\n",
       "      <td>Very good</td>\n",
       "      <td>Low</td>\n",
       "    </tr>\n",
       "    <tr>\n",
       "      <th>2009</th>\n",
       "      <td>16</td>\n",
       "      <td>Female</td>\n",
       "      <td>Long Time</td>\n",
       "      <td>Sufficient_sleep</td>\n",
       "      <td>Good</td>\n",
       "      <td>Medium</td>\n",
       "    </tr>\n",
       "    <tr>\n",
       "      <th>2010</th>\n",
       "      <td>15</td>\n",
       "      <td>Male</td>\n",
       "      <td>Little Time</td>\n",
       "      <td>Sufficient_sleep</td>\n",
       "      <td>Very good</td>\n",
       "      <td>Low</td>\n",
       "    </tr>\n",
       "    <tr>\n",
       "      <th>2011</th>\n",
       "      <td>15</td>\n",
       "      <td>Male</td>\n",
       "      <td>Little Time</td>\n",
       "      <td>Sufficient_sleep</td>\n",
       "      <td>Good</td>\n",
       "      <td>Low</td>\n",
       "    </tr>\n",
       "    <tr>\n",
       "      <th>2012</th>\n",
       "      <td>15</td>\n",
       "      <td>Female</td>\n",
       "      <td>Little Time</td>\n",
       "      <td>Sufficient_sleep</td>\n",
       "      <td>Alright</td>\n",
       "      <td>Medium</td>\n",
       "    </tr>\n",
       "    <tr>\n",
       "      <th>2013</th>\n",
       "      <td>17</td>\n",
       "      <td>Male</td>\n",
       "      <td>Little Time</td>\n",
       "      <td>Insufficient_sleep</td>\n",
       "      <td>Alright</td>\n",
       "      <td>High</td>\n",
       "    </tr>\n",
       "    <tr>\n",
       "      <th>2014</th>\n",
       "      <td>13</td>\n",
       "      <td>Female</td>\n",
       "      <td>Long Time</td>\n",
       "      <td>Insufficient_sleep</td>\n",
       "      <td>Very good</td>\n",
       "      <td>Low</td>\n",
       "    </tr>\n",
       "    <tr>\n",
       "      <th>2015</th>\n",
       "      <td>13</td>\n",
       "      <td>Female</td>\n",
       "      <td>Long Time</td>\n",
       "      <td>Sufficient_sleep</td>\n",
       "      <td>Bad</td>\n",
       "      <td>Low</td>\n",
       "    </tr>\n",
       "    <tr>\n",
       "      <th>2016</th>\n",
       "      <td>14</td>\n",
       "      <td>Male</td>\n",
       "      <td>Little Time</td>\n",
       "      <td>Sufficient_sleep</td>\n",
       "      <td>Good</td>\n",
       "      <td>Low</td>\n",
       "    </tr>\n",
       "    <tr>\n",
       "      <th>2017</th>\n",
       "      <td>17</td>\n",
       "      <td>Female</td>\n",
       "      <td>Average Time</td>\n",
       "      <td>Insufficient_sleep</td>\n",
       "      <td>Very good</td>\n",
       "      <td>High</td>\n",
       "    </tr>\n",
       "    <tr>\n",
       "      <th>2018</th>\n",
       "      <td>15</td>\n",
       "      <td>Female</td>\n",
       "      <td>Average Time</td>\n",
       "      <td>Sufficient_sleep</td>\n",
       "      <td>Good</td>\n",
       "      <td>Medium</td>\n",
       "    </tr>\n",
       "    <tr>\n",
       "      <th>2019</th>\n",
       "      <td>15</td>\n",
       "      <td>Female</td>\n",
       "      <td>Average Time</td>\n",
       "      <td>Sufficient_sleep</td>\n",
       "      <td>Good</td>\n",
       "      <td>Low</td>\n",
       "    </tr>\n",
       "    <tr>\n",
       "      <th>2020</th>\n",
       "      <td>14</td>\n",
       "      <td>Female</td>\n",
       "      <td>Average Time</td>\n",
       "      <td>Sufficient_sleep</td>\n",
       "      <td>Good</td>\n",
       "      <td>Medium</td>\n",
       "    </tr>\n",
       "    <tr>\n",
       "      <th>2021</th>\n",
       "      <td>13</td>\n",
       "      <td>Male</td>\n",
       "      <td>Little Time</td>\n",
       "      <td>Insufficient_sleep</td>\n",
       "      <td>Good</td>\n",
       "      <td>Medium</td>\n",
       "    </tr>\n",
       "    <tr>\n",
       "      <th>2022</th>\n",
       "      <td>16</td>\n",
       "      <td>Female</td>\n",
       "      <td>Average Time</td>\n",
       "      <td>Sufficient_sleep</td>\n",
       "      <td>Good</td>\n",
       "      <td>Low</td>\n",
       "    </tr>\n",
       "    <tr>\n",
       "      <th>2023</th>\n",
       "      <td>14</td>\n",
       "      <td>Male</td>\n",
       "      <td>Little Time</td>\n",
       "      <td>Sufficient_sleep</td>\n",
       "      <td>Very good</td>\n",
       "      <td>Medium</td>\n",
       "    </tr>\n",
       "    <tr>\n",
       "      <th>2024</th>\n",
       "      <td>16</td>\n",
       "      <td>Female</td>\n",
       "      <td>Long Time</td>\n",
       "      <td>Insufficient_sleep</td>\n",
       "      <td>Good</td>\n",
       "      <td>Low</td>\n",
       "    </tr>\n",
       "    <tr>\n",
       "      <th>2025</th>\n",
       "      <td>14</td>\n",
       "      <td>Female</td>\n",
       "      <td>Long Time</td>\n",
       "      <td>Sufficient_sleep</td>\n",
       "      <td>Very good</td>\n",
       "      <td>Medium</td>\n",
       "    </tr>\n",
       "    <tr>\n",
       "      <th>2026</th>\n",
       "      <td>16</td>\n",
       "      <td>Male</td>\n",
       "      <td>Little Time</td>\n",
       "      <td>Sufficient_sleep</td>\n",
       "      <td>Alright</td>\n",
       "      <td>Medium</td>\n",
       "    </tr>\n",
       "    <tr>\n",
       "      <th>2027</th>\n",
       "      <td>17</td>\n",
       "      <td>Male</td>\n",
       "      <td>Little Time</td>\n",
       "      <td>Sufficient_sleep</td>\n",
       "      <td>Bad</td>\n",
       "      <td>Medium</td>\n",
       "    </tr>\n",
       "  </tbody>\n",
       "</table>\n",
       "<p>2028 rows × 6 columns</p>\n",
       "</div>"
      ],
      "text/plain": [
       "      AGE  GENDER         MEDIA               SLEEP MENTAL_HEALTH  \\\n",
       "0      13    Male   Little Time    Sufficient_sleep       Alright   \n",
       "1      15  Female  Average Time    Sufficient_sleep           Bad   \n",
       "2      14    Male   Little Time    Sufficient_sleep          Good   \n",
       "3      13    Male   Little Time    Sufficient_sleep          Good   \n",
       "4      14    Male   Little Time    Sufficient_sleep       Alright   \n",
       "5      17    Male   Little Time    Sufficient_sleep     Very good   \n",
       "6      16    Male   Little Time  Insufficient_sleep          Good   \n",
       "7      15    Male   Little Time    Sufficient_sleep          Good   \n",
       "8      15  Female  Average Time    Sufficient_sleep     Very good   \n",
       "9      13    Male   Little Time    Sufficient_sleep           Bad   \n",
       "10     17    Male   Little Time    Sufficient_sleep          Good   \n",
       "11     17  Female  Average Time    Sufficient_sleep     Very good   \n",
       "12     15  Female   Little Time    Sufficient_sleep     Very good   \n",
       "13     17  Female   Little Time    Sufficient_sleep       Alright   \n",
       "14     13  Female     Long Time  Insufficient_sleep           Bad   \n",
       "15     15    Male   Little Time  Insufficient_sleep     Very good   \n",
       "16     14    Male   Little Time    Sufficient_sleep          Good   \n",
       "17     14    Male   Little Time    Sufficient_sleep          Good   \n",
       "18     13    Male   Little Time    Sufficient_sleep     Very good   \n",
       "19     15  Female   Little Time    Sufficient_sleep     Very good   \n",
       "20     13  Female  Average Time    Sufficient_sleep          Good   \n",
       "21     14  Female     Long Time    Sufficient_sleep       Alright   \n",
       "22     13  Female  Average Time    Sufficient_sleep     Very good   \n",
       "23     17  Female  Average Time    Sufficient_sleep     Very good   \n",
       "24     14    Male   Little Time    Sufficient_sleep     Very good   \n",
       "25     16  Female     Long Time  Insufficient_sleep     Very good   \n",
       "26     17  Female  Average Time    Sufficient_sleep     Very good   \n",
       "27     17  Female     Long Time    Sufficient_sleep     Very good   \n",
       "28     14    Male   Little Time    Sufficient_sleep     Very good   \n",
       "29     15    Male   Little Time    Sufficient_sleep       Alright   \n",
       "...   ...     ...           ...                 ...           ...   \n",
       "1998   16    Male   Little Time    Sufficient_sleep     Very good   \n",
       "1999   17  Female  Average Time    Sufficient_sleep          Good   \n",
       "2000   17  Female     Long Time    Sufficient_sleep     Very good   \n",
       "2001   17    Male   Little Time  Insufficient_sleep           Bad   \n",
       "2002   15  Female  Average Time    Sufficient_sleep          Good   \n",
       "2003   13  Female  Average Time    Sufficient_sleep       Alright   \n",
       "2004   14  Female     Long Time  Insufficient_sleep     Very good   \n",
       "2005   14    Male   Little Time    Sufficient_sleep     Very good   \n",
       "2006   13    Male   Little Time    Sufficient_sleep     Very good   \n",
       "2007   15    Male   Little Time    Sufficient_sleep     Very good   \n",
       "2008   16    Male   Little Time  Insufficient_sleep     Very good   \n",
       "2009   16  Female     Long Time    Sufficient_sleep          Good   \n",
       "2010   15    Male   Little Time    Sufficient_sleep     Very good   \n",
       "2011   15    Male   Little Time    Sufficient_sleep          Good   \n",
       "2012   15  Female   Little Time    Sufficient_sleep       Alright   \n",
       "2013   17    Male   Little Time  Insufficient_sleep       Alright   \n",
       "2014   13  Female     Long Time  Insufficient_sleep     Very good   \n",
       "2015   13  Female     Long Time    Sufficient_sleep           Bad   \n",
       "2016   14    Male   Little Time    Sufficient_sleep          Good   \n",
       "2017   17  Female  Average Time  Insufficient_sleep     Very good   \n",
       "2018   15  Female  Average Time    Sufficient_sleep          Good   \n",
       "2019   15  Female  Average Time    Sufficient_sleep          Good   \n",
       "2020   14  Female  Average Time    Sufficient_sleep          Good   \n",
       "2021   13    Male   Little Time  Insufficient_sleep          Good   \n",
       "2022   16  Female  Average Time    Sufficient_sleep          Good   \n",
       "2023   14    Male   Little Time    Sufficient_sleep     Very good   \n",
       "2024   16  Female     Long Time  Insufficient_sleep          Good   \n",
       "2025   14  Female     Long Time    Sufficient_sleep     Very good   \n",
       "2026   16    Male   Little Time    Sufficient_sleep       Alright   \n",
       "2027   17    Male   Little Time    Sufficient_sleep           Bad   \n",
       "\n",
       "     BEHAVIOUR_PROBLEM  \n",
       "0                  Low  \n",
       "1               Medium  \n",
       "2               Medium  \n",
       "3                  Low  \n",
       "4               Medium  \n",
       "5                  Low  \n",
       "6                  Low  \n",
       "7               Medium  \n",
       "8               Medium  \n",
       "9               Medium  \n",
       "10              Medium  \n",
       "11              Medium  \n",
       "12                 Low  \n",
       "13              Medium  \n",
       "14                 Low  \n",
       "15              Medium  \n",
       "16                 Low  \n",
       "17                 Low  \n",
       "18              Medium  \n",
       "19                 Low  \n",
       "20                 Low  \n",
       "21                 Low  \n",
       "22                 Low  \n",
       "23                 Low  \n",
       "24              Medium  \n",
       "25              Medium  \n",
       "26                 Low  \n",
       "27              Medium  \n",
       "28                 Low  \n",
       "29                 Low  \n",
       "...                ...  \n",
       "1998            Medium  \n",
       "1999            Medium  \n",
       "2000            Medium  \n",
       "2001            Medium  \n",
       "2002            Medium  \n",
       "2003            Medium  \n",
       "2004              High  \n",
       "2005               Low  \n",
       "2006               Low  \n",
       "2007            Medium  \n",
       "2008               Low  \n",
       "2009            Medium  \n",
       "2010               Low  \n",
       "2011               Low  \n",
       "2012            Medium  \n",
       "2013              High  \n",
       "2014               Low  \n",
       "2015               Low  \n",
       "2016               Low  \n",
       "2017              High  \n",
       "2018            Medium  \n",
       "2019               Low  \n",
       "2020            Medium  \n",
       "2021            Medium  \n",
       "2022               Low  \n",
       "2023            Medium  \n",
       "2024               Low  \n",
       "2025            Medium  \n",
       "2026            Medium  \n",
       "2027            Medium  \n",
       "\n",
       "[2028 rows x 6 columns]"
      ]
     },
     "execution_count": 36,
     "metadata": {},
     "output_type": "execute_result"
    }
   ],
   "source": [
    "#simulated dataset\n",
    "s_data"
   ]
  },
  {
   "cell_type": "markdown",
   "metadata": {},
   "source": [
    "## Relation between Behaviour and Sleep\n"
   ]
  },
  {
   "cell_type": "code",
   "execution_count": 37,
   "metadata": {},
   "outputs": [
    {
     "data": {
      "text/html": [
       "<div>\n",
       "<style scoped>\n",
       "    .dataframe tbody tr th:only-of-type {\n",
       "        vertical-align: middle;\n",
       "    }\n",
       "\n",
       "    .dataframe tbody tr th {\n",
       "        vertical-align: top;\n",
       "    }\n",
       "\n",
       "    .dataframe thead th {\n",
       "        text-align: right;\n",
       "    }\n",
       "</style>\n",
       "<table border=\"1\" class=\"dataframe\">\n",
       "  <thead>\n",
       "    <tr style=\"text-align: right;\">\n",
       "      <th>SLEEP</th>\n",
       "      <th>Insufficient_sleep</th>\n",
       "      <th>Sufficient_sleep</th>\n",
       "      <th>All</th>\n",
       "    </tr>\n",
       "    <tr>\n",
       "      <th>BEHAVIOUR_PROBLEM</th>\n",
       "      <th></th>\n",
       "      <th></th>\n",
       "      <th></th>\n",
       "    </tr>\n",
       "  </thead>\n",
       "  <tbody>\n",
       "    <tr>\n",
       "      <th>High</th>\n",
       "      <td>76</td>\n",
       "      <td>25</td>\n",
       "      <td>101</td>\n",
       "    </tr>\n",
       "    <tr>\n",
       "      <th>Low</th>\n",
       "      <td>133</td>\n",
       "      <td>902</td>\n",
       "      <td>1035</td>\n",
       "    </tr>\n",
       "    <tr>\n",
       "      <th>Medium</th>\n",
       "      <td>128</td>\n",
       "      <td>764</td>\n",
       "      <td>892</td>\n",
       "    </tr>\n",
       "    <tr>\n",
       "      <th>All</th>\n",
       "      <td>337</td>\n",
       "      <td>1691</td>\n",
       "      <td>2028</td>\n",
       "    </tr>\n",
       "  </tbody>\n",
       "</table>\n",
       "</div>"
      ],
      "text/plain": [
       "SLEEP              Insufficient_sleep  Sufficient_sleep   All\n",
       "BEHAVIOUR_PROBLEM                                            \n",
       "High                               76                25   101\n",
       "Low                               133               902  1035\n",
       "Medium                            128               764   892\n",
       "All                               337              1691  2028"
      ]
     },
     "execution_count": 37,
     "metadata": {},
     "output_type": "execute_result"
    }
   ],
   "source": [
    "#source: https://codingdisciple.com/chi-squared-python.html\n",
    "#this is the test to find out if there is a  relation between two categorical data columns\n",
    "contingency_table = pd.crosstab(\n",
    "    s_data['BEHAVIOUR_PROBLEM'],\n",
    "    s_data['SLEEP'],\n",
    "    margins = True\n",
    ")\n",
    "contingency_table"
   ]
  },
  {
   "cell_type": "code",
   "execution_count": 38,
   "metadata": {},
   "outputs": [
    {
     "data": {
      "text/plain": [
       "array([[ 76,  25],\n",
       "       [133, 902],\n",
       "       [128, 764]], dtype=int64)"
      ]
     },
     "execution_count": 38,
     "metadata": {},
     "output_type": "execute_result"
    }
   ],
   "source": [
    "f_obs = np.array([contingency_table.iloc[0][0:2].values,\n",
    "                  contingency_table.iloc[1][0:2].values,\n",
    "                 contingency_table.iloc[2][0:2].values,])\n",
    "f_obs"
   ]
  },
  {
   "cell_type": "code",
   "execution_count": 39,
   "metadata": {},
   "outputs": [
    {
     "data": {
      "text/plain": [
       "(264.47880015816787, 3.7081582121184175e-58, 2)"
      ]
     },
     "execution_count": 39,
     "metadata": {},
     "output_type": "execute_result"
    }
   ],
   "source": [
    "from scipy import stats\n",
    "stats.chi2_contingency(f_obs)[0:3]"
   ]
  },
  {
   "cell_type": "markdown",
   "metadata": {},
   "source": [
    "With a p-value < 0.05 , we can reject the null hypothesis. There is definitely some sort of relationship between 'BEHAVIOUR_PROBLEM' and the 'SLEEP' column.According to the research,  Individuals who were in the High frequency problem group were more likely  of getting Insufficient sleep compared to Low group engage of problem behaviour. "
   ]
  },
  {
   "cell_type": "markdown",
   "metadata": {},
   "source": [
    "## Relation between Gender and Sleep"
   ]
  },
  {
   "cell_type": "code",
   "execution_count": 40,
   "metadata": {},
   "outputs": [
    {
     "data": {
      "text/html": [
       "<div>\n",
       "<style scoped>\n",
       "    .dataframe tbody tr th:only-of-type {\n",
       "        vertical-align: middle;\n",
       "    }\n",
       "\n",
       "    .dataframe tbody tr th {\n",
       "        vertical-align: top;\n",
       "    }\n",
       "\n",
       "    .dataframe thead th {\n",
       "        text-align: right;\n",
       "    }\n",
       "</style>\n",
       "<table border=\"1\" class=\"dataframe\">\n",
       "  <thead>\n",
       "    <tr style=\"text-align: right;\">\n",
       "      <th></th>\n",
       "      <th></th>\n",
       "      <th>AGE</th>\n",
       "      <th>MEDIA</th>\n",
       "      <th>MENTAL_HEALTH</th>\n",
       "      <th>BEHAVIOUR_PROBLEM</th>\n",
       "    </tr>\n",
       "    <tr>\n",
       "      <th>GENDER</th>\n",
       "      <th>SLEEP</th>\n",
       "      <th></th>\n",
       "      <th></th>\n",
       "      <th></th>\n",
       "      <th></th>\n",
       "    </tr>\n",
       "  </thead>\n",
       "  <tbody>\n",
       "    <tr>\n",
       "      <th rowspan=\"2\" valign=\"top\">Female</th>\n",
       "      <th>Insufficient_sleep</th>\n",
       "      <td>198</td>\n",
       "      <td>198</td>\n",
       "      <td>198</td>\n",
       "      <td>198</td>\n",
       "    </tr>\n",
       "    <tr>\n",
       "      <th>Sufficient_sleep</th>\n",
       "      <td>833</td>\n",
       "      <td>833</td>\n",
       "      <td>833</td>\n",
       "      <td>833</td>\n",
       "    </tr>\n",
       "    <tr>\n",
       "      <th rowspan=\"2\" valign=\"top\">Male</th>\n",
       "      <th>Insufficient_sleep</th>\n",
       "      <td>139</td>\n",
       "      <td>139</td>\n",
       "      <td>139</td>\n",
       "      <td>139</td>\n",
       "    </tr>\n",
       "    <tr>\n",
       "      <th>Sufficient_sleep</th>\n",
       "      <td>858</td>\n",
       "      <td>858</td>\n",
       "      <td>858</td>\n",
       "      <td>858</td>\n",
       "    </tr>\n",
       "  </tbody>\n",
       "</table>\n",
       "</div>"
      ],
      "text/plain": [
       "                           AGE  MEDIA  MENTAL_HEALTH  BEHAVIOUR_PROBLEM\n",
       "GENDER SLEEP                                                           \n",
       "Female Insufficient_sleep  198    198            198                198\n",
       "       Sufficient_sleep    833    833            833                833\n",
       "Male   Insufficient_sleep  139    139            139                139\n",
       "       Sufficient_sleep    858    858            858                858"
      ]
     },
     "execution_count": 40,
     "metadata": {},
     "output_type": "execute_result"
    }
   ],
   "source": [
    "s_data.groupby(['GENDER','SLEEP']).count()"
   ]
  },
  {
   "cell_type": "code",
   "execution_count": 41,
   "metadata": {},
   "outputs": [
    {
     "data": {
      "text/html": [
       "<div>\n",
       "<style scoped>\n",
       "    .dataframe tbody tr th:only-of-type {\n",
       "        vertical-align: middle;\n",
       "    }\n",
       "\n",
       "    .dataframe tbody tr th {\n",
       "        vertical-align: top;\n",
       "    }\n",
       "\n",
       "    .dataframe thead th {\n",
       "        text-align: right;\n",
       "    }\n",
       "</style>\n",
       "<table border=\"1\" class=\"dataframe\">\n",
       "  <thead>\n",
       "    <tr style=\"text-align: right;\">\n",
       "      <th>SLEEP</th>\n",
       "      <th>Insufficient_sleep</th>\n",
       "      <th>Sufficient_sleep</th>\n",
       "      <th>All</th>\n",
       "    </tr>\n",
       "    <tr>\n",
       "      <th>GENDER</th>\n",
       "      <th></th>\n",
       "      <th></th>\n",
       "      <th></th>\n",
       "    </tr>\n",
       "  </thead>\n",
       "  <tbody>\n",
       "    <tr>\n",
       "      <th>Female</th>\n",
       "      <td>198</td>\n",
       "      <td>833</td>\n",
       "      <td>1031</td>\n",
       "    </tr>\n",
       "    <tr>\n",
       "      <th>Male</th>\n",
       "      <td>139</td>\n",
       "      <td>858</td>\n",
       "      <td>997</td>\n",
       "    </tr>\n",
       "    <tr>\n",
       "      <th>All</th>\n",
       "      <td>337</td>\n",
       "      <td>1691</td>\n",
       "      <td>2028</td>\n",
       "    </tr>\n",
       "  </tbody>\n",
       "</table>\n",
       "</div>"
      ],
      "text/plain": [
       "SLEEP   Insufficient_sleep  Sufficient_sleep   All\n",
       "GENDER                                            \n",
       "Female                 198               833  1031\n",
       "Male                   139               858   997\n",
       "All                    337              1691  2028"
      ]
     },
     "execution_count": 41,
     "metadata": {},
     "output_type": "execute_result"
    }
   ],
   "source": [
    "contingency_table = pd.crosstab(\n",
    "    s_data['GENDER'],\n",
    "    s_data['SLEEP'],\n",
    "    margins = True\n",
    ")\n",
    "contingency_table"
   ]
  },
  {
   "cell_type": "code",
   "execution_count": 42,
   "metadata": {},
   "outputs": [
    {
     "data": {
      "text/plain": [
       "array([[198, 833],\n",
       "       [139, 858]], dtype=int64)"
      ]
     },
     "execution_count": 42,
     "metadata": {},
     "output_type": "execute_result"
    }
   ],
   "source": [
    "f_obs = np.array([contingency_table.iloc[0][0:2].values,\n",
    "                  contingency_table.iloc[1][0:2].values])\n",
    "f_obs"
   ]
  },
  {
   "cell_type": "code",
   "execution_count": 43,
   "metadata": {},
   "outputs": [
    {
     "data": {
      "text/plain": [
       "(9.755545007854096, 0.001787826319259483, 1)"
      ]
     },
     "execution_count": 43,
     "metadata": {},
     "output_type": "execute_result"
    }
   ],
   "source": [
    "from scipy import stats\n",
    "stats.chi2_contingency(f_obs)[0:3]"
   ]
  },
  {
   "cell_type": "markdown",
   "metadata": {},
   "source": [
    " Here it shows there is a relation between gender and sleep. In this research they find that girls are most likely to have insufficient sleep but further studies find there is not a strong relation to support the hypothesis."
   ]
  },
  {
   "cell_type": "markdown",
   "metadata": {},
   "source": [
    "## Relation between Mental Health and Sleep"
   ]
  },
  {
   "cell_type": "code",
   "execution_count": 44,
   "metadata": {},
   "outputs": [
    {
     "data": {
      "text/html": [
       "<div>\n",
       "<style scoped>\n",
       "    .dataframe tbody tr th:only-of-type {\n",
       "        vertical-align: middle;\n",
       "    }\n",
       "\n",
       "    .dataframe tbody tr th {\n",
       "        vertical-align: top;\n",
       "    }\n",
       "\n",
       "    .dataframe thead th {\n",
       "        text-align: right;\n",
       "    }\n",
       "</style>\n",
       "<table border=\"1\" class=\"dataframe\">\n",
       "  <thead>\n",
       "    <tr style=\"text-align: right;\">\n",
       "      <th>SLEEP</th>\n",
       "      <th>Insufficient_sleep</th>\n",
       "      <th>Sufficient_sleep</th>\n",
       "      <th>All</th>\n",
       "    </tr>\n",
       "    <tr>\n",
       "      <th>MENTAL_HEALTH</th>\n",
       "      <th></th>\n",
       "      <th></th>\n",
       "      <th></th>\n",
       "    </tr>\n",
       "  </thead>\n",
       "  <tbody>\n",
       "    <tr>\n",
       "      <th>Alright</th>\n",
       "      <td>47</td>\n",
       "      <td>189</td>\n",
       "      <td>236</td>\n",
       "    </tr>\n",
       "    <tr>\n",
       "      <th>Bad</th>\n",
       "      <td>92</td>\n",
       "      <td>87</td>\n",
       "      <td>179</td>\n",
       "    </tr>\n",
       "    <tr>\n",
       "      <th>Good</th>\n",
       "      <td>98</td>\n",
       "      <td>685</td>\n",
       "      <td>783</td>\n",
       "    </tr>\n",
       "    <tr>\n",
       "      <th>Very good</th>\n",
       "      <td>100</td>\n",
       "      <td>730</td>\n",
       "      <td>830</td>\n",
       "    </tr>\n",
       "    <tr>\n",
       "      <th>All</th>\n",
       "      <td>337</td>\n",
       "      <td>1691</td>\n",
       "      <td>2028</td>\n",
       "    </tr>\n",
       "  </tbody>\n",
       "</table>\n",
       "</div>"
      ],
      "text/plain": [
       "SLEEP          Insufficient_sleep  Sufficient_sleep   All\n",
       "MENTAL_HEALTH                                            \n",
       "Alright                        47               189   236\n",
       "Bad                            92                87   179\n",
       "Good                           98               685   783\n",
       "Very good                     100               730   830\n",
       "All                           337              1691  2028"
      ]
     },
     "execution_count": 44,
     "metadata": {},
     "output_type": "execute_result"
    }
   ],
   "source": [
    "contingency_table = pd.crosstab(\n",
    "    s_data['MENTAL_HEALTH'],\n",
    "    s_data['SLEEP'],\n",
    "    margins = True\n",
    ")\n",
    "contingency_table"
   ]
  },
  {
   "cell_type": "code",
   "execution_count": 45,
   "metadata": {},
   "outputs": [
    {
     "data": {
      "text/plain": [
       "array([[ 47, 189],\n",
       "       [ 92,  87],\n",
       "       [ 98, 685]], dtype=int64)"
      ]
     },
     "execution_count": 45,
     "metadata": {},
     "output_type": "execute_result"
    }
   ],
   "source": [
    "f_obs = np.array([contingency_table.iloc[0][0:2].values,\n",
    "                  contingency_table.iloc[1][0:2].values,\n",
    "                 contingency_table.iloc[2][0:2].values])\n",
    "f_obs"
   ]
  },
  {
   "cell_type": "code",
   "execution_count": 46,
   "metadata": {},
   "outputs": [
    {
     "data": {
      "text/plain": [
       "(138.79044011314778, 7.278449263346988e-31, 2)"
      ]
     },
     "execution_count": 46,
     "metadata": {},
     "output_type": "execute_result"
    }
   ],
   "source": [
    "from scipy import stats\n",
    "stats.chi2_contingency(f_obs)[0:3]"
   ]
  },
  {
   "cell_type": "markdown",
   "metadata": {},
   "source": [
    "With a p-value < 0.05 , we can reject the null hypothesis. There is definitely some sort of relationship between 'MENTAL_HEALTH' and the 'SLEEP' column. According to research those individuals that rated there mental health bad had (56.9%) chance of getting Insufficient sleep compared to only (6%) in the Very good mental health group. "
   ]
  },
  {
   "cell_type": "markdown",
   "metadata": {},
   "source": [
    "## Relation between media and sleep"
   ]
  },
  {
   "cell_type": "code",
   "execution_count": 47,
   "metadata": {},
   "outputs": [
    {
     "data": {
      "text/html": [
       "<div>\n",
       "<style scoped>\n",
       "    .dataframe tbody tr th:only-of-type {\n",
       "        vertical-align: middle;\n",
       "    }\n",
       "\n",
       "    .dataframe tbody tr th {\n",
       "        vertical-align: top;\n",
       "    }\n",
       "\n",
       "    .dataframe thead th {\n",
       "        text-align: right;\n",
       "    }\n",
       "</style>\n",
       "<table border=\"1\" class=\"dataframe\">\n",
       "  <thead>\n",
       "    <tr style=\"text-align: right;\">\n",
       "      <th>SLEEP</th>\n",
       "      <th>Insufficient_sleep</th>\n",
       "      <th>Sufficient_sleep</th>\n",
       "      <th>All</th>\n",
       "    </tr>\n",
       "    <tr>\n",
       "      <th>MEDIA</th>\n",
       "      <th></th>\n",
       "      <th></th>\n",
       "      <th></th>\n",
       "    </tr>\n",
       "  </thead>\n",
       "  <tbody>\n",
       "    <tr>\n",
       "      <th>Average Time</th>\n",
       "      <td>90</td>\n",
       "      <td>527</td>\n",
       "      <td>617</td>\n",
       "    </tr>\n",
       "    <tr>\n",
       "      <th>Little Time</th>\n",
       "      <td>162</td>\n",
       "      <td>968</td>\n",
       "      <td>1130</td>\n",
       "    </tr>\n",
       "    <tr>\n",
       "      <th>Long Time</th>\n",
       "      <td>85</td>\n",
       "      <td>196</td>\n",
       "      <td>281</td>\n",
       "    </tr>\n",
       "    <tr>\n",
       "      <th>All</th>\n",
       "      <td>337</td>\n",
       "      <td>1691</td>\n",
       "      <td>2028</td>\n",
       "    </tr>\n",
       "  </tbody>\n",
       "</table>\n",
       "</div>"
      ],
      "text/plain": [
       "SLEEP         Insufficient_sleep  Sufficient_sleep   All\n",
       "MEDIA                                                   \n",
       "Average Time                  90               527   617\n",
       "Little Time                  162               968  1130\n",
       "Long Time                     85               196   281\n",
       "All                          337              1691  2028"
      ]
     },
     "execution_count": 47,
     "metadata": {},
     "output_type": "execute_result"
    }
   ],
   "source": [
    "contingency_table = pd.crosstab(\n",
    "    s_data['MEDIA'],\n",
    "    s_data['SLEEP'],\n",
    "    margins = True\n",
    ")\n",
    "contingency_table"
   ]
  },
  {
   "cell_type": "code",
   "execution_count": 48,
   "metadata": {},
   "outputs": [
    {
     "data": {
      "text/plain": [
       "array([[ 90, 527],\n",
       "       [162, 968],\n",
       "       [ 85, 196]], dtype=int64)"
      ]
     },
     "execution_count": 48,
     "metadata": {},
     "output_type": "execute_result"
    }
   ],
   "source": [
    "f_obs = np.array([contingency_table.iloc[0][0:2].values,\n",
    "                  contingency_table.iloc[1][0:2].values,\n",
    "                 contingency_table.iloc[2][0:2].values])\n",
    "f_obs"
   ]
  },
  {
   "cell_type": "code",
   "execution_count": 49,
   "metadata": {},
   "outputs": [
    {
     "data": {
      "text/plain": [
       "(43.76495431608428, 3.137335183423458e-10, 2)"
      ]
     },
     "execution_count": 49,
     "metadata": {},
     "output_type": "execute_result"
    }
   ],
   "source": [
    "from scipy import stats\n",
    "stats.chi2_contingency(f_obs)[0:3]"
   ]
  },
  {
   "cell_type": "markdown",
   "metadata": {},
   "source": [
    "With a p-value < 0.05 , we can reject the null hypothesis. There is definitely some sort of relationship between 'MEDIA' and the 'SLEEP' column.as that research shows Those that spent a Long time on social media were more likely to get Insufficient sleep (26.4%) compared to those that spent Little time (9.7 %). "
   ]
  },
  {
   "cell_type": "markdown",
   "metadata": {},
   "source": [
    "SOURCE: https://www.kaggle.com/kuldeepnpatel/chi-square-test-of-independence "
   ]
  },
  {
   "cell_type": "code",
   "execution_count": 50,
   "metadata": {},
   "outputs": [
    {
     "data": {
      "text/html": [
       "<div>\n",
       "<style scoped>\n",
       "    .dataframe tbody tr th:only-of-type {\n",
       "        vertical-align: middle;\n",
       "    }\n",
       "\n",
       "    .dataframe tbody tr th {\n",
       "        vertical-align: top;\n",
       "    }\n",
       "\n",
       "    .dataframe thead th {\n",
       "        text-align: right;\n",
       "    }\n",
       "</style>\n",
       "<table border=\"1\" class=\"dataframe\">\n",
       "  <thead>\n",
       "    <tr style=\"text-align: right;\">\n",
       "      <th></th>\n",
       "      <th>MEDIA_Average Time</th>\n",
       "      <th>MEDIA_Little Time</th>\n",
       "      <th>MEDIA_Long Time</th>\n",
       "      <th>SLEEP_Insufficient_sleep</th>\n",
       "      <th>SLEEP_Sufficient_sleep</th>\n",
       "      <th>MENTAL_HEALTH_Alright</th>\n",
       "      <th>MENTAL_HEALTH_Bad</th>\n",
       "      <th>MENTAL_HEALTH_Good</th>\n",
       "      <th>MENTAL_HEALTH_Very good</th>\n",
       "      <th>BEHAVIOUR_PROBLEM_High</th>\n",
       "      <th>BEHAVIOUR_PROBLEM_Low</th>\n",
       "      <th>BEHAVIOUR_PROBLEM_Medium</th>\n",
       "    </tr>\n",
       "  </thead>\n",
       "  <tbody>\n",
       "    <tr>\n",
       "      <th>MEDIA_Average Time</th>\n",
       "      <td>1.000000</td>\n",
       "      <td>-0.741789</td>\n",
       "      <td>-0.265207</td>\n",
       "      <td>-0.036074</td>\n",
       "      <td>0.036074</td>\n",
       "      <td>-0.039441</td>\n",
       "      <td>0.009600</td>\n",
       "      <td>0.034737</td>\n",
       "      <td>-0.014211</td>\n",
       "      <td>-0.028222</td>\n",
       "      <td>0.064557</td>\n",
       "      <td>-0.052647</td>\n",
       "    </tr>\n",
       "    <tr>\n",
       "      <th>MEDIA_Little Time</th>\n",
       "      <td>-0.741789</td>\n",
       "      <td>1.000000</td>\n",
       "      <td>-0.449891</td>\n",
       "      <td>-0.068742</td>\n",
       "      <td>0.068742</td>\n",
       "      <td>0.044891</td>\n",
       "      <td>-0.048077</td>\n",
       "      <td>-0.008741</td>\n",
       "      <td>0.007116</td>\n",
       "      <td>0.016989</td>\n",
       "      <td>-0.045081</td>\n",
       "      <td>0.037956</td>\n",
       "    </tr>\n",
       "    <tr>\n",
       "      <th>MEDIA_Long Time</th>\n",
       "      <td>-0.265207</td>\n",
       "      <td>-0.449891</td>\n",
       "      <td>1.000000</td>\n",
       "      <td>0.146872</td>\n",
       "      <td>-0.146872</td>\n",
       "      <td>-0.012018</td>\n",
       "      <td>0.056338</td>\n",
       "      <td>-0.033692</td>\n",
       "      <td>0.008694</td>\n",
       "      <td>0.013157</td>\n",
       "      <td>-0.021156</td>\n",
       "      <td>0.015540</td>\n",
       "    </tr>\n",
       "    <tr>\n",
       "      <th>SLEEP_Insufficient_sleep</th>\n",
       "      <td>-0.036074</td>\n",
       "      <td>-0.068742</td>\n",
       "      <td>0.146872</td>\n",
       "      <td>1.000000</td>\n",
       "      <td>-1.000000</td>\n",
       "      <td>0.032152</td>\n",
       "      <td>0.290710</td>\n",
       "      <td>-0.087379</td>\n",
       "      <td>-0.102171</td>\n",
       "      <td>0.360597</td>\n",
       "      <td>-0.103320</td>\n",
       "      <td>-0.053981</td>\n",
       "    </tr>\n",
       "    <tr>\n",
       "      <th>SLEEP_Sufficient_sleep</th>\n",
       "      <td>0.036074</td>\n",
       "      <td>0.068742</td>\n",
       "      <td>-0.146872</td>\n",
       "      <td>-1.000000</td>\n",
       "      <td>1.000000</td>\n",
       "      <td>-0.032152</td>\n",
       "      <td>-0.290710</td>\n",
       "      <td>0.087379</td>\n",
       "      <td>0.102171</td>\n",
       "      <td>-0.360597</td>\n",
       "      <td>0.103320</td>\n",
       "      <td>0.053981</td>\n",
       "    </tr>\n",
       "    <tr>\n",
       "      <th>MENTAL_HEALTH_Alright</th>\n",
       "      <td>-0.039441</td>\n",
       "      <td>0.044891</td>\n",
       "      <td>-0.012018</td>\n",
       "      <td>0.032152</td>\n",
       "      <td>-0.032152</td>\n",
       "      <td>1.000000</td>\n",
       "      <td>-0.112913</td>\n",
       "      <td>-0.287795</td>\n",
       "      <td>-0.302063</td>\n",
       "      <td>0.030018</td>\n",
       "      <td>-0.004441</td>\n",
       "      <td>-0.008683</td>\n",
       "    </tr>\n",
       "    <tr>\n",
       "      <th>MENTAL_HEALTH_Bad</th>\n",
       "      <td>0.009600</td>\n",
       "      <td>-0.048077</td>\n",
       "      <td>0.056338</td>\n",
       "      <td>0.290710</td>\n",
       "      <td>-0.290710</td>\n",
       "      <td>-0.112913</td>\n",
       "      <td>1.000000</td>\n",
       "      <td>-0.246748</td>\n",
       "      <td>-0.258981</td>\n",
       "      <td>0.104558</td>\n",
       "      <td>-0.011661</td>\n",
       "      <td>-0.034079</td>\n",
       "    </tr>\n",
       "    <tr>\n",
       "      <th>MENTAL_HEALTH_Good</th>\n",
       "      <td>0.034737</td>\n",
       "      <td>-0.008741</td>\n",
       "      <td>-0.033692</td>\n",
       "      <td>-0.087379</td>\n",
       "      <td>0.087379</td>\n",
       "      <td>-0.287795</td>\n",
       "      <td>-0.246748</td>\n",
       "      <td>1.000000</td>\n",
       "      <td>-0.660096</td>\n",
       "      <td>-0.065162</td>\n",
       "      <td>-0.017441</td>\n",
       "      <td>0.046122</td>\n",
       "    </tr>\n",
       "    <tr>\n",
       "      <th>MENTAL_HEALTH_Very good</th>\n",
       "      <td>-0.014211</td>\n",
       "      <td>0.007116</td>\n",
       "      <td>0.008694</td>\n",
       "      <td>-0.102171</td>\n",
       "      <td>0.102171</td>\n",
       "      <td>-0.302063</td>\n",
       "      <td>-0.258981</td>\n",
       "      <td>-0.660096</td>\n",
       "      <td>1.000000</td>\n",
       "      <td>-0.015380</td>\n",
       "      <td>0.026893</td>\n",
       "      <td>-0.020343</td>\n",
       "    </tr>\n",
       "    <tr>\n",
       "      <th>BEHAVIOUR_PROBLEM_High</th>\n",
       "      <td>-0.028222</td>\n",
       "      <td>0.016989</td>\n",
       "      <td>0.013157</td>\n",
       "      <td>0.360597</td>\n",
       "      <td>-0.360597</td>\n",
       "      <td>0.030018</td>\n",
       "      <td>0.104558</td>\n",
       "      <td>-0.065162</td>\n",
       "      <td>-0.015380</td>\n",
       "      <td>1.000000</td>\n",
       "      <td>-0.233730</td>\n",
       "      <td>-0.202868</td>\n",
       "    </tr>\n",
       "    <tr>\n",
       "      <th>BEHAVIOUR_PROBLEM_Low</th>\n",
       "      <td>0.064557</td>\n",
       "      <td>-0.045081</td>\n",
       "      <td>-0.021156</td>\n",
       "      <td>-0.103320</td>\n",
       "      <td>0.103320</td>\n",
       "      <td>-0.004441</td>\n",
       "      <td>-0.011661</td>\n",
       "      <td>-0.017441</td>\n",
       "      <td>0.026893</td>\n",
       "      <td>-0.233730</td>\n",
       "      <td>1.000000</td>\n",
       "      <td>-0.904667</td>\n",
       "    </tr>\n",
       "    <tr>\n",
       "      <th>BEHAVIOUR_PROBLEM_Medium</th>\n",
       "      <td>-0.052647</td>\n",
       "      <td>0.037956</td>\n",
       "      <td>0.015540</td>\n",
       "      <td>-0.053981</td>\n",
       "      <td>0.053981</td>\n",
       "      <td>-0.008683</td>\n",
       "      <td>-0.034079</td>\n",
       "      <td>0.046122</td>\n",
       "      <td>-0.020343</td>\n",
       "      <td>-0.202868</td>\n",
       "      <td>-0.904667</td>\n",
       "      <td>1.000000</td>\n",
       "    </tr>\n",
       "  </tbody>\n",
       "</table>\n",
       "</div>"
      ],
      "text/plain": [
       "                          MEDIA_Average Time  MEDIA_Little Time  \\\n",
       "MEDIA_Average Time                  1.000000          -0.741789   \n",
       "MEDIA_Little Time                  -0.741789           1.000000   \n",
       "MEDIA_Long Time                    -0.265207          -0.449891   \n",
       "SLEEP_Insufficient_sleep           -0.036074          -0.068742   \n",
       "SLEEP_Sufficient_sleep              0.036074           0.068742   \n",
       "MENTAL_HEALTH_Alright              -0.039441           0.044891   \n",
       "MENTAL_HEALTH_Bad                   0.009600          -0.048077   \n",
       "MENTAL_HEALTH_Good                  0.034737          -0.008741   \n",
       "MENTAL_HEALTH_Very good            -0.014211           0.007116   \n",
       "BEHAVIOUR_PROBLEM_High             -0.028222           0.016989   \n",
       "BEHAVIOUR_PROBLEM_Low               0.064557          -0.045081   \n",
       "BEHAVIOUR_PROBLEM_Medium           -0.052647           0.037956   \n",
       "\n",
       "                          MEDIA_Long Time  SLEEP_Insufficient_sleep  \\\n",
       "MEDIA_Average Time              -0.265207                 -0.036074   \n",
       "MEDIA_Little Time               -0.449891                 -0.068742   \n",
       "MEDIA_Long Time                  1.000000                  0.146872   \n",
       "SLEEP_Insufficient_sleep         0.146872                  1.000000   \n",
       "SLEEP_Sufficient_sleep          -0.146872                 -1.000000   \n",
       "MENTAL_HEALTH_Alright           -0.012018                  0.032152   \n",
       "MENTAL_HEALTH_Bad                0.056338                  0.290710   \n",
       "MENTAL_HEALTH_Good              -0.033692                 -0.087379   \n",
       "MENTAL_HEALTH_Very good          0.008694                 -0.102171   \n",
       "BEHAVIOUR_PROBLEM_High           0.013157                  0.360597   \n",
       "BEHAVIOUR_PROBLEM_Low           -0.021156                 -0.103320   \n",
       "BEHAVIOUR_PROBLEM_Medium         0.015540                 -0.053981   \n",
       "\n",
       "                          SLEEP_Sufficient_sleep  MENTAL_HEALTH_Alright  \\\n",
       "MEDIA_Average Time                      0.036074              -0.039441   \n",
       "MEDIA_Little Time                       0.068742               0.044891   \n",
       "MEDIA_Long Time                        -0.146872              -0.012018   \n",
       "SLEEP_Insufficient_sleep               -1.000000               0.032152   \n",
       "SLEEP_Sufficient_sleep                  1.000000              -0.032152   \n",
       "MENTAL_HEALTH_Alright                  -0.032152               1.000000   \n",
       "MENTAL_HEALTH_Bad                      -0.290710              -0.112913   \n",
       "MENTAL_HEALTH_Good                      0.087379              -0.287795   \n",
       "MENTAL_HEALTH_Very good                 0.102171              -0.302063   \n",
       "BEHAVIOUR_PROBLEM_High                 -0.360597               0.030018   \n",
       "BEHAVIOUR_PROBLEM_Low                   0.103320              -0.004441   \n",
       "BEHAVIOUR_PROBLEM_Medium                0.053981              -0.008683   \n",
       "\n",
       "                          MENTAL_HEALTH_Bad  MENTAL_HEALTH_Good  \\\n",
       "MEDIA_Average Time                 0.009600            0.034737   \n",
       "MEDIA_Little Time                 -0.048077           -0.008741   \n",
       "MEDIA_Long Time                    0.056338           -0.033692   \n",
       "SLEEP_Insufficient_sleep           0.290710           -0.087379   \n",
       "SLEEP_Sufficient_sleep            -0.290710            0.087379   \n",
       "MENTAL_HEALTH_Alright             -0.112913           -0.287795   \n",
       "MENTAL_HEALTH_Bad                  1.000000           -0.246748   \n",
       "MENTAL_HEALTH_Good                -0.246748            1.000000   \n",
       "MENTAL_HEALTH_Very good           -0.258981           -0.660096   \n",
       "BEHAVIOUR_PROBLEM_High             0.104558           -0.065162   \n",
       "BEHAVIOUR_PROBLEM_Low             -0.011661           -0.017441   \n",
       "BEHAVIOUR_PROBLEM_Medium          -0.034079            0.046122   \n",
       "\n",
       "                          MENTAL_HEALTH_Very good  BEHAVIOUR_PROBLEM_High  \\\n",
       "MEDIA_Average Time                      -0.014211               -0.028222   \n",
       "MEDIA_Little Time                        0.007116                0.016989   \n",
       "MEDIA_Long Time                          0.008694                0.013157   \n",
       "SLEEP_Insufficient_sleep                -0.102171                0.360597   \n",
       "SLEEP_Sufficient_sleep                   0.102171               -0.360597   \n",
       "MENTAL_HEALTH_Alright                   -0.302063                0.030018   \n",
       "MENTAL_HEALTH_Bad                       -0.258981                0.104558   \n",
       "MENTAL_HEALTH_Good                      -0.660096               -0.065162   \n",
       "MENTAL_HEALTH_Very good                  1.000000               -0.015380   \n",
       "BEHAVIOUR_PROBLEM_High                  -0.015380                1.000000   \n",
       "BEHAVIOUR_PROBLEM_Low                    0.026893               -0.233730   \n",
       "BEHAVIOUR_PROBLEM_Medium                -0.020343               -0.202868   \n",
       "\n",
       "                          BEHAVIOUR_PROBLEM_Low  BEHAVIOUR_PROBLEM_Medium  \n",
       "MEDIA_Average Time                     0.064557                 -0.052647  \n",
       "MEDIA_Little Time                     -0.045081                  0.037956  \n",
       "MEDIA_Long Time                       -0.021156                  0.015540  \n",
       "SLEEP_Insufficient_sleep              -0.103320                 -0.053981  \n",
       "SLEEP_Sufficient_sleep                 0.103320                  0.053981  \n",
       "MENTAL_HEALTH_Alright                 -0.004441                 -0.008683  \n",
       "MENTAL_HEALTH_Bad                     -0.011661                 -0.034079  \n",
       "MENTAL_HEALTH_Good                    -0.017441                  0.046122  \n",
       "MENTAL_HEALTH_Very good                0.026893                 -0.020343  \n",
       "BEHAVIOUR_PROBLEM_High                -0.233730                 -0.202868  \n",
       "BEHAVIOUR_PROBLEM_Low                  1.000000                 -0.904667  \n",
       "BEHAVIOUR_PROBLEM_Medium              -0.904667                  1.000000  "
      ]
     },
     "execution_count": 50,
     "metadata": {},
     "output_type": "execute_result"
    }
   ],
   "source": [
    "#SOURCE: SCIPY2019 working with pandas youtube video\n",
    "#dummy encoding\n",
    "#hot encoding\n",
    "# As we have all categorical data so i decide to  use get dummies\n",
    "#as age and gender are not main contributers, so drop these two columns\n",
    "dumy= s_data.drop(columns=['AGE','GENDER'])\n",
    "# get dummies\n",
    "dumy=pd.get_dummies(dumy)\n",
    "##dumy=dumy.drop(['AGE'])\n",
    "cor=dumy.corr()\n",
    "dumy.corr()"
   ]
  },
  {
   "cell_type": "code",
   "execution_count": 51,
   "metadata": {},
   "outputs": [
    {
     "data": {
      "text/plain": [
       "<matplotlib.axes._subplots.AxesSubplot at 0x282c660f978>"
      ]
     },
     "execution_count": 51,
     "metadata": {},
     "output_type": "execute_result"
    },
    {
     "data": {
      "image/png": "[encoded data removed]",
      "text/plain": [
       "<Figure size 720x720 with 2 Axes>"
      ]
     },
     "metadata": {
      "needs_background": "light"
     },
     "output_type": "display_data"
    }
   ],
   "source": [
    "fig= plt.figure(figsize=(10,10))# set the plot size\n",
    "#get the correlation plot\n",
    "sns.heatmap(cor,annot=True)"
   ]
  },
  {
   "cell_type": "code",
   "execution_count": 52,
   "metadata": {},
   "outputs": [
    {
     "data": {
      "text/html": [
       "<div>\n",
       "<style scoped>\n",
       "    .dataframe tbody tr th:only-of-type {\n",
       "        vertical-align: middle;\n",
       "    }\n",
       "\n",
       "    .dataframe tbody tr th {\n",
       "        vertical-align: top;\n",
       "    }\n",
       "\n",
       "    .dataframe thead th {\n",
       "        text-align: right;\n",
       "    }\n",
       "</style>\n",
       "<table border=\"1\" class=\"dataframe\">\n",
       "  <thead>\n",
       "    <tr style=\"text-align: right;\">\n",
       "      <th></th>\n",
       "      <th>AGE</th>\n",
       "      <th>GENDER</th>\n",
       "      <th>MEDIA</th>\n",
       "      <th>SLEEP</th>\n",
       "      <th>MENTAL_HEALTH</th>\n",
       "      <th>BEHAVIOUR_PROBLEM</th>\n",
       "    </tr>\n",
       "  </thead>\n",
       "  <tbody>\n",
       "    <tr>\n",
       "      <th>0</th>\n",
       "      <td>13</td>\n",
       "      <td>Male</td>\n",
       "      <td>1</td>\n",
       "      <td>1</td>\n",
       "      <td>0</td>\n",
       "      <td>1</td>\n",
       "    </tr>\n",
       "    <tr>\n",
       "      <th>1</th>\n",
       "      <td>15</td>\n",
       "      <td>Female</td>\n",
       "      <td>0</td>\n",
       "      <td>1</td>\n",
       "      <td>1</td>\n",
       "      <td>2</td>\n",
       "    </tr>\n",
       "    <tr>\n",
       "      <th>2</th>\n",
       "      <td>14</td>\n",
       "      <td>Male</td>\n",
       "      <td>1</td>\n",
       "      <td>1</td>\n",
       "      <td>2</td>\n",
       "      <td>2</td>\n",
       "    </tr>\n",
       "    <tr>\n",
       "      <th>3</th>\n",
       "      <td>13</td>\n",
       "      <td>Male</td>\n",
       "      <td>1</td>\n",
       "      <td>1</td>\n",
       "      <td>2</td>\n",
       "      <td>1</td>\n",
       "    </tr>\n",
       "    <tr>\n",
       "      <th>4</th>\n",
       "      <td>14</td>\n",
       "      <td>Male</td>\n",
       "      <td>1</td>\n",
       "      <td>1</td>\n",
       "      <td>0</td>\n",
       "      <td>2</td>\n",
       "    </tr>\n",
       "  </tbody>\n",
       "</table>\n",
       "</div>"
      ],
      "text/plain": [
       "   AGE  GENDER  MEDIA  SLEEP  MENTAL_HEALTH  BEHAVIOUR_PROBLEM\n",
       "0   13    Male      1      1              0                  1\n",
       "1   15  Female      0      1              1                  2\n",
       "2   14    Male      1      1              2                  2\n",
       "3   13    Male      1      1              2                  1\n",
       "4   14    Male      1      1              0                  2"
      ]
     },
     "execution_count": 52,
     "metadata": {},
     "output_type": "execute_result"
    }
   ],
   "source": [
    "#ANOVA test\n",
    "# ther was another way to get the correlation for categorical columns\n",
    "from sklearn.preprocessing import LabelEncoder\n",
    "\n",
    "enc = LabelEncoder()\n",
    "s_data['SLEEP'] = enc.fit_transform(s_data['SLEEP'])\n",
    "s_data['MENTAL_HEALTH'] = enc.fit_transform(s_data['MENTAL_HEALTH'])\n",
    "s_data['MEDIA'] = enc.fit_transform(s_data['MEDIA'])\n",
    "s_data['BEHAVIOUR_PROBLEM'] = enc.fit_transform(s_data['BEHAVIOUR_PROBLEM'])\n",
    "s_data.head(5)"
   ]
  },
  {
   "cell_type": "code",
   "execution_count": 53,
   "metadata": {},
   "outputs": [
    {
     "data": {
      "image/png": "[encoded data removed]",
      "text/plain": [
       "<Figure size 432x288 with 2 Axes>"
      ]
     },
     "metadata": {
      "needs_background": "light"
     },
     "output_type": "display_data"
    }
   ],
   "source": [
    "cdata=s_data.drop(columns=['AGE','GENDER'])\n",
    "corr = cdata.iloc[:, :].corr()\n",
    "sns.heatmap(corr,\n",
    "            xticklabels=corr.columns,\n",
    "            yticklabels=corr.columns,annot=True)\n",
    "plt.show()"
   ]
  },
  {
   "cell_type": "code",
   "execution_count": 54,
   "metadata": {},
   "outputs": [
    {
     "data": {
      "text/html": [
       "<div>\n",
       "<style scoped>\n",
       "    .dataframe tbody tr th:only-of-type {\n",
       "        vertical-align: middle;\n",
       "    }\n",
       "\n",
       "    .dataframe tbody tr th {\n",
       "        vertical-align: top;\n",
       "    }\n",
       "\n",
       "    .dataframe thead th {\n",
       "        text-align: right;\n",
       "    }\n",
       "</style>\n",
       "<table border=\"1\" class=\"dataframe\">\n",
       "  <thead>\n",
       "    <tr style=\"text-align: right;\">\n",
       "      <th></th>\n",
       "      <th>features</th>\n",
       "      <th>chi2</th>\n",
       "      <th>p-value</th>\n",
       "    </tr>\n",
       "  </thead>\n",
       "  <tbody>\n",
       "    <tr>\n",
       "      <th>0</th>\n",
       "      <td>MEDIA</td>\n",
       "      <td>11.022397</td>\n",
       "      <td>9.001758e-04</td>\n",
       "    </tr>\n",
       "    <tr>\n",
       "      <th>1</th>\n",
       "      <td>SLEEP</td>\n",
       "      <td>337.000000</td>\n",
       "      <td>2.872272e-75</td>\n",
       "    </tr>\n",
       "    <tr>\n",
       "      <th>2</th>\n",
       "      <td>MENTAL_HEALTH</td>\n",
       "      <td>22.830424</td>\n",
       "      <td>1.769424e-06</td>\n",
       "    </tr>\n",
       "    <tr>\n",
       "      <th>3</th>\n",
       "      <td>BEHAVIOUR_PROBLEM</td>\n",
       "      <td>16.157784</td>\n",
       "      <td>5.827857e-05</td>\n",
       "    </tr>\n",
       "  </tbody>\n",
       "</table>\n",
       "</div>"
      ],
      "text/plain": [
       "            features        chi2       p-value\n",
       "0              MEDIA   11.022397  9.001758e-04\n",
       "1              SLEEP  337.000000  2.872272e-75\n",
       "2      MENTAL_HEALTH   22.830424  1.769424e-06\n",
       "3  BEHAVIOUR_PROBLEM   16.157784  5.827857e-05"
      ]
     },
     "execution_count": 54,
     "metadata": {},
     "output_type": "execute_result"
    }
   ],
   "source": [
    "#I tried to add the ANOVA test and find the following source\n",
    "#source:https://stackoverflow.com/questions/56267110/categorical-variables-usage-in-pandas-for-anova-and-regression\n",
    "from sklearn.feature_selection import chi2\n",
    "\n",
    "res = chi2(cdata.iloc[:,:4], cdata['SLEEP'])\n",
    "features = pd.DataFrame({\n",
    "    'features': cdata.columns[:4],\n",
    "    'chi2': res[0],\n",
    "    'p-value': res[1]\n",
    "})\n",
    "features.head()"
   ]
  },
  {
   "cell_type": "code",
   "execution_count": 55,
   "metadata": {},
   "outputs": [
    {
     "data": {
      "text/html": [
       "<div>\n",
       "<style scoped>\n",
       "    .dataframe tbody tr th:only-of-type {\n",
       "        vertical-align: middle;\n",
       "    }\n",
       "\n",
       "    .dataframe tbody tr th {\n",
       "        vertical-align: top;\n",
       "    }\n",
       "\n",
       "    .dataframe thead th {\n",
       "        text-align: right;\n",
       "    }\n",
       "</style>\n",
       "<table border=\"1\" class=\"dataframe\">\n",
       "  <thead>\n",
       "    <tr style=\"text-align: right;\">\n",
       "      <th></th>\n",
       "      <th>MEDIA</th>\n",
       "      <th>SLEEP</th>\n",
       "    </tr>\n",
       "  </thead>\n",
       "  <tbody>\n",
       "    <tr>\n",
       "      <th>MEDIA</th>\n",
       "      <td>0.415556</td>\n",
       "      <td>-0.025079</td>\n",
       "    </tr>\n",
       "    <tr>\n",
       "      <th>SLEEP</th>\n",
       "      <td>-0.025079</td>\n",
       "      <td>0.138628</td>\n",
       "    </tr>\n",
       "  </tbody>\n",
       "</table>\n",
       "</div>"
      ],
      "text/plain": [
       "          MEDIA     SLEEP\n",
       "MEDIA  0.415556 -0.025079\n",
       "SLEEP -0.025079  0.138628"
      ]
     },
     "execution_count": 55,
     "metadata": {},
     "output_type": "execute_result"
    }
   ],
   "source": [
    "#covariance\n",
    "s_data[['MEDIA', 'SLEEP']].cov()"
   ]
  },
  {
   "cell_type": "code",
   "execution_count": 56,
   "metadata": {},
   "outputs": [
    {
     "data": {
      "text/html": [
       "<div>\n",
       "<style scoped>\n",
       "    .dataframe tbody tr th:only-of-type {\n",
       "        vertical-align: middle;\n",
       "    }\n",
       "\n",
       "    .dataframe tbody tr th {\n",
       "        vertical-align: top;\n",
       "    }\n",
       "\n",
       "    .dataframe thead th {\n",
       "        text-align: right;\n",
       "    }\n",
       "</style>\n",
       "<table border=\"1\" class=\"dataframe\">\n",
       "  <thead>\n",
       "    <tr style=\"text-align: right;\">\n",
       "      <th></th>\n",
       "      <th>MEDIA</th>\n",
       "      <th>SLEEP</th>\n",
       "    </tr>\n",
       "  </thead>\n",
       "  <tbody>\n",
       "    <tr>\n",
       "      <th>MEDIA</th>\n",
       "      <td>1.000000</td>\n",
       "      <td>-0.104487</td>\n",
       "    </tr>\n",
       "    <tr>\n",
       "      <th>SLEEP</th>\n",
       "      <td>-0.104487</td>\n",
       "      <td>1.000000</td>\n",
       "    </tr>\n",
       "  </tbody>\n",
       "</table>\n",
       "</div>"
      ],
      "text/plain": [
       "          MEDIA     SLEEP\n",
       "MEDIA  1.000000 -0.104487\n",
       "SLEEP -0.104487  1.000000"
      ]
     },
     "execution_count": 56,
     "metadata": {},
     "output_type": "execute_result"
    }
   ],
   "source": [
    "#correlation\n",
    "s_data[['MEDIA', 'SLEEP']].corr()"
   ]
  },
  {
   "cell_type": "markdown",
   "metadata": {},
   "source": [
    "The research shows the importance of sleep. It showed that individuals who spent the longest time on social media were more likely to get insufficient sleep compared to those that spent less time on social media. The simulated data is closely matched with the research dataset.\n",
    "\n",
    "But this study was on small sample so we cannot conclude that insufficient sleep causes problem behaviour, poorer mental health or an increase usage of social media or if these factors are just contributors to less sleep or both. Future studies need to better understand how these factor work together with sleep and look into other variables such as physical health and sleep."
   ]
  },
  {
   "cell_type": "markdown",
   "metadata": {},
   "source": [
    "# Conclusion\n",
    "It was a very challenging task for me although I understood the probability distribution use for data sampling. It took me a long time to decide on the dataset. I couldn't find a topic where I could use other forms of distribution except uniform or normal distribution. I found many resources available online including class tutorials.\n",
    "\n",
    "I found really interesting facts during my research. I tried to look at different datasets that were available online. This project enhanced my understanding of the data simulation aspect of data science. My lack of knowledge about statistics and probability distributions was a setback for me. But during the course of this project, I learned more about the importance of statistics in Data Analysis."
   ]
  },
  {
   "cell_type": "markdown",
   "metadata": {},
   "source": [
    "# Reference\n",
    "1. https://www.cso.ie/en/releasesandpublications/ep/p-eaads/earningsanalysisusingadministrativedatasources2018/\n",
    "2. Education Attainment Report 2019 online available at https://www.cso.ie/en/releasesandpublications/er/eda/educationalattainmentthematicreport2019/ accessed on 04/12/2019\n",
    "3. Great divide in household income across the country is laid bare online available at  https://www.independent.ie/business/personal-finance/latest-news/great-divide-in-household-income-across-the-country-is-laid-bare-38239841.html accessed on 05/12/2019\n",
    "4. iterate over pandas rows and set column values based on values in other column available online at\n",
    "https://stackoverflow.com/questions/55114954/iterate-over-pandas-rows-and-set-column-values-based-on-values-in-other-column accessed on 06/12/2019\n",
    "5. Barry, M.M., Van Lente, E., Molcho. M., Morgan, K., McGee, H., Conroy, R.M., Watson, D., Shelley, E. and Perry, I. (2009) SLÁN 2007: Survey of Lifestyle, Attitudes and Nutrition in Ireland. Mental Health and Social Well-being Report, Department of Health and Children. Dublin: The Stationery Office.\n",
    "6. Practical Tutorial on Data Manipulation with Numpy and Pandas in Python available at  https://www.hackerearth.com/practice/machine-learning/data-manipulation-visualisation-r-python/tutorial-data-manipulation-numpy-pandas-python/tutorial/ accessed on 11/12/2019\n",
    "7. A Gentle Introduction to Calculating Normal Summary Statistics available online at https://machinelearningmastery.com/a-gentle-introduction-to-calculating-normal-summary-statistics/ accessed on 13/12/2019\n",
    "\n",
    "### Sleep dataset\n",
    "\n",
    "8. Sleep in Adolescents: Association with Social Media, Mental Health and Problem Behaviour availabe online at\n",
    "https://skemman.is/bitstream/1946/28393/1/Halld%C3%B3r_Gauti_Bs_.pdf accessed on 9/12/2019\n",
    "9. Find the relationship between two categorical variables available at https://www.kaggle.com/kuldeepnpatel/chi-square-test-of-independence accessed on  9/12/2019\n",
    "10. Using Python to Find Correlation Between Categorical and Continuous Variables  available at https://dzone.com/articles/correlation-between-categorical-and-continuous-var-1 accessed on 11/12/2019\n",
    "11. Chi-Squared Test for Independence in Python available at https://codingdisciple.com/chi-squared-python.html accessed on 11/12/2019\n",
    "12. Statistical Analysis 5: Chi-squared (2) test for 2-way tables available online at http://www.statstutor.ac.uk/resources/uploaded/coventrychisquared.pdf accessed on 13/12/2019\n"
   ]
  },
  {
   "cell_type": "markdown",
   "metadata": {},
   "source": [
    "\n"
   ]
  },
  {
   "cell_type": "code",
   "execution_count": null,
   "metadata": {},
   "outputs": [],
   "source": []
  }
 ],
 "metadata": {
  "kernelspec": {
   "display_name": "Python 3",
   "language": "python",
   "name": "python3"
  },
  "language_info": {
   "codemirror_mode": {
    "name": "ipython",
    "version": 3
   },
   "file_extension": ".py",
   "mimetype": "text/x-python",
   "name": "python",
   "nbconvert_exporter": "python",
   "pygments_lexer": "ipython3",
   "version": "3.7.1"
  }
 },
 "nbformat": 4,
 "nbformat_minor": 2
}
