{
 "cells": [
  {
   "cell_type": "markdown",
   "metadata": {},
   "source": [
    "# Module: Programming for Data Analysis\n",
    "\n",
    "# Project 2019\n",
    "\n",
    "# Lecturer: Brian McGinley"
   ]
  },
  {
   "cell_type": "markdown",
   "metadata": {},
   "source": [
    "## Introduction\n",
    " The Objective of this project is\n",
    " \n",
    "    - Choose a real-world phenomenon that can be measured and for which you could collect at least one-hundred data points across at least four diﬀerent variables. \n",
    "    - Investigate the types of variables involved, their likely distributions, and their relationships with each other.\n",
    "    - Synthesise/simulate a data set as closely matching their properties as possible.\n",
    "    - Detail research and implement the simulation in a Jupyter notebook – the data set itself can simply be displayed in an output cell within the notebook."
   ]
  },
  {
   "cell_type": "markdown",
   "metadata": {},
   "source": [
    "## Real-world phenomenon "
   ]
  },
  {
   "cell_type": "markdown",
   "metadata": {},
   "source": [
    "I decide to look at the socioeconomic factors effecting health of people age 18 - 64 in Ireland. The link between general health and socio-economic status is well established.First I have to look at the variables in the dataset. As there are so many factors that effect health but i choose few of them.\n",
    "\n",
    "I select following factors for creating the dataset. I use the cso.ie website and slan 2007 report to get statistics about the variables.\n",
    "\n",
    "**Gender:** \n",
    "    <br>It is a  categorical variable with values (Male, Female)\n",
    "    \n",
    "**Age:**\n",
    "    <br>It is a non-negative real number between (18 - 64)\n",
    "\n",
    "**Education:**\n",
    "    <br>It is a  categorical variable with values ( Third Level, Post Leaving CERT, Higher Secondary, Lower Secondary, Primary or Below)\n",
    "    \n",
    "**Employment Status:**\n",
    "    <br>It is a  categorical variable with values(Employed, Unemployed)\n",
    "    \n",
    "**Marital Status:**\n",
    "    <br>It is a  categorical variable with values( Single, Married, Separated', Divorced, Widowed)\n",
    "    \n",
    "**Living Area:**\n",
    "     <br>It is a  categorical variable with values(Urban, Rural)\n",
    "     \n",
    "**Income:**\n",
    "     <br>It is a  numerical variable.\n",
    "     \n",
    "**General Health:**\n",
    "     <br>It is a  categorical variable with values(Good Health, Bad, Fair)"
   ]
  },
  {
   "cell_type": "markdown",
   "metadata": {},
   "source": [
    "## Simulate Dataset"
   ]
  },
  {
   "cell_type": "markdown",
   "metadata": {},
   "source": [
    "### Import Libraries"
   ]
  },
  {
   "cell_type": "code",
   "execution_count": 1,
   "metadata": {},
   "outputs": [],
   "source": [
    "#import libraries\n",
    "#Pandas is a software library for data maniupulation & analysis.\n",
    "import pandas as pd\n",
    "#Numpy is a python library useful for multi-dimensional arrays & matrices, along with functions to operate on arrays.\n",
    "import numpy as np\n",
    "#Visualisation libraries\n",
    "import seaborn as sns\n",
    "import matplotlib.pyplot as plt\n"
   ]
  },
  {
   "cell_type": "code",
   "execution_count": 2,
   "metadata": {},
   "outputs": [
    {
     "data": {
      "text/html": [
       "<div>\n",
       "<style scoped>\n",
       "    .dataframe tbody tr th:only-of-type {\n",
       "        vertical-align: middle;\n",
       "    }\n",
       "\n",
       "    .dataframe tbody tr th {\n",
       "        vertical-align: top;\n",
       "    }\n",
       "\n",
       "    .dataframe thead th {\n",
       "        text-align: right;\n",
       "    }\n",
       "</style>\n",
       "<table border=\"1\" class=\"dataframe\">\n",
       "  <thead>\n",
       "    <tr style=\"text-align: right;\">\n",
       "      <th></th>\n",
       "      <th>GENDER</th>\n",
       "      <th>AGE</th>\n",
       "      <th>EDUCATION</th>\n",
       "      <th>EMPLOYMENT_STATUS</th>\n",
       "      <th>MARITAL_STATUS</th>\n",
       "      <th>AREA</th>\n",
       "      <th>INCOME</th>\n",
       "      <th>GENERAL_HEALTH</th>\n",
       "    </tr>\n",
       "  </thead>\n",
       "  <tbody>\n",
       "  </tbody>\n",
       "</table>\n",
       "</div>"
      ],
      "text/plain": [
       "Empty DataFrame\n",
       "Columns: [GENDER, AGE, EDUCATION, EMPLOYMENT_STATUS, MARITAL_STATUS, AREA, INCOME, GENERAL_HEALTH]\n",
       "Index: []"
      ]
     },
     "execution_count": 2,
     "metadata": {},
     "output_type": "execute_result"
    }
   ],
   "source": [
    "data1 = ['GENDER: Female, Male',\n",
    "         'AGE: years',\n",
    "         'EDUCATION:',\n",
    "         'EMPLOYMENT_STATUS: ',\n",
    "         'MARITAL_STATUS: ',\n",
    "         'AREA: ',      \n",
    "         'INCOME: Income yearly',\n",
    "         'GENERAL_HEALTH:'\n",
    "]\n",
    "short_names = [d.split(':')[0] for d in data1]\n",
    "#create the dataset\n",
    "data=pd.DataFrame(columns = short_names)\n",
    "\n",
    "data"
   ]
  },
  {
   "cell_type": "markdown",
   "metadata": {},
   "source": [
    "## GENDER\n",
    "\n",
    "Gender is a categorical variable, it has two categories male and female. In this dataset the number of males and females are not equal.\n",
    "\n",
    "numpy.random.choice() is used to generates a random sample from  list gender that has two values ['male','female] .there are many health conditions that vary with gender therefore gender is an important variable."
   ]
  },
  {
   "cell_type": "code",
   "execution_count": 3,
   "metadata": {},
   "outputs": [
    {
     "data": {
      "text/plain": [
       "Male      531\n",
       "Female    469\n",
       "Name: GENDER, dtype: int64"
      ]
     },
     "execution_count": 3,
     "metadata": {},
     "output_type": "execute_result"
    }
   ],
   "source": [
    "np.random.seed(256) # Set the random seed\n",
    "gender=['Male','Female']\n",
    "\n",
    "data['GENDER']= np.random.choice(gender, 1000)\n",
    "\n",
    "data['GENDER'].value_counts()"
   ]
  },
  {
   "cell_type": "code",
   "execution_count": 4,
   "metadata": {},
   "outputs": [
    {
     "data": {
      "text/plain": [
       "<matplotlib.axes._subplots.AxesSubplot at 0x1b44af26ef0>"
      ]
     },
     "execution_count": 4,
     "metadata": {},
     "output_type": "execute_result"
    },
    {
     "data": {
      "image/png": "[encoded data removed]",
      "text/plain": [
       "<Figure size 432x288 with 1 Axes>"
      ]
     },
     "metadata": {
      "needs_background": "light"
     },
     "output_type": "display_data"
    }
   ],
   "source": [
    "sns.countplot(x=data['GENDER'])"
   ]
  },
  {
   "cell_type": "markdown",
   "metadata": {},
   "source": [
    "## Age \n",
    "Age column data is a numerical data. \n",
    "to simulate the data for age column use numpy.random.randint  ."
   ]
  },
  {
   "cell_type": "code",
   "execution_count": 5,
   "metadata": {},
   "outputs": [
    {
     "data": {
      "text/plain": [
       "<matplotlib.axes._subplots.AxesSubplot at 0x1b44afd5fd0>"
      ]
     },
     "execution_count": 5,
     "metadata": {},
     "output_type": "execute_result"
    },
    {
     "data": {
      "image/png": "[encoded data removed]",
      "text/plain": [
       "<Figure size 432x288 with 1 Axes>"
      ]
     },
     "metadata": {
      "needs_background": "light"
     },
     "output_type": "display_data"
    }
   ],
   "source": [
    "np.random.seed(256) # Set the random seed\n",
    "data['AGE'] = np.random.randint(25,65, size= 1000,dtype='int')\n",
    "##age=['18-29','30-44','45-64','65+']\n",
    "##data['AGE'] = np.random.choice(age, 1000, p=[0.25,0.31,0.29,0.15])\n",
    "sns.countplot(data['AGE'])\n",
    "# In first attempt i used the following code as i think of numeric data \n",
    "#but than i changed to categories as i found slan statistics better\n",
    "###data['AGE'] = np.random.randint(25,45, size= 1000,dtype='int')\n",
    "#data = data.astype({\"AGE\": int})"
   ]
  },
  {
   "cell_type": "code",
   "execution_count": 6,
   "metadata": {},
   "outputs": [
    {
     "name": "stderr",
     "output_type": "stream",
     "text": [
      "C:\\Users\\Admin2\\Anaconda3\\lib\\site-packages\\scipy\\stats\\stats.py:1713: FutureWarning: Using a non-tuple sequence for multidimensional indexing is deprecated; use `arr[tuple(seq)]` instead of `arr[seq]`. In the future this will be interpreted as an array index, `arr[np.array(seq)]`, which will result either in an error or a different result.\n",
      "  return np.add.reduce(sorted[indexer] * weights, axis=axis) / sumval\n"
     ]
    },
    {
     "data": {
      "image/png": "[encoded data removed]",
      "text/plain": [
       "<Figure size 432x288 with 1 Axes>"
      ]
     },
     "metadata": {
      "needs_background": "light"
     },
     "output_type": "display_data"
    }
   ],
   "source": [
    "male = data.loc[data.loc[:,'GENDER'] == 'Male']['AGE']\n",
    "female = data.loc[data.loc[:,'GENDER'] == 'Female']['AGE']\n",
    "\n",
    "sns.distplot(male, color=\"b\", bins=10, label='Male')\n",
    "sns.distplot(female, color=\"g\",bins=10, label='Female')\n",
    "plt.show()\n"
   ]
  },
  {
   "cell_type": "code",
   "execution_count": 7,
   "metadata": {},
   "outputs": [
    {
     "data": {
      "text/plain": [
       "[45, 55)    279\n",
       "[24, 35)    243\n",
       "[35, 45)    241\n",
       "[55, 64)    225\n",
       "Name: AGE, dtype: int64"
      ]
     },
     "execution_count": 7,
     "metadata": {},
     "output_type": "execute_result"
    }
   ],
   "source": [
    "bins = [24, 35, 45, 55, 64]\n",
    "#cats = pd.cut(data['AGE'], bins)\n",
    "cats= pd.cut(data['AGE'],bins,right=False)\n",
    "pd.value_counts(cats)"
   ]
  },
  {
   "attachments": {
    "Education.PNG": {
     "image/png": "[encoded data removed]"
    }
   },
   "cell_type": "markdown",
   "metadata": {},
   "source": [
    "## Education\n",
    "education is very important indicator of socioeconomics class  and health. As people with higher education are more aware of issue like healthy eating ,healthy lifestyle and mental health.\n",
    "the data in the column is correspondent to the cso.ie statisics about education\n",
    "![Education.PNG](attachment:Education.PNG)\n"
   ]
  },
  {
   "cell_type": "code",
   "execution_count": 8,
   "metadata": {},
   "outputs": [
    {
     "data": {
      "text/html": [
       "<div>\n",
       "<style scoped>\n",
       "    .dataframe tbody tr th:only-of-type {\n",
       "        vertical-align: middle;\n",
       "    }\n",
       "\n",
       "    .dataframe tbody tr th {\n",
       "        vertical-align: top;\n",
       "    }\n",
       "\n",
       "    .dataframe thead th {\n",
       "        text-align: right;\n",
       "    }\n",
       "</style>\n",
       "<table border=\"1\" class=\"dataframe\">\n",
       "  <thead>\n",
       "    <tr style=\"text-align: right;\">\n",
       "      <th></th>\n",
       "      <th>GENDER</th>\n",
       "      <th>AGE</th>\n",
       "      <th>EDUCATION</th>\n",
       "      <th>EMPLOYMENT_STATUS</th>\n",
       "      <th>MARITAL_STATUS</th>\n",
       "      <th>AREA</th>\n",
       "      <th>INCOME</th>\n",
       "      <th>GENERAL_HEALTH</th>\n",
       "    </tr>\n",
       "  </thead>\n",
       "  <tbody>\n",
       "    <tr>\n",
       "      <th>0</th>\n",
       "      <td>Male</td>\n",
       "      <td>57</td>\n",
       "      <td>Third Level</td>\n",
       "      <td>NaN</td>\n",
       "      <td>NaN</td>\n",
       "      <td>NaN</td>\n",
       "      <td>NaN</td>\n",
       "      <td>NaN</td>\n",
       "    </tr>\n",
       "    <tr>\n",
       "      <th>1</th>\n",
       "      <td>Male</td>\n",
       "      <td>64</td>\n",
       "      <td>Post Leaving CERT</td>\n",
       "      <td>NaN</td>\n",
       "      <td>NaN</td>\n",
       "      <td>NaN</td>\n",
       "      <td>NaN</td>\n",
       "      <td>NaN</td>\n",
       "    </tr>\n",
       "    <tr>\n",
       "      <th>2</th>\n",
       "      <td>Female</td>\n",
       "      <td>26</td>\n",
       "      <td>Third Level</td>\n",
       "      <td>NaN</td>\n",
       "      <td>NaN</td>\n",
       "      <td>NaN</td>\n",
       "      <td>NaN</td>\n",
       "      <td>NaN</td>\n",
       "    </tr>\n",
       "    <tr>\n",
       "      <th>3</th>\n",
       "      <td>Female</td>\n",
       "      <td>50</td>\n",
       "      <td>Third Level</td>\n",
       "      <td>NaN</td>\n",
       "      <td>NaN</td>\n",
       "      <td>NaN</td>\n",
       "      <td>NaN</td>\n",
       "      <td>NaN</td>\n",
       "    </tr>\n",
       "    <tr>\n",
       "      <th>4</th>\n",
       "      <td>Male</td>\n",
       "      <td>63</td>\n",
       "      <td>Third Level</td>\n",
       "      <td>NaN</td>\n",
       "      <td>NaN</td>\n",
       "      <td>NaN</td>\n",
       "      <td>NaN</td>\n",
       "      <td>NaN</td>\n",
       "    </tr>\n",
       "  </tbody>\n",
       "</table>\n",
       "</div>"
      ],
      "text/plain": [
       "   GENDER  AGE          EDUCATION EMPLOYMENT_STATUS MARITAL_STATUS AREA  \\\n",
       "0    Male   57        Third Level               NaN            NaN  NaN   \n",
       "1    Male   64  Post Leaving CERT               NaN            NaN  NaN   \n",
       "2  Female   26        Third Level               NaN            NaN  NaN   \n",
       "3  Female   50        Third Level               NaN            NaN  NaN   \n",
       "4    Male   63        Third Level               NaN            NaN  NaN   \n",
       "\n",
       "  INCOME GENERAL_HEALTH  \n",
       "0    NaN            NaN  \n",
       "1    NaN            NaN  \n",
       "2    NaN            NaN  \n",
       "3    NaN            NaN  \n",
       "4    NaN            NaN  "
      ]
     },
     "execution_count": 8,
     "metadata": {},
     "output_type": "execute_result"
    }
   ],
   "source": [
    "np.random.seed(256)\n",
    "\n",
    "Edu= ['Third Level','Post Leaving CERT','Higher Secondary','Lower Secondary','Primary or Below']\n",
    "#source: https://www.cso.ie/en/releasesandpublications/er/eda/educationalattainmentthematicreport2019/\n",
    "data['EDUCATION']= np.random.choice(Edu, 1000, p=[0.47,0.15,0.22,0.11,0.05])\n",
    "data.head(5)\n"
   ]
  },
  {
   "cell_type": "markdown",
   "metadata": {},
   "source": [
    "## Employment Status\n",
    "At cso.ie it is stated that the unemployment rate is nearly 6% but I changed it in this sample dataset\n"
   ]
  },
  {
   "cell_type": "code",
   "execution_count": 9,
   "metadata": {},
   "outputs": [],
   "source": [
    "\n",
    "np.random.seed(256) # Set the random seed\n",
    "a=['Employed','Unemployed']\n",
    "data['EMPLOYMENT_STATUS']= np.random.choice(a, 1000, p=[0.87,0.13])\n"
   ]
  },
  {
   "cell_type": "code",
   "execution_count": 10,
   "metadata": {},
   "outputs": [
    {
     "data": {
      "image/png": "[encoded data removed]",
      "text/plain": [
       "<Figure size 432x288 with 1 Axes>"
      ]
     },
     "metadata": {
      "needs_background": "light"
     },
     "output_type": "display_data"
    }
   ],
   "source": [
    "sns.countplot(data['EMPLOYMENT_STATUS'])\n",
    "#sns.distplot(data. == 'Unemployed')\n",
    "plt.show()"
   ]
  },
  {
   "cell_type": "markdown",
   "metadata": {},
   "source": [
    "## Marital Status\n",
    "Marital status is a categorical data column that has values from list ['Single','Married','Separated','Divorced','Widowed']\n",
    "\n",
    "The percentage we too from the cso.ie data source\n",
    "\n",
    "- Single (41.1%) \n",
    "- Married (47.7%)\n",
    "- Separated (3.0%) \n",
    "- Divorced (3.0%)\n",
    "- Widowed (5.2%)\n",
    "\n",
    "source: https://www.cso.ie/en/releasesandpublications/ep/p-cp4hf/cp4hf/ms/"
   ]
  },
  {
   "cell_type": "code",
   "execution_count": 11,
   "metadata": {},
   "outputs": [
    {
     "data": {
      "text/plain": [
       "<matplotlib.axes._subplots.AxesSubplot at 0x1b44c097978>"
      ]
     },
     "execution_count": 11,
     "metadata": {},
     "output_type": "execute_result"
    },
    {
     "data": {
      "image/png": "[encoded data removed]",
      "text/plain": [
       "<Figure size 432x288 with 1 Axes>"
      ]
     },
     "metadata": {
      "needs_background": "light"
     },
     "output_type": "display_data"
    }
   ],
   "source": [
    "np.random.seed(256) # Set the random seed\n",
    "ms =['Single','Married','Separated','Divorced','Widowed']\n",
    "data['MARITAL_STATUS']= np.random.choice(ms, 1000, p=[0.411,0.477,0.03,0.03,0.052])\n",
    "sns.countplot(data['MARITAL_STATUS'])"
   ]
  },
  {
   "cell_type": "markdown",
   "metadata": {},
   "source": [
    "## Area \n",
    "It is a categorical data column with values {urban,rural}\n",
    "\n",
    "np.random.choice() is used to get values randomly and cso.ie statistics is used as probability that state 63% people lives in urban area and 37% lives in rural area."
   ]
  },
  {
   "cell_type": "code",
   "execution_count": 12,
   "metadata": {},
   "outputs": [],
   "source": [
    "np.random.seed(256)\n",
    "Area = ['Urban','Rural']\n",
    "#source:https://www.cso.ie/en/releasesandpublications/ep/p-cp2tc/cp2pdm/\n",
    "data['AREA']= np.random.choice(Area, 1000, p=[0.63,0.37])\n",
    "#data"
   ]
  },
  {
   "cell_type": "markdown",
   "metadata": {},
   "source": [
    "## Income"
   ]
  },
  {
   "cell_type": "markdown",
   "metadata": {},
   "source": [
    "According to cso.ie statistics \n",
    "Income for \n",
    "- Primary and Below 18,095\n",
    "- Lower secondary 22,443\n",
    "- Higher secondary 25,925\n",
    "- Post leaving cert 24,627\n",
    "- Third level non degree 30,068\n",
    "- Third level degree or above 38,074\n",
    "\n",
    "source https://www.cso.ie/en/releasesandpublications/ep/p-silc/surveyonincomeandlivingconditionssilc2018/income/"
   ]
  },
  {
   "cell_type": "code",
   "execution_count": 13,
   "metadata": {},
   "outputs": [],
   "source": [
    "\n",
    "\n",
    "np.random.seed(42)\n",
    "#'Third Level,','Post Leaving CERT','Higher Secondary', 'Lower Secondry'\n",
    "cnt = 0\n",
    "for idx, val in enumerate(data.itertuples()):\n",
    "    if data.EDUCATION[idx] == 'Primary or Below':\n",
    "        if data.EMPLOYMENT_STATUS[idx] =='Employed':\n",
    "            data.loc[idx, 'INCOME'] = np.random.randint(18095,20000)\n",
    "        else:\n",
    "            data.loc[idx, 'INCOME'] = np.random.randint(10000,15000)\n",
    "    if data.EDUCATION[idx] == 'Lower Secondary':\n",
    "        if data.EMPLOYMENT_STATUS[idx] =='Employed':\n",
    "            data.loc[idx, 'INCOME'] = np.random.randint(22443,24000)\n",
    "        else:\n",
    "            data.loc[idx, 'INCOME'] = np.random.randint(10000,15000)  \n",
    "    if data.EDUCATION[idx] == 'Higher Secondary':\n",
    "        if data.EMPLOYMENT_STATUS[idx] =='Employed':\n",
    "            data.loc[idx, 'INCOME'] = np.random.randint(25000,27000)\n",
    "        else:\n",
    "            data.loc[idx, 'INCOME'] = np.random.randint(10000,15000)\n",
    "    if data.EDUCATION[idx] == 'Post Leaving CERT':\n",
    "        if data.EMPLOYMENT_STATUS[idx] =='Employed':\n",
    "            data.loc[idx, 'INCOME'] = np.random.randint(24627,25627)\n",
    "        else:\n",
    "            data.loc[idx, 'INCOME'] = np.random.randint(10000,15000)\n",
    "    if data.EDUCATION[idx] == 'Third Level':\n",
    "        if data.EMPLOYMENT_STATUS[idx] =='Employed':\n",
    "            data.loc[idx, 'INCOME'] = np.random.randint(30065,35000)\n",
    "        else:\n",
    "            data.loc[idx, 'INCOME'] = np.random.randint(10000,15000)\n",
    "        \n"
   ]
  },
  {
   "cell_type": "code",
   "execution_count": 14,
   "metadata": {},
   "outputs": [
    {
     "data": {
      "text/html": [
       "<div>\n",
       "<style scoped>\n",
       "    .dataframe tbody tr th:only-of-type {\n",
       "        vertical-align: middle;\n",
       "    }\n",
       "\n",
       "    .dataframe tbody tr th {\n",
       "        vertical-align: top;\n",
       "    }\n",
       "\n",
       "    .dataframe thead th {\n",
       "        text-align: right;\n",
       "    }\n",
       "</style>\n",
       "<table border=\"1\" class=\"dataframe\">\n",
       "  <thead>\n",
       "    <tr style=\"text-align: right;\">\n",
       "      <th></th>\n",
       "      <th>GENDER</th>\n",
       "      <th>AGE</th>\n",
       "      <th>EDUCATION</th>\n",
       "      <th>EMPLOYMENT_STATUS</th>\n",
       "      <th>MARITAL_STATUS</th>\n",
       "      <th>AREA</th>\n",
       "      <th>INCOME</th>\n",
       "      <th>GENERAL_HEALTH</th>\n",
       "    </tr>\n",
       "  </thead>\n",
       "  <tbody>\n",
       "    <tr>\n",
       "      <th>0</th>\n",
       "      <td>Male</td>\n",
       "      <td>57</td>\n",
       "      <td>Third Level</td>\n",
       "      <td>Employed</td>\n",
       "      <td>Single</td>\n",
       "      <td>Urban</td>\n",
       "      <td>30925</td>\n",
       "      <td>NaN</td>\n",
       "    </tr>\n",
       "    <tr>\n",
       "      <th>1</th>\n",
       "      <td>Male</td>\n",
       "      <td>64</td>\n",
       "      <td>Post Leaving CERT</td>\n",
       "      <td>Employed</td>\n",
       "      <td>Married</td>\n",
       "      <td>Urban</td>\n",
       "      <td>24897</td>\n",
       "      <td>NaN</td>\n",
       "    </tr>\n",
       "    <tr>\n",
       "      <th>2</th>\n",
       "      <td>Female</td>\n",
       "      <td>26</td>\n",
       "      <td>Third Level</td>\n",
       "      <td>Employed</td>\n",
       "      <td>Single</td>\n",
       "      <td>Urban</td>\n",
       "      <td>33837</td>\n",
       "      <td>NaN</td>\n",
       "    </tr>\n",
       "    <tr>\n",
       "      <th>3</th>\n",
       "      <td>Female</td>\n",
       "      <td>50</td>\n",
       "      <td>Third Level</td>\n",
       "      <td>Employed</td>\n",
       "      <td>Single</td>\n",
       "      <td>Urban</td>\n",
       "      <td>33157</td>\n",
       "      <td>NaN</td>\n",
       "    </tr>\n",
       "    <tr>\n",
       "      <th>4</th>\n",
       "      <td>Male</td>\n",
       "      <td>63</td>\n",
       "      <td>Third Level</td>\n",
       "      <td>Employed</td>\n",
       "      <td>Single</td>\n",
       "      <td>Urban</td>\n",
       "      <td>30531</td>\n",
       "      <td>NaN</td>\n",
       "    </tr>\n",
       "  </tbody>\n",
       "</table>\n",
       "</div>"
      ],
      "text/plain": [
       "   GENDER  AGE          EDUCATION EMPLOYMENT_STATUS MARITAL_STATUS   AREA  \\\n",
       "0    Male   57        Third Level          Employed         Single  Urban   \n",
       "1    Male   64  Post Leaving CERT          Employed        Married  Urban   \n",
       "2  Female   26        Third Level          Employed         Single  Urban   \n",
       "3  Female   50        Third Level          Employed         Single  Urban   \n",
       "4    Male   63        Third Level          Employed         Single  Urban   \n",
       "\n",
       "   INCOME GENERAL_HEALTH  \n",
       "0   30925            NaN  \n",
       "1   24897            NaN  \n",
       "2   33837            NaN  \n",
       "3   33157            NaN  \n",
       "4   30531            NaN  "
      ]
     },
     "execution_count": 14,
     "metadata": {},
     "output_type": "execute_result"
    }
   ],
   "source": [
    "data.head(5)"
   ]
  },
  {
   "cell_type": "markdown",
   "metadata": {},
   "source": [
    "## General Health\n",
    "\n",
    "According to eurostat, people's perception of general health in Ireland is depend upon their income. The median value for gross earned income per person with \"very good\" health was €27,579 compared to €11,700 per person who described their health as \"very bad\".\n",
    "\n",
    "- 84.2% good health\n",
    "- 3.3%very bad and bad\n",
    "- 12.5% fair \n",
    "source https://ec.europa.eu/eurostat/cache/infographs/qol/index_en.html"
   ]
  },
  {
   "cell_type": "code",
   "execution_count": 15,
   "metadata": {},
   "outputs": [
    {
     "data": {
      "text/plain": [
       "<matplotlib.axes._subplots.AxesSubplot at 0x1b44c49e6d8>"
      ]
     },
     "execution_count": 15,
     "metadata": {},
     "output_type": "execute_result"
    },
    {
     "data": {
      "image/png": "[encoded data removed]",
      "text/plain": [
       "<Figure size 432x288 with 1 Axes>"
      ]
     },
     "metadata": {
      "needs_background": "light"
     },
     "output_type": "display_data"
    }
   ],
   "source": [
    "np.random.seed(256) # Set the random seed\n",
    "gh=['Good Health','Bad','Fair']\n",
    "cnt = 0\n",
    "for idx, val in enumerate(data.itertuples()):\n",
    "    if data.INCOME[idx] > 15000:\n",
    "           data.loc[idx, 'GENERAL_HEALTH'] = np.random.choice(gh, p=[0.842,0.033,0.125])\n",
    "    else:\n",
    "           data.loc[idx,'GENERAL_HEALTH']= np.random.choice(gh, p=[0.30,0.45,0.25])\n",
    "        \n",
    "sns.countplot(data['GENERAL_HEALTH'])"
   ]
  },
  {
   "cell_type": "code",
   "execution_count": 16,
   "metadata": {
    "scrolled": true
   },
   "outputs": [
    {
     "data": {
      "text/html": [
       "<div>\n",
       "<style scoped>\n",
       "    .dataframe tbody tr th:only-of-type {\n",
       "        vertical-align: middle;\n",
       "    }\n",
       "\n",
       "    .dataframe tbody tr th {\n",
       "        vertical-align: top;\n",
       "    }\n",
       "\n",
       "    .dataframe thead th {\n",
       "        text-align: right;\n",
       "    }\n",
       "</style>\n",
       "<table border=\"1\" class=\"dataframe\">\n",
       "  <thead>\n",
       "    <tr style=\"text-align: right;\">\n",
       "      <th></th>\n",
       "      <th>GENDER</th>\n",
       "      <th>AGE</th>\n",
       "      <th>EDUCATION</th>\n",
       "      <th>EMPLOYMENT_STATUS</th>\n",
       "      <th>MARITAL_STATUS</th>\n",
       "      <th>AREA</th>\n",
       "      <th>INCOME</th>\n",
       "      <th>GENERAL_HEALTH</th>\n",
       "    </tr>\n",
       "  </thead>\n",
       "  <tbody>\n",
       "    <tr>\n",
       "      <th>0</th>\n",
       "      <td>Male</td>\n",
       "      <td>57</td>\n",
       "      <td>Third Level</td>\n",
       "      <td>Employed</td>\n",
       "      <td>Single</td>\n",
       "      <td>Urban</td>\n",
       "      <td>30925</td>\n",
       "      <td>Good Health</td>\n",
       "    </tr>\n",
       "    <tr>\n",
       "      <th>1</th>\n",
       "      <td>Male</td>\n",
       "      <td>64</td>\n",
       "      <td>Post Leaving CERT</td>\n",
       "      <td>Employed</td>\n",
       "      <td>Married</td>\n",
       "      <td>Urban</td>\n",
       "      <td>24897</td>\n",
       "      <td>Good Health</td>\n",
       "    </tr>\n",
       "    <tr>\n",
       "      <th>2</th>\n",
       "      <td>Female</td>\n",
       "      <td>26</td>\n",
       "      <td>Third Level</td>\n",
       "      <td>Employed</td>\n",
       "      <td>Single</td>\n",
       "      <td>Urban</td>\n",
       "      <td>33837</td>\n",
       "      <td>Good Health</td>\n",
       "    </tr>\n",
       "    <tr>\n",
       "      <th>3</th>\n",
       "      <td>Female</td>\n",
       "      <td>50</td>\n",
       "      <td>Third Level</td>\n",
       "      <td>Employed</td>\n",
       "      <td>Single</td>\n",
       "      <td>Urban</td>\n",
       "      <td>33157</td>\n",
       "      <td>Good Health</td>\n",
       "    </tr>\n",
       "    <tr>\n",
       "      <th>4</th>\n",
       "      <td>Male</td>\n",
       "      <td>63</td>\n",
       "      <td>Third Level</td>\n",
       "      <td>Employed</td>\n",
       "      <td>Single</td>\n",
       "      <td>Urban</td>\n",
       "      <td>30531</td>\n",
       "      <td>Good Health</td>\n",
       "    </tr>\n",
       "    <tr>\n",
       "      <th>5</th>\n",
       "      <td>Female</td>\n",
       "      <td>48</td>\n",
       "      <td>Third Level</td>\n",
       "      <td>Employed</td>\n",
       "      <td>Single</td>\n",
       "      <td>Urban</td>\n",
       "      <td>34491</td>\n",
       "      <td>Good Health</td>\n",
       "    </tr>\n",
       "    <tr>\n",
       "      <th>6</th>\n",
       "      <td>Female</td>\n",
       "      <td>27</td>\n",
       "      <td>Third Level</td>\n",
       "      <td>Employed</td>\n",
       "      <td>Single</td>\n",
       "      <td>Urban</td>\n",
       "      <td>33509</td>\n",
       "      <td>Good Health</td>\n",
       "    </tr>\n",
       "    <tr>\n",
       "      <th>7</th>\n",
       "      <td>Male</td>\n",
       "      <td>49</td>\n",
       "      <td>Third Level</td>\n",
       "      <td>Employed</td>\n",
       "      <td>Single</td>\n",
       "      <td>Urban</td>\n",
       "      <td>33236</td>\n",
       "      <td>Good Health</td>\n",
       "    </tr>\n",
       "    <tr>\n",
       "      <th>8</th>\n",
       "      <td>Female</td>\n",
       "      <td>32</td>\n",
       "      <td>Higher Secondary</td>\n",
       "      <td>Employed</td>\n",
       "      <td>Married</td>\n",
       "      <td>Rural</td>\n",
       "      <td>25871</td>\n",
       "      <td>Good Health</td>\n",
       "    </tr>\n",
       "    <tr>\n",
       "      <th>9</th>\n",
       "      <td>Male</td>\n",
       "      <td>61</td>\n",
       "      <td>Third Level</td>\n",
       "      <td>Employed</td>\n",
       "      <td>Single</td>\n",
       "      <td>Urban</td>\n",
       "      <td>30195</td>\n",
       "      <td>Good Health</td>\n",
       "    </tr>\n",
       "    <tr>\n",
       "      <th>10</th>\n",
       "      <td>Female</td>\n",
       "      <td>31</td>\n",
       "      <td>Third Level</td>\n",
       "      <td>Employed</td>\n",
       "      <td>Single</td>\n",
       "      <td>Urban</td>\n",
       "      <td>31750</td>\n",
       "      <td>Good Health</td>\n",
       "    </tr>\n",
       "    <tr>\n",
       "      <th>11</th>\n",
       "      <td>Male</td>\n",
       "      <td>61</td>\n",
       "      <td>Higher Secondary</td>\n",
       "      <td>Employed</td>\n",
       "      <td>Married</td>\n",
       "      <td>Rural</td>\n",
       "      <td>26332</td>\n",
       "      <td>Good Health</td>\n",
       "    </tr>\n",
       "    <tr>\n",
       "      <th>12</th>\n",
       "      <td>Male</td>\n",
       "      <td>59</td>\n",
       "      <td>Post Leaving CERT</td>\n",
       "      <td>Employed</td>\n",
       "      <td>Married</td>\n",
       "      <td>Urban</td>\n",
       "      <td>25396</td>\n",
       "      <td>Good Health</td>\n",
       "    </tr>\n",
       "    <tr>\n",
       "      <th>13</th>\n",
       "      <td>Male</td>\n",
       "      <td>39</td>\n",
       "      <td>Post Leaving CERT</td>\n",
       "      <td>Employed</td>\n",
       "      <td>Married</td>\n",
       "      <td>Urban</td>\n",
       "      <td>24970</td>\n",
       "      <td>Good Health</td>\n",
       "    </tr>\n",
       "    <tr>\n",
       "      <th>14</th>\n",
       "      <td>Female</td>\n",
       "      <td>57</td>\n",
       "      <td>Primary or Below</td>\n",
       "      <td>Unemployed</td>\n",
       "      <td>Widowed</td>\n",
       "      <td>Rural</td>\n",
       "      <td>12433</td>\n",
       "      <td>Fair</td>\n",
       "    </tr>\n",
       "    <tr>\n",
       "      <th>15</th>\n",
       "      <td>Male</td>\n",
       "      <td>64</td>\n",
       "      <td>Third Level</td>\n",
       "      <td>Employed</td>\n",
       "      <td>Single</td>\n",
       "      <td>Urban</td>\n",
       "      <td>31249</td>\n",
       "      <td>Good Health</td>\n",
       "    </tr>\n",
       "    <tr>\n",
       "      <th>16</th>\n",
       "      <td>Male</td>\n",
       "      <td>34</td>\n",
       "      <td>Third Level</td>\n",
       "      <td>Employed</td>\n",
       "      <td>Married</td>\n",
       "      <td>Urban</td>\n",
       "      <td>34620</td>\n",
       "      <td>Good Health</td>\n",
       "    </tr>\n",
       "    <tr>\n",
       "      <th>17</th>\n",
       "      <td>Male</td>\n",
       "      <td>27</td>\n",
       "      <td>Third Level</td>\n",
       "      <td>Employed</td>\n",
       "      <td>Married</td>\n",
       "      <td>Urban</td>\n",
       "      <td>33450</td>\n",
       "      <td>Good Health</td>\n",
       "    </tr>\n",
       "    <tr>\n",
       "      <th>18</th>\n",
       "      <td>Male</td>\n",
       "      <td>25</td>\n",
       "      <td>Third Level</td>\n",
       "      <td>Employed</td>\n",
       "      <td>Single</td>\n",
       "      <td>Urban</td>\n",
       "      <td>34182</td>\n",
       "      <td>Good Health</td>\n",
       "    </tr>\n",
       "    <tr>\n",
       "      <th>19</th>\n",
       "      <td>Male</td>\n",
       "      <td>50</td>\n",
       "      <td>Post Leaving CERT</td>\n",
       "      <td>Employed</td>\n",
       "      <td>Married</td>\n",
       "      <td>Urban</td>\n",
       "      <td>24879</td>\n",
       "      <td>Good Health</td>\n",
       "    </tr>\n",
       "    <tr>\n",
       "      <th>20</th>\n",
       "      <td>Male</td>\n",
       "      <td>40</td>\n",
       "      <td>Higher Secondary</td>\n",
       "      <td>Employed</td>\n",
       "      <td>Married</td>\n",
       "      <td>Rural</td>\n",
       "      <td>25747</td>\n",
       "      <td>Good Health</td>\n",
       "    </tr>\n",
       "    <tr>\n",
       "      <th>21</th>\n",
       "      <td>Male</td>\n",
       "      <td>58</td>\n",
       "      <td>Lower Secondary</td>\n",
       "      <td>Unemployed</td>\n",
       "      <td>Divorced</td>\n",
       "      <td>Rural</td>\n",
       "      <td>12904</td>\n",
       "      <td>Fair</td>\n",
       "    </tr>\n",
       "    <tr>\n",
       "      <th>22</th>\n",
       "      <td>Male</td>\n",
       "      <td>28</td>\n",
       "      <td>Higher Secondary</td>\n",
       "      <td>Employed</td>\n",
       "      <td>Married</td>\n",
       "      <td>Rural</td>\n",
       "      <td>26584</td>\n",
       "      <td>Good Health</td>\n",
       "    </tr>\n",
       "    <tr>\n",
       "      <th>23</th>\n",
       "      <td>Female</td>\n",
       "      <td>61</td>\n",
       "      <td>Higher Secondary</td>\n",
       "      <td>Employed</td>\n",
       "      <td>Married</td>\n",
       "      <td>Rural</td>\n",
       "      <td>25474</td>\n",
       "      <td>Good Health</td>\n",
       "    </tr>\n",
       "    <tr>\n",
       "      <th>24</th>\n",
       "      <td>Male</td>\n",
       "      <td>34</td>\n",
       "      <td>Third Level</td>\n",
       "      <td>Employed</td>\n",
       "      <td>Married</td>\n",
       "      <td>Urban</td>\n",
       "      <td>31147</td>\n",
       "      <td>Good Health</td>\n",
       "    </tr>\n",
       "    <tr>\n",
       "      <th>25</th>\n",
       "      <td>Female</td>\n",
       "      <td>59</td>\n",
       "      <td>Lower Secondary</td>\n",
       "      <td>Unemployed</td>\n",
       "      <td>Married</td>\n",
       "      <td>Rural</td>\n",
       "      <td>12558</td>\n",
       "      <td>Fair</td>\n",
       "    </tr>\n",
       "    <tr>\n",
       "      <th>26</th>\n",
       "      <td>Female</td>\n",
       "      <td>29</td>\n",
       "      <td>Higher Secondary</td>\n",
       "      <td>Employed</td>\n",
       "      <td>Married</td>\n",
       "      <td>Rural</td>\n",
       "      <td>26705</td>\n",
       "      <td>Good Health</td>\n",
       "    </tr>\n",
       "    <tr>\n",
       "      <th>27</th>\n",
       "      <td>Female</td>\n",
       "      <td>58</td>\n",
       "      <td>Lower Secondary</td>\n",
       "      <td>Employed</td>\n",
       "      <td>Married</td>\n",
       "      <td>Rural</td>\n",
       "      <td>23942</td>\n",
       "      <td>Bad</td>\n",
       "    </tr>\n",
       "    <tr>\n",
       "      <th>28</th>\n",
       "      <td>Male</td>\n",
       "      <td>47</td>\n",
       "      <td>Post Leaving CERT</td>\n",
       "      <td>Employed</td>\n",
       "      <td>Married</td>\n",
       "      <td>Urban</td>\n",
       "      <td>25326</td>\n",
       "      <td>Good Health</td>\n",
       "    </tr>\n",
       "    <tr>\n",
       "      <th>29</th>\n",
       "      <td>Female</td>\n",
       "      <td>47</td>\n",
       "      <td>Third Level</td>\n",
       "      <td>Employed</td>\n",
       "      <td>Single</td>\n",
       "      <td>Urban</td>\n",
       "      <td>31040</td>\n",
       "      <td>Good Health</td>\n",
       "    </tr>\n",
       "    <tr>\n",
       "      <th>...</th>\n",
       "      <td>...</td>\n",
       "      <td>...</td>\n",
       "      <td>...</td>\n",
       "      <td>...</td>\n",
       "      <td>...</td>\n",
       "      <td>...</td>\n",
       "      <td>...</td>\n",
       "      <td>...</td>\n",
       "    </tr>\n",
       "    <tr>\n",
       "      <th>970</th>\n",
       "      <td>Female</td>\n",
       "      <td>54</td>\n",
       "      <td>Third Level</td>\n",
       "      <td>Employed</td>\n",
       "      <td>Single</td>\n",
       "      <td>Urban</td>\n",
       "      <td>32616</td>\n",
       "      <td>Good Health</td>\n",
       "    </tr>\n",
       "    <tr>\n",
       "      <th>971</th>\n",
       "      <td>Male</td>\n",
       "      <td>55</td>\n",
       "      <td>Third Level</td>\n",
       "      <td>Employed</td>\n",
       "      <td>Married</td>\n",
       "      <td>Urban</td>\n",
       "      <td>34354</td>\n",
       "      <td>Good Health</td>\n",
       "    </tr>\n",
       "    <tr>\n",
       "      <th>972</th>\n",
       "      <td>Male</td>\n",
       "      <td>40</td>\n",
       "      <td>Third Level</td>\n",
       "      <td>Employed</td>\n",
       "      <td>Single</td>\n",
       "      <td>Urban</td>\n",
       "      <td>30911</td>\n",
       "      <td>Good Health</td>\n",
       "    </tr>\n",
       "    <tr>\n",
       "      <th>973</th>\n",
       "      <td>Male</td>\n",
       "      <td>44</td>\n",
       "      <td>Higher Secondary</td>\n",
       "      <td>Employed</td>\n",
       "      <td>Married</td>\n",
       "      <td>Urban</td>\n",
       "      <td>25714</td>\n",
       "      <td>Good Health</td>\n",
       "    </tr>\n",
       "    <tr>\n",
       "      <th>974</th>\n",
       "      <td>Male</td>\n",
       "      <td>25</td>\n",
       "      <td>Higher Secondary</td>\n",
       "      <td>Employed</td>\n",
       "      <td>Married</td>\n",
       "      <td>Rural</td>\n",
       "      <td>26415</td>\n",
       "      <td>Good Health</td>\n",
       "    </tr>\n",
       "    <tr>\n",
       "      <th>975</th>\n",
       "      <td>Female</td>\n",
       "      <td>60</td>\n",
       "      <td>Higher Secondary</td>\n",
       "      <td>Employed</td>\n",
       "      <td>Married</td>\n",
       "      <td>Rural</td>\n",
       "      <td>26049</td>\n",
       "      <td>Good Health</td>\n",
       "    </tr>\n",
       "    <tr>\n",
       "      <th>976</th>\n",
       "      <td>Female</td>\n",
       "      <td>39</td>\n",
       "      <td>Higher Secondary</td>\n",
       "      <td>Employed</td>\n",
       "      <td>Married</td>\n",
       "      <td>Rural</td>\n",
       "      <td>26458</td>\n",
       "      <td>Good Health</td>\n",
       "    </tr>\n",
       "    <tr>\n",
       "      <th>977</th>\n",
       "      <td>Male</td>\n",
       "      <td>45</td>\n",
       "      <td>Higher Secondary</td>\n",
       "      <td>Employed</td>\n",
       "      <td>Married</td>\n",
       "      <td>Rural</td>\n",
       "      <td>25172</td>\n",
       "      <td>Good Health</td>\n",
       "    </tr>\n",
       "    <tr>\n",
       "      <th>978</th>\n",
       "      <td>Female</td>\n",
       "      <td>33</td>\n",
       "      <td>Third Level</td>\n",
       "      <td>Employed</td>\n",
       "      <td>Single</td>\n",
       "      <td>Urban</td>\n",
       "      <td>31206</td>\n",
       "      <td>Good Health</td>\n",
       "    </tr>\n",
       "    <tr>\n",
       "      <th>979</th>\n",
       "      <td>Female</td>\n",
       "      <td>37</td>\n",
       "      <td>Third Level</td>\n",
       "      <td>Employed</td>\n",
       "      <td>Single</td>\n",
       "      <td>Urban</td>\n",
       "      <td>31875</td>\n",
       "      <td>Good Health</td>\n",
       "    </tr>\n",
       "    <tr>\n",
       "      <th>980</th>\n",
       "      <td>Female</td>\n",
       "      <td>37</td>\n",
       "      <td>Third Level</td>\n",
       "      <td>Employed</td>\n",
       "      <td>Single</td>\n",
       "      <td>Urban</td>\n",
       "      <td>30788</td>\n",
       "      <td>Good Health</td>\n",
       "    </tr>\n",
       "    <tr>\n",
       "      <th>981</th>\n",
       "      <td>Male</td>\n",
       "      <td>50</td>\n",
       "      <td>Higher Secondary</td>\n",
       "      <td>Employed</td>\n",
       "      <td>Married</td>\n",
       "      <td>Rural</td>\n",
       "      <td>25224</td>\n",
       "      <td>Good Health</td>\n",
       "    </tr>\n",
       "    <tr>\n",
       "      <th>982</th>\n",
       "      <td>Female</td>\n",
       "      <td>29</td>\n",
       "      <td>Lower Secondary</td>\n",
       "      <td>Unemployed</td>\n",
       "      <td>Divorced</td>\n",
       "      <td>Rural</td>\n",
       "      <td>14627</td>\n",
       "      <td>Fair</td>\n",
       "    </tr>\n",
       "    <tr>\n",
       "      <th>983</th>\n",
       "      <td>Male</td>\n",
       "      <td>43</td>\n",
       "      <td>Lower Secondary</td>\n",
       "      <td>Unemployed</td>\n",
       "      <td>Separated</td>\n",
       "      <td>Rural</td>\n",
       "      <td>14208</td>\n",
       "      <td>Fair</td>\n",
       "    </tr>\n",
       "    <tr>\n",
       "      <th>984</th>\n",
       "      <td>Female</td>\n",
       "      <td>39</td>\n",
       "      <td>Third Level</td>\n",
       "      <td>Employed</td>\n",
       "      <td>Single</td>\n",
       "      <td>Urban</td>\n",
       "      <td>34719</td>\n",
       "      <td>Good Health</td>\n",
       "    </tr>\n",
       "    <tr>\n",
       "      <th>985</th>\n",
       "      <td>Male</td>\n",
       "      <td>44</td>\n",
       "      <td>Lower Secondary</td>\n",
       "      <td>Employed</td>\n",
       "      <td>Married</td>\n",
       "      <td>Rural</td>\n",
       "      <td>22443</td>\n",
       "      <td>Bad</td>\n",
       "    </tr>\n",
       "    <tr>\n",
       "      <th>986</th>\n",
       "      <td>Male</td>\n",
       "      <td>32</td>\n",
       "      <td>Post Leaving CERT</td>\n",
       "      <td>Employed</td>\n",
       "      <td>Married</td>\n",
       "      <td>Urban</td>\n",
       "      <td>24716</td>\n",
       "      <td>Good Health</td>\n",
       "    </tr>\n",
       "    <tr>\n",
       "      <th>987</th>\n",
       "      <td>Female</td>\n",
       "      <td>52</td>\n",
       "      <td>Third Level</td>\n",
       "      <td>Employed</td>\n",
       "      <td>Single</td>\n",
       "      <td>Urban</td>\n",
       "      <td>34814</td>\n",
       "      <td>Good Health</td>\n",
       "    </tr>\n",
       "    <tr>\n",
       "      <th>988</th>\n",
       "      <td>Male</td>\n",
       "      <td>47</td>\n",
       "      <td>Third Level</td>\n",
       "      <td>Employed</td>\n",
       "      <td>Single</td>\n",
       "      <td>Urban</td>\n",
       "      <td>34480</td>\n",
       "      <td>Good Health</td>\n",
       "    </tr>\n",
       "    <tr>\n",
       "      <th>989</th>\n",
       "      <td>Female</td>\n",
       "      <td>48</td>\n",
       "      <td>Lower Secondary</td>\n",
       "      <td>Unemployed</td>\n",
       "      <td>Separated</td>\n",
       "      <td>Rural</td>\n",
       "      <td>11573</td>\n",
       "      <td>Fair</td>\n",
       "    </tr>\n",
       "    <tr>\n",
       "      <th>990</th>\n",
       "      <td>Female</td>\n",
       "      <td>61</td>\n",
       "      <td>Higher Secondary</td>\n",
       "      <td>Employed</td>\n",
       "      <td>Married</td>\n",
       "      <td>Rural</td>\n",
       "      <td>26828</td>\n",
       "      <td>Good Health</td>\n",
       "    </tr>\n",
       "    <tr>\n",
       "      <th>991</th>\n",
       "      <td>Male</td>\n",
       "      <td>38</td>\n",
       "      <td>Higher Secondary</td>\n",
       "      <td>Employed</td>\n",
       "      <td>Married</td>\n",
       "      <td>Rural</td>\n",
       "      <td>26917</td>\n",
       "      <td>Good Health</td>\n",
       "    </tr>\n",
       "    <tr>\n",
       "      <th>992</th>\n",
       "      <td>Male</td>\n",
       "      <td>49</td>\n",
       "      <td>Post Leaving CERT</td>\n",
       "      <td>Employed</td>\n",
       "      <td>Married</td>\n",
       "      <td>Urban</td>\n",
       "      <td>24765</td>\n",
       "      <td>Good Health</td>\n",
       "    </tr>\n",
       "    <tr>\n",
       "      <th>993</th>\n",
       "      <td>Female</td>\n",
       "      <td>58</td>\n",
       "      <td>Post Leaving CERT</td>\n",
       "      <td>Employed</td>\n",
       "      <td>Married</td>\n",
       "      <td>Urban</td>\n",
       "      <td>25137</td>\n",
       "      <td>Good Health</td>\n",
       "    </tr>\n",
       "    <tr>\n",
       "      <th>994</th>\n",
       "      <td>Male</td>\n",
       "      <td>54</td>\n",
       "      <td>Post Leaving CERT</td>\n",
       "      <td>Employed</td>\n",
       "      <td>Married</td>\n",
       "      <td>Urban</td>\n",
       "      <td>25494</td>\n",
       "      <td>Good Health</td>\n",
       "    </tr>\n",
       "    <tr>\n",
       "      <th>995</th>\n",
       "      <td>Female</td>\n",
       "      <td>54</td>\n",
       "      <td>Post Leaving CERT</td>\n",
       "      <td>Employed</td>\n",
       "      <td>Married</td>\n",
       "      <td>Urban</td>\n",
       "      <td>25471</td>\n",
       "      <td>Good Health</td>\n",
       "    </tr>\n",
       "    <tr>\n",
       "      <th>996</th>\n",
       "      <td>Female</td>\n",
       "      <td>50</td>\n",
       "      <td>Higher Secondary</td>\n",
       "      <td>Employed</td>\n",
       "      <td>Married</td>\n",
       "      <td>Rural</td>\n",
       "      <td>25258</td>\n",
       "      <td>Good Health</td>\n",
       "    </tr>\n",
       "    <tr>\n",
       "      <th>997</th>\n",
       "      <td>Male</td>\n",
       "      <td>64</td>\n",
       "      <td>Third Level</td>\n",
       "      <td>Employed</td>\n",
       "      <td>Single</td>\n",
       "      <td>Urban</td>\n",
       "      <td>33809</td>\n",
       "      <td>Good Health</td>\n",
       "    </tr>\n",
       "    <tr>\n",
       "      <th>998</th>\n",
       "      <td>Female</td>\n",
       "      <td>55</td>\n",
       "      <td>Higher Secondary</td>\n",
       "      <td>Employed</td>\n",
       "      <td>Married</td>\n",
       "      <td>Rural</td>\n",
       "      <td>25901</td>\n",
       "      <td>Good Health</td>\n",
       "    </tr>\n",
       "    <tr>\n",
       "      <th>999</th>\n",
       "      <td>Male</td>\n",
       "      <td>62</td>\n",
       "      <td>Third Level</td>\n",
       "      <td>Employed</td>\n",
       "      <td>Single</td>\n",
       "      <td>Urban</td>\n",
       "      <td>34850</td>\n",
       "      <td>Good Health</td>\n",
       "    </tr>\n",
       "  </tbody>\n",
       "</table>\n",
       "<p>1000 rows × 8 columns</p>\n",
       "</div>"
      ],
      "text/plain": [
       "     GENDER  AGE          EDUCATION EMPLOYMENT_STATUS MARITAL_STATUS   AREA  \\\n",
       "0      Male   57        Third Level          Employed         Single  Urban   \n",
       "1      Male   64  Post Leaving CERT          Employed        Married  Urban   \n",
       "2    Female   26        Third Level          Employed         Single  Urban   \n",
       "3    Female   50        Third Level          Employed         Single  Urban   \n",
       "4      Male   63        Third Level          Employed         Single  Urban   \n",
       "5    Female   48        Third Level          Employed         Single  Urban   \n",
       "6    Female   27        Third Level          Employed         Single  Urban   \n",
       "7      Male   49        Third Level          Employed         Single  Urban   \n",
       "8    Female   32   Higher Secondary          Employed        Married  Rural   \n",
       "9      Male   61        Third Level          Employed         Single  Urban   \n",
       "10   Female   31        Third Level          Employed         Single  Urban   \n",
       "11     Male   61   Higher Secondary          Employed        Married  Rural   \n",
       "12     Male   59  Post Leaving CERT          Employed        Married  Urban   \n",
       "13     Male   39  Post Leaving CERT          Employed        Married  Urban   \n",
       "14   Female   57   Primary or Below        Unemployed        Widowed  Rural   \n",
       "15     Male   64        Third Level          Employed         Single  Urban   \n",
       "16     Male   34        Third Level          Employed        Married  Urban   \n",
       "17     Male   27        Third Level          Employed        Married  Urban   \n",
       "18     Male   25        Third Level          Employed         Single  Urban   \n",
       "19     Male   50  Post Leaving CERT          Employed        Married  Urban   \n",
       "20     Male   40   Higher Secondary          Employed        Married  Rural   \n",
       "21     Male   58    Lower Secondary        Unemployed       Divorced  Rural   \n",
       "22     Male   28   Higher Secondary          Employed        Married  Rural   \n",
       "23   Female   61   Higher Secondary          Employed        Married  Rural   \n",
       "24     Male   34        Third Level          Employed        Married  Urban   \n",
       "25   Female   59    Lower Secondary        Unemployed        Married  Rural   \n",
       "26   Female   29   Higher Secondary          Employed        Married  Rural   \n",
       "27   Female   58    Lower Secondary          Employed        Married  Rural   \n",
       "28     Male   47  Post Leaving CERT          Employed        Married  Urban   \n",
       "29   Female   47        Third Level          Employed         Single  Urban   \n",
       "..      ...  ...                ...               ...            ...    ...   \n",
       "970  Female   54        Third Level          Employed         Single  Urban   \n",
       "971    Male   55        Third Level          Employed        Married  Urban   \n",
       "972    Male   40        Third Level          Employed         Single  Urban   \n",
       "973    Male   44   Higher Secondary          Employed        Married  Urban   \n",
       "974    Male   25   Higher Secondary          Employed        Married  Rural   \n",
       "975  Female   60   Higher Secondary          Employed        Married  Rural   \n",
       "976  Female   39   Higher Secondary          Employed        Married  Rural   \n",
       "977    Male   45   Higher Secondary          Employed        Married  Rural   \n",
       "978  Female   33        Third Level          Employed         Single  Urban   \n",
       "979  Female   37        Third Level          Employed         Single  Urban   \n",
       "980  Female   37        Third Level          Employed         Single  Urban   \n",
       "981    Male   50   Higher Secondary          Employed        Married  Rural   \n",
       "982  Female   29    Lower Secondary        Unemployed       Divorced  Rural   \n",
       "983    Male   43    Lower Secondary        Unemployed      Separated  Rural   \n",
       "984  Female   39        Third Level          Employed         Single  Urban   \n",
       "985    Male   44    Lower Secondary          Employed        Married  Rural   \n",
       "986    Male   32  Post Leaving CERT          Employed        Married  Urban   \n",
       "987  Female   52        Third Level          Employed         Single  Urban   \n",
       "988    Male   47        Third Level          Employed         Single  Urban   \n",
       "989  Female   48    Lower Secondary        Unemployed      Separated  Rural   \n",
       "990  Female   61   Higher Secondary          Employed        Married  Rural   \n",
       "991    Male   38   Higher Secondary          Employed        Married  Rural   \n",
       "992    Male   49  Post Leaving CERT          Employed        Married  Urban   \n",
       "993  Female   58  Post Leaving CERT          Employed        Married  Urban   \n",
       "994    Male   54  Post Leaving CERT          Employed        Married  Urban   \n",
       "995  Female   54  Post Leaving CERT          Employed        Married  Urban   \n",
       "996  Female   50   Higher Secondary          Employed        Married  Rural   \n",
       "997    Male   64        Third Level          Employed         Single  Urban   \n",
       "998  Female   55   Higher Secondary          Employed        Married  Rural   \n",
       "999    Male   62        Third Level          Employed         Single  Urban   \n",
       "\n",
       "     INCOME GENERAL_HEALTH  \n",
       "0     30925    Good Health  \n",
       "1     24897    Good Health  \n",
       "2     33837    Good Health  \n",
       "3     33157    Good Health  \n",
       "4     30531    Good Health  \n",
       "5     34491    Good Health  \n",
       "6     33509    Good Health  \n",
       "7     33236    Good Health  \n",
       "8     25871    Good Health  \n",
       "9     30195    Good Health  \n",
       "10    31750    Good Health  \n",
       "11    26332    Good Health  \n",
       "12    25396    Good Health  \n",
       "13    24970    Good Health  \n",
       "14    12433           Fair  \n",
       "15    31249    Good Health  \n",
       "16    34620    Good Health  \n",
       "17    33450    Good Health  \n",
       "18    34182    Good Health  \n",
       "19    24879    Good Health  \n",
       "20    25747    Good Health  \n",
       "21    12904           Fair  \n",
       "22    26584    Good Health  \n",
       "23    25474    Good Health  \n",
       "24    31147    Good Health  \n",
       "25    12558           Fair  \n",
       "26    26705    Good Health  \n",
       "27    23942            Bad  \n",
       "28    25326    Good Health  \n",
       "29    31040    Good Health  \n",
       "..      ...            ...  \n",
       "970   32616    Good Health  \n",
       "971   34354    Good Health  \n",
       "972   30911    Good Health  \n",
       "973   25714    Good Health  \n",
       "974   26415    Good Health  \n",
       "975   26049    Good Health  \n",
       "976   26458    Good Health  \n",
       "977   25172    Good Health  \n",
       "978   31206    Good Health  \n",
       "979   31875    Good Health  \n",
       "980   30788    Good Health  \n",
       "981   25224    Good Health  \n",
       "982   14627           Fair  \n",
       "983   14208           Fair  \n",
       "984   34719    Good Health  \n",
       "985   22443            Bad  \n",
       "986   24716    Good Health  \n",
       "987   34814    Good Health  \n",
       "988   34480    Good Health  \n",
       "989   11573           Fair  \n",
       "990   26828    Good Health  \n",
       "991   26917    Good Health  \n",
       "992   24765    Good Health  \n",
       "993   25137    Good Health  \n",
       "994   25494    Good Health  \n",
       "995   25471    Good Health  \n",
       "996   25258    Good Health  \n",
       "997   33809    Good Health  \n",
       "998   25901    Good Health  \n",
       "999   34850    Good Health  \n",
       "\n",
       "[1000 rows x 8 columns]"
      ]
     },
     "execution_count": 16,
     "metadata": {},
     "output_type": "execute_result"
    }
   ],
   "source": [
    "data.head(5)\n",
    "df=pd.DataFrame(data)\n",
    "df"
   ]
  },
  {
   "cell_type": "code",
   "execution_count": null,
   "metadata": {},
   "outputs": [],
   "source": []
  },
  {
   "cell_type": "markdown",
   "metadata": {},
   "source": [
    "# Social Class"
   ]
  },
  {
   "cell_type": "markdown",
   "metadata": {},
   "source": [
    "The entire population is classified into one of the following social class groups (introduced in 1996) which are defined on the basis of occupation (coded using Soc90):\n",
    "1. Professional workers\n",
    "2. Managerial and technical\n",
    "3. Non-manual\n",
    "4. Skilled manual\n",
    "5. Semi-skilled\n",
    "6. Unskilled\n",
    "7. All others gainfully occupied and unknown\n",
    "\n",
    "The occupations included in each of these groups have been selected in such a way as to bring together, as far as possible, people with similar levels of occupational skill.\n",
    "\n",
    "In determining social class no account is taken of the differences between individuals on the basis of other characteristics such as education. Accordingly social class ranks occupations by the level of skill required on a social class scale ranging from 1 (highest) to 7 (lowest). This scale combines occupations into six groups by occupation and employment status following procedures similar to those outlined above for the allocation of socio-economic group. A residual category “All others gainfully occupied and unknown” is used where no precise allocation is possible.\n",
    "source:https://www.cso.ie/en/releasesandpublications/ep/p-cp4hf/cp4hf/bgn/\n",
    "\n",
    "For dataset we are using 4 categories these\n",
    "SC 1-2 (Upper) 31.4% \n",
    "SC 3-4 (Middle) 37.6%\n",
    "SC 5-6 (Lower) 16.1% \n",
    "Unclassified 14.9%"
   ]
  },
  {
   "cell_type": "code",
   "execution_count": 17,
   "metadata": {},
   "outputs": [
    {
     "data": {
      "text/plain": [
       "<matplotlib.axes._subplots.AxesSubplot at 0x1b44c4b78d0>"
      ]
     },
     "execution_count": 17,
     "metadata": {},
     "output_type": "execute_result"
    },
    {
     "data": {
      "image/png": "[encoded data removed]",
      "text/plain": [
       "<Figure size 432x288 with 1 Axes>"
      ]
     },
     "metadata": {
      "needs_background": "light"
     },
     "output_type": "display_data"
    }
   ],
   "source": [
    "np.random.seed(256) # Set the random seed\n",
    "a=['Upper','Middle','Lower','Unclassified']\n",
    "data['Social_Class']= np.random.choice(a, 1000, p=[0.314,0.376,0.161,0.149])\n",
    "sns.countplot(data['Social_Class'])"
   ]
  },
  {
   "cell_type": "code",
   "execution_count": 18,
   "metadata": {},
   "outputs": [
    {
     "data": {
      "text/html": [
       "<div>\n",
       "<style scoped>\n",
       "    .dataframe tbody tr th:only-of-type {\n",
       "        vertical-align: middle;\n",
       "    }\n",
       "\n",
       "    .dataframe tbody tr th {\n",
       "        vertical-align: top;\n",
       "    }\n",
       "\n",
       "    .dataframe thead th {\n",
       "        text-align: right;\n",
       "    }\n",
       "</style>\n",
       "<table border=\"1\" class=\"dataframe\">\n",
       "  <thead>\n",
       "    <tr style=\"text-align: right;\">\n",
       "      <th></th>\n",
       "      <th>GENDER</th>\n",
       "      <th>AGE</th>\n",
       "      <th>EDUCATION</th>\n",
       "      <th>EMPLOYMENT_STATUS</th>\n",
       "      <th>MARITAL_STATUS</th>\n",
       "      <th>AREA</th>\n",
       "      <th>INCOME</th>\n",
       "      <th>GENERAL_HEALTH</th>\n",
       "      <th>Social_Class</th>\n",
       "    </tr>\n",
       "  </thead>\n",
       "  <tbody>\n",
       "    <tr>\n",
       "      <th>0</th>\n",
       "      <td>Male</td>\n",
       "      <td>57</td>\n",
       "      <td>Third Level</td>\n",
       "      <td>Employed</td>\n",
       "      <td>Single</td>\n",
       "      <td>Urban</td>\n",
       "      <td>30925</td>\n",
       "      <td>Good Health</td>\n",
       "      <td>Upper</td>\n",
       "    </tr>\n",
       "    <tr>\n",
       "      <th>1</th>\n",
       "      <td>Male</td>\n",
       "      <td>64</td>\n",
       "      <td>Post Leaving CERT</td>\n",
       "      <td>Employed</td>\n",
       "      <td>Married</td>\n",
       "      <td>Urban</td>\n",
       "      <td>24897</td>\n",
       "      <td>Good Health</td>\n",
       "      <td>Middle</td>\n",
       "    </tr>\n",
       "    <tr>\n",
       "      <th>2</th>\n",
       "      <td>Female</td>\n",
       "      <td>26</td>\n",
       "      <td>Third Level</td>\n",
       "      <td>Employed</td>\n",
       "      <td>Single</td>\n",
       "      <td>Urban</td>\n",
       "      <td>33837</td>\n",
       "      <td>Good Health</td>\n",
       "      <td>Upper</td>\n",
       "    </tr>\n",
       "    <tr>\n",
       "      <th>3</th>\n",
       "      <td>Female</td>\n",
       "      <td>50</td>\n",
       "      <td>Third Level</td>\n",
       "      <td>Employed</td>\n",
       "      <td>Single</td>\n",
       "      <td>Urban</td>\n",
       "      <td>33157</td>\n",
       "      <td>Good Health</td>\n",
       "      <td>Upper</td>\n",
       "    </tr>\n",
       "    <tr>\n",
       "      <th>4</th>\n",
       "      <td>Male</td>\n",
       "      <td>63</td>\n",
       "      <td>Third Level</td>\n",
       "      <td>Employed</td>\n",
       "      <td>Single</td>\n",
       "      <td>Urban</td>\n",
       "      <td>30531</td>\n",
       "      <td>Good Health</td>\n",
       "      <td>Upper</td>\n",
       "    </tr>\n",
       "  </tbody>\n",
       "</table>\n",
       "</div>"
      ],
      "text/plain": [
       "   GENDER  AGE          EDUCATION EMPLOYMENT_STATUS MARITAL_STATUS   AREA  \\\n",
       "0    Male   57        Third Level          Employed         Single  Urban   \n",
       "1    Male   64  Post Leaving CERT          Employed        Married  Urban   \n",
       "2  Female   26        Third Level          Employed         Single  Urban   \n",
       "3  Female   50        Third Level          Employed         Single  Urban   \n",
       "4    Male   63        Third Level          Employed         Single  Urban   \n",
       "\n",
       "   INCOME GENERAL_HEALTH Social_Class  \n",
       "0   30925    Good Health        Upper  \n",
       "1   24897    Good Health       Middle  \n",
       "2   33837    Good Health        Upper  \n",
       "3   33157    Good Health        Upper  \n",
       "4   30531    Good Health        Upper  "
      ]
     },
     "execution_count": 18,
     "metadata": {},
     "output_type": "execute_result"
    }
   ],
   "source": [
    "data.head(5)"
   ]
  },
  {
   "cell_type": "markdown",
   "metadata": {},
   "source": [
    "There is significant divide in earnings from county to county.but The Central Statistics Office (CSO) numbers show that the average income for Irish households stood at €45,256 in 2016.\n",
    "\n",
    "The Dublin coastal town of Malahide had the highest average income of €78,631 of all 41 towns in the country with a population of 10,000 or over.\n",
    "\n",
    "Celbridge in Co Kildare had the second highest at €64,877 while Maynooth was third at €64,529. The towns with the lowest average incomes were Longford at €29,224, Enniscorthy, Co Wexford, at €31,049 and Ballina, Co Mayo, with €32,779.\n",
    "\n",
    "Dublin City had the highest earned income per person at €39,999, followed by Dún Laoghaire-Rathdown, €37,117, and Cork City, €34,317.\n",
    "\n",
    "The lowest earned incomes per person by county were in Donegal at €24,626, Monaghan at €24,903 and Leitrim at €25,962. The figures showed that 42.3pc of households had two or more people earning an income, while 30.1pc had just one member earning a wage."
   ]
  },
  {
   "cell_type": "markdown",
   "metadata": {},
   "source": [
    "An average of 27% of households throughout the country had no income earners at all. Social welfare payments to people of working age made up more than half of the income in 13.7pc of households. while the State pension formed the majority of income in 12.9 %. This gave a total of 26.6pc of households where social welfare made up more than half of household income in Ireland in 2016.Households where the occupants were in the medical, finance, legal and IT professions enjoyed the highest incomes, while farmers, care workers and home carers earned under €30,000. gender The data also showed a significant gender gap in some professions. In the financial managers and directors' sector, female income was €60,126 compared with €94,500 for males. \n",
    "#In contrast, the primary and nursery teaching professions had the smallest gender gaps.The CSO revealed that those who travel farthest to work also earn the most. The average worker driving less than 30 minutes to work earns €32,004 a year,\n",
    " compared with €41,495 for those travelling more than 30 minutes.Those who described their health as \"very bad\" earned an average of €11,700, but those who earned more than €27,579 reported their health as \"very good\".\n",
    "#source: https://www.independent.ie/business/personal-finance/latest-news/great-divide-in-household-income-across-the-country-is-laid-bare-38239841.html\n"
   ]
  },
  {
   "cell_type": "markdown",
   "metadata": {},
   "source": [
    "**NOTE: \n",
    "As I was thinking that it will be easy to generate this dataset but it was so wide that I feel it is not enough and as i didn't complete the statistics module yet therefore understanding the prbability distributions was a challenge. As I was interested in health related data set and in my research i come across a dataset about Adolescent Sleep. It was not that wide and i decide to work on that I cant get the exact data but I got the statistics so decide to build it.**"
   ]
  },
  {
   "cell_type": "markdown",
   "metadata": {},
   "source": [
    "# Sleep in Adolescents: Association with Social Media, Mental Health and Problem Behaviour\n",
    "This research  was about Adolesents sleep and its association with social media ,mental health and problem behaviour. I have the statistics of this data to generate the dataset\n",
    "\n",
    "Data set available at (Source): https://skemman.is/bitstream/1946/28393/1/Halld%C3%B3r_Gauti_Bs_.pdf"
   ]
  },
  {
   "cell_type": "code",
   "execution_count": null,
   "metadata": {},
   "outputs": [],
   "source": [
    "import pandas as pd\n",
    "import seaborn as sns\n",
    "import numpy as np\n",
    "import matplotlib.pyplot as plt\n",
    "from matplotlib.pyplot import pie, axis, show\n",
    "\n",
    "# Display plots inline in the notebook\n",
    "%matplotlib inline "
   ]
  },
  {
   "cell_type": "code",
   "execution_count": null,
   "metadata": {},
   "outputs": [],
   "source": [
    "s_data=pd.DataFrame()"
   ]
  },
  {
   "cell_type": "markdown",
   "metadata": {},
   "source": [
    "## Age \n",
    "This column has age value of kids from 13 -18 with 17 as mean. I used np.random.randint() to create an sample of 2028 numbers range from 13-18"
   ]
  },
  {
   "cell_type": "code",
   "execution_count": null,
   "metadata": {},
   "outputs": [],
   "source": [
    "#Age 13-18 15mean\n",
    "np.random.seed(256) # Set the random seed\n",
    "s_data['AGE'] = np.random.randint(13,18, size= 2028,dtype='int')\n",
    "\n",
    "#sns.distplot(s_data['AGE'])\n",
    "sns.distplot(s_data['AGE'])\n",
    "plt.show()"
   ]
  },
  {
   "cell_type": "markdown",
   "metadata": {},
   "source": [
    "## Gender"
   ]
  },
  {
   "cell_type": "markdown",
   "metadata": {},
   "source": [
    "This data was base on a survey and the respondents are 51.1% females and 48.9% males. so use np.random.choice with given probabilities."
   ]
  },
  {
   "cell_type": "code",
   "execution_count": null,
   "metadata": {},
   "outputs": [],
   "source": [
    "#Gender male= 48.9 female= 51.1\n",
    "np.random.seed(256) # Set the random seed\n",
    "gender=['Male','Female']\n",
    "s_data['GENDER']= np.random.choice(gender, 2028,p=[0.489,0.511])\n",
    "\n",
    "s_data['GENDER'].value_counts()"
   ]
  },
  {
   "cell_type": "code",
   "execution_count": null,
   "metadata": {},
   "outputs": [],
   "source": [
    "# Pie Plot of gender\n",
    "plt.pie([0.489, 0.511], labels=['Male', 'Female'], colors=['blue','yellow'],\n",
    "autopct='%1.1f%%', textprops={'fontsize': 16})\n",
    "plt.show()\n"
   ]
  },
  {
   "cell_type": "markdown",
   "metadata": {},
   "source": [
    "## Social media use\n",
    "To measure the time spent on social media participants were asked the following question “How much time on average do you spend on the following: Being on social media on the internet for example on Facebook, Twitter, Instagram, Vine, Tumblr,\n",
    "WhatsApp, Snapchat, Skype” the response to the question ranged from 1 (almost no time) to 8 (6 hours or more). When processing the date a change was made and the responses were combined into three groups; those that answered Almost no time, thirty minutes to an hour and around one hour, were combined and called Little time. Those who answered around two hours and around three hours were combined and called Average time and finally those that answered, around four hours, around five hours and six hours or more were combined and called Long time. This was done on the basis of a study by Mediakix (2017) stating that the\n",
    "average person spends around 116 minutes a day on social media. (Source): https://skemman.is/bitstream/1946/28393/1/Halld%C3%B3r_Gauti_Bs_.pdf\n",
    "\n",
    "It is a categorical data and numpy.random.choice is used to draw the samples"
   ]
  },
  {
   "cell_type": "code",
   "execution_count": null,
   "metadata": {},
   "outputs": [],
   "source": [
    "# these are the statistics in the dataset,Little time 55.5% (1,077) ,Average time 30.4% (589), Long time 14.1% \n",
    "np.random.seed(256) # Set the random seed\n",
    "smedia=['Little Time','Average Time','Long Time']\n",
    "s_data['MEDIA']= np.random.choice(smedia, 2028,p=[0.555,0.304,0.141])\n",
    "\n",
    "s_data['MEDIA'].value_counts()\n",
    "# Plot of media use\n",
    "plt.hist(s_data['MEDIA'])\n",
    "plt.show()"
   ]
  },
  {
   "cell_type": "markdown",
   "metadata": {},
   "source": [
    "## Sleep\n",
    "To measure participant’s sleep they were asked the following question: “How many hours on average do you normally sleep at night?” And the following answers were available: 9 hours or more, around 9 hours, around 8 hours, around 7 hours, around 6 hours,6 hours or less. When processing the data a change was made and the six categories were combined into two groups, Sufficient sleep and Insufficient sleep. This was done according to official sleep recommendations for this age group (14-17 years old) which states that seven to eleven hours of sleep is appropriate but anything below is not (Hirshkowitz et al., 2015)."
   ]
  },
  {
   "cell_type": "code",
   "execution_count": null,
   "metadata": {},
   "outputs": [],
   "source": [
    "# sufficient sleep 86.5 Insufficient sleep 13.5. The Sufficient sleep\n",
    "np.random.seed(256) # Set the random seed\n",
    "\n",
    "sleep=['Sufficient_sleep','Insufficient_sleep']\n",
    "cnt = 0\n",
    "for idx, val in enumerate(s_data.itertuples()):\n",
    "    if s_data.MEDIA[idx] == 'Long Time':\n",
    "            s_data.loc[idx, 'SLEEP'] = np.random.choice(sleep,p=[0.75,0.25])\n",
    "        \n",
    "    if s_data.MEDIA[idx] == 'Average Time':\n",
    "            s_data.loc[idx, 'SLEEP'] = np.random.choice(sleep,p=[0.75,0.25])\n",
    "        \n",
    "    if s_data.MEDIA[idx] == 'Little Time':\n",
    "            s_data.loc[idx, 'SLEEP'] = np.random.choice(sleep,p=[0.865,0.135])\n",
    "        \n",
    "#data['SLEEP']= np.random.choice(sleep, 2028,p=[0.865,0.135])\n",
    "\n",
    "s_data['SLEEP'].value_counts()"
   ]
  },
  {
   "cell_type": "code",
   "execution_count": null,
   "metadata": {},
   "outputs": [],
   "source": [
    "s_data.groupby(['SLEEP','MEDIA']).count()"
   ]
  },
  {
   "cell_type": "markdown",
   "metadata": {},
   "source": [
    "## Mental Health\n",
    "To measure mental wellbeing participants were asked the following question “How good is your mental health?” and the responses were measured on a 4 point Likert scale, range from 1 (very good) to 4 (bad). as this study is about sleep therefore on the base of sleep we are putting the values in"
   ]
  },
  {
   "cell_type": "code",
   "execution_count": null,
   "metadata": {},
   "outputs": [],
   "source": [
    "# Very good 44.1% (876),Good 37.9% (754),Alright 12.5% (248),Bad 5.5% \n",
    "np.random.seed(256) # Set the random seed\n",
    "mhealth=['Very good','Good','Alright','Bad']\n",
    "cnt = 0\n",
    "for idx, val in enumerate(data.itertuples()):\n",
    "    if s_data.SLEEP[idx] == 'Sufficient_sleep':\n",
    "            s_data.loc[idx, 'MENTAL_HEALTH'] = np.random.choice(mhealth,p=[0.441,0.379,0.125,0.055])\n",
    "        \n",
    "    if s_data.SLEEP[idx] == 'Insufficient_sleep':\n",
    "            s_data.loc[idx, 'MENTAL_HEALTH'] = np.random.choice(mhealth,p=[0.305,0.32,0.125,0.25])\n",
    "                           \n",
    "\n",
    "#data['MENTAL_HEALTH']= np.random.choice(mhealth, 2028,p=[0.441,0.379,0.125,0.055])\n",
    "\n",
    "s_data['MENTAL_HEALTH'].value_counts()\n",
    "#s=np.random.lognormal(2.5,1,2000)\n",
    "#print(s)"
   ]
  },
  {
   "cell_type": "code",
   "execution_count": null,
   "metadata": {},
   "outputs": [],
   "source": [
    "s_data.groupby(['SLEEP','MENTAL_HEALTH']).count()"
   ]
  },
  {
   "cell_type": "markdown",
   "metadata": {},
   "source": [
    "## Problem Behaviour\n",
    "Few questions were combined to measure problem behaviour that all involved inappropriate actions such as showing aggression by fighting and skipping school. The following questions were asked: “How often in the last 12 months, did the following of these six statement happen”: break rules at home, broke rules at school, got into a fight, skipped school, fled from home, and got in to trouble for lying and stealing. Answerswere collected using Likert scale which ranges from 1 (rare/almost never) to 4 (almost always or always). After combining all answers the range reach from 0-24 and the variable was named behaviour. The variable was split into three groups, First group ranged from 0-6 was named Low, the second group ranged from 7-12 and got the name Medium and third group range was from 13-24 and got named High. "
   ]
  },
  {
   "cell_type": "code",
   "execution_count": null,
   "metadata": {},
   "outputs": [],
   "source": [
    "#Low 51.6% (1,022),Medium 45.4% (900),High 3.0% (59)\n",
    "\n",
    "#np.random.seed(256) # Set the random seed\n",
    "behaviour=['Low','Medium','High']\n",
    "cnt = 0\n",
    "for idx, val in enumerate(data.itertuples()):\n",
    "    if s_data.SLEEP[idx] == 'Sufficient_sleep':\n",
    "            data.loc[idx, 'BEHAVIOUR_PROBLEM'] = np.random.choice(behaviour,p=[0.52,0.46,0.02])\n",
    "        \n",
    "    if s_data.SLEEP[idx] == 'Insufficient_sleep':\n",
    "            data.loc[idx, 'BEHAVIOUR_PROBLEM'] = np.random.choice(behaviour,p=[0.41,0.39,0.20])\n",
    "        \n",
    "   #data['BEHAVIOUR']= np.random.choice(behaviour, 2028,p=[0.516,0.454,0.03])\n",
    "\n",
    "s_data['BEHAVIOUR_PROBLEM'].value_counts()\n"
   ]
  },
  {
   "cell_type": "code",
   "execution_count": null,
   "metadata": {},
   "outputs": [],
   "source": [
    "s_data"
   ]
  },
  {
   "cell_type": "markdown",
   "metadata": {},
   "source": [
    "## Relation between Behaviour and Sleep\n"
   ]
  },
  {
   "cell_type": "code",
   "execution_count": null,
   "metadata": {
    "scrolled": true
   },
   "outputs": [],
   "source": [
    "s_data.groupby(['SLEEP','BEHAVIOUR_PROBLEM']).count()"
   ]
  },
  {
   "cell_type": "code",
   "execution_count": null,
   "metadata": {},
   "outputs": [],
   "source": [
    "#source: https://codingdisciple.com/chi-squared-python.html\n",
    "contingency_table = pd.crosstab(\n",
    "    s_data['BEHAVIOUR_PROBLEM'],\n",
    "    s_data['SLEEP'],\n",
    "    margins = True\n",
    ")\n",
    "contingency_table"
   ]
  },
  {
   "cell_type": "code",
   "execution_count": null,
   "metadata": {},
   "outputs": [],
   "source": [
    "f_obs = np.array([contingency_table.iloc[0][0:2].values,\n",
    "                  contingency_table.iloc[1][0:2].values,\n",
    "                 contingency_table.iloc[2][0:2].values,])\n",
    "f_obs"
   ]
  },
  {
   "cell_type": "code",
   "execution_count": null,
   "metadata": {},
   "outputs": [],
   "source": [
    "from scipy import stats\n",
    "stats.chi2_contingency(f_obs)[0:3]"
   ]
  },
  {
   "cell_type": "markdown",
   "metadata": {},
   "source": [
    "With a p-value < 0.05 , we can reject the null hypothesis. There is definitely some sort of relationship between 'BEHAVIOUR_PROBLEM' and the 'SLEEP' column."
   ]
  },
  {
   "cell_type": "markdown",
   "metadata": {},
   "source": [
    "## Relation between Gender and Sleep"
   ]
  },
  {
   "cell_type": "code",
   "execution_count": null,
   "metadata": {},
   "outputs": [],
   "source": [
    "data.groupby(['GENDER','SLEEP']).count()"
   ]
  },
  {
   "cell_type": "code",
   "execution_count": null,
   "metadata": {},
   "outputs": [],
   "source": [
    "contingency_table = pd.crosstab(\n",
    "    s_data['GENDER'],\n",
    "    s_data['SLEEP'],\n",
    "    margins = True\n",
    ")\n",
    "contingency_table"
   ]
  },
  {
   "cell_type": "code",
   "execution_count": null,
   "metadata": {},
   "outputs": [],
   "source": [
    "f_obs = np.array([contingency_table.iloc[0][0:2].values,\n",
    "                  contingency_table.iloc[1][0:2].values])\n",
    "f_obs"
   ]
  },
  {
   "cell_type": "code",
   "execution_count": null,
   "metadata": {},
   "outputs": [],
   "source": [
    "from scipy import stats\n",
    "stats.chi2_contingency(f_obs)[0:3]"
   ]
  },
  {
   "cell_type": "markdown",
   "metadata": {},
   "source": [
    "With a p-value < 0.05 , we can reject the null hypothesis. There is definitely some sort of relationship between 'GENDER' and the 'SLEEP' column. "
   ]
  },
  {
   "cell_type": "markdown",
   "metadata": {},
   "source": [
    "## Relation between Mental Health and Sleep"
   ]
  },
  {
   "cell_type": "code",
   "execution_count": null,
   "metadata": {},
   "outputs": [],
   "source": [
    "contingency_table = pd.crosstab(\n",
    "    s_data['MENTAL_HEALTH'],\n",
    "    s_data['SLEEP'],\n",
    "    margins = True\n",
    ")\n",
    "contingency_table"
   ]
  },
  {
   "cell_type": "code",
   "execution_count": null,
   "metadata": {},
   "outputs": [],
   "source": [
    "f_obs = np.array([contingency_table.iloc[0][0:2].values,\n",
    "                  contingency_table.iloc[1][0:2].values,\n",
    "                 contingency_table.iloc[2][0:2].values])\n",
    "f_obs"
   ]
  },
  {
   "cell_type": "code",
   "execution_count": null,
   "metadata": {},
   "outputs": [],
   "source": [
    "from scipy import stats\n",
    "stats.chi2_contingency(f_obs)[0:3]"
   ]
  },
  {
   "cell_type": "markdown",
   "metadata": {},
   "source": [
    "With a p-value < 0.05 , we can reject the null hypothesis. There is definitely some sort of relationship between 'MENTAL_HEALTH' and the 'SLEEP' column. "
   ]
  },
  {
   "cell_type": "markdown",
   "metadata": {},
   "source": [
    "## Relation between media and sleep"
   ]
  },
  {
   "cell_type": "markdown",
   "metadata": {},
   "source": []
  },
  {
   "cell_type": "code",
   "execution_count": null,
   "metadata": {},
   "outputs": [],
   "source": [
    "contingency_table = pd.crosstab(\n",
    "    s_data['MEDIA'],\n",
    "    s_data['SLEEP'],\n",
    "    margins = True\n",
    ")\n",
    "contingency_table"
   ]
  },
  {
   "cell_type": "code",
   "execution_count": null,
   "metadata": {},
   "outputs": [],
   "source": [
    "f_obs = np.array([contingency_table.iloc[0][0:2].values,\n",
    "                  contingency_table.iloc[1][0:2].values,\n",
    "                 contingency_table.iloc[2][0:2].values])\n",
    "f_obs"
   ]
  },
  {
   "cell_type": "code",
   "execution_count": null,
   "metadata": {},
   "outputs": [],
   "source": [
    "from scipy import stats\n",
    "stats.chi2_contingency(f_obs)[0:3]"
   ]
  },
  {
   "cell_type": "markdown",
   "metadata": {},
   "source": [
    "With a p-value < 0.05 , we can reject the null hypothesis. There is definitely some sort of relationship between 'MEDIA' and the 'SLEEP' column."
   ]
  },
  {
   "cell_type": "markdown",
   "metadata": {},
   "source": [
    "SOURCE: https://www.kaggle.com/kuldeepnpatel/chi-square-test-of-independence WORKING ON IT"
   ]
  },
  {
   "cell_type": "code",
   "execution_count": null,
   "metadata": {},
   "outputs": [],
   "source": [
    "#Contingency Table\n",
    "contingency_table=pd.crosstab(_data[\"SLEEP\"],_data[\"GENDER\"])\n",
    "print('contingency_table :-\\n',contingency_table)"
   ]
  },
  {
   "cell_type": "code",
   "execution_count": null,
   "metadata": {},
   "outputs": [],
   "source": [
    "#Observed Values\n",
    "Observed_Values = contingency_table.values \n",
    "print(\"Observed Values :-\\n\",Observed_Values)"
   ]
  },
  {
   "cell_type": "code",
   "execution_count": null,
   "metadata": {},
   "outputs": [],
   "source": [
    "#Expected Values\n",
    "import scipy.stats\n",
    "b=scipy.stats.chi2_contingency(contingency_table.values)\n",
    "#print(b)\n",
    "Expected_Values = b[3]\n",
    "print(\"Expected Values :-\\n\",Expected_Values)"
   ]
  },
  {
   "cell_type": "code",
   "execution_count": null,
   "metadata": {},
   "outputs": [],
   "source": [
    "#Degree of Freedom\n",
    "#no_of_rows=len(contingency_table.iloc[0:3,0])\n",
    "#no_of_columns=len(contingency_table.iloc[0,0:4])\n",
    "no_of_rows=2\n",
    "no_of_col=3\n",
    "df=(no_of_rows-1)*(no_of_columns-1)\n",
    "print(\"Degree of Freedom:-\",df)\n",
    "\n",
    "#or\n",
    "#df=b[2]\n",
    "#print(\"Degree of Freedom:-\",df)"
   ]
  },
  {
   "cell_type": "code",
   "execution_count": null,
   "metadata": {},
   "outputs": [],
   "source": [
    "#Significance Level 5%\n",
    "alpha=0.05\n",
    "#chi-square statistic - χ2\n",
    "from scipy.stats import chi2\n",
    "chi_square=sum([(o-e)**2./e for o,e in zip(Observed_Values,Expected_Values)])\n",
    "chi_square_statistic=chi_square[0]+chi_square[1]\n",
    "print(\"chi-square statistic:-\",chi_square_statistic)"
   ]
  },
  {
   "cell_type": "code",
   "execution_count": null,
   "metadata": {},
   "outputs": [],
   "source": [
    "#critical_value\n",
    "critical_value=chi2.ppf(q=1-alpha,df=df)\n",
    "print('critical_value:',critical_value)\n",
    "#critical_value: 3.841458820694124\n",
    "\n"
   ]
  },
  {
   "cell_type": "code",
   "execution_count": null,
   "metadata": {},
   "outputs": [],
   "source": [
    "#p-value\n",
    "p_value=1-chi2.cdf(x=chi_square_statistic,df=df)\n",
    "print('p-value:',p_value)"
   ]
  },
  {
   "cell_type": "code",
   "execution_count": null,
   "metadata": {},
   "outputs": [],
   "source": [
    "#p-value: 0.7641771556220945\n",
    "print('Significance level: ',alpha)\n",
    "print('Degree of Freedom: ',df)\n",
    "print('chi-square statistic:',chi_square_statistic)\n",
    "print('critical_value:',critical_value)\n",
    "print('p-value:',p_value)"
   ]
  },
  {
   "cell_type": "code",
   "execution_count": null,
   "metadata": {},
   "outputs": [],
   "source": [
    "#compare chi_square_statistic with critical_value and p-value which is the probability of getting chi-square>0.09 (chi_square_statistic)\n",
    "if chi_square_statistic>=critical_value:\n",
    "    print(\"Reject H0,There is a relationship between 2 categorical variables\")\n",
    "else:\n",
    "    print(\"Retain H0,There is no relationship between 2 categorical variables\")\n",
    "    \n",
    "if p_value<=alpha:\n",
    "    print(\"Reject H0,There is a relationship between 2 categorical variables\")\n",
    "else:\n",
    "    print(\"Retain H0,There is no relationship between 2 categorical variables\")"
   ]
  },
  {
   "cell_type": "code",
   "execution_count": null,
   "metadata": {},
   "outputs": [],
   "source": [
    "data['GENDER','SLEEP'].corr()"
   ]
  },
  {
   "cell_type": "markdown",
   "metadata": {},
   "source": [
    "# References\n",
    "1. Sleep in Adolescents: Association with Social Media, Mental Health and Problem Behaviour availabe online at\n",
    "https://skemman.is/bitstream/1946/28393/1/Halld%C3%B3r_Gauti_Bs_.pdf accessed on 9/12/2019\n",
    "2. Find the relationship between two categorical variables available at https://www.kaggle.com/kuldeepnpatel/chi-square-test-of-independence accessed on  9/12/2019\n",
    "3. Using Python to Find Correlation Between Categorical and Continuous Variables  available at https://dzone.com/articles/correlation-between-categorical-and-continuous-var-1 accessed on 11/12/2019\n",
    "4. Chi-Squared Test for Independence in Python available at https://codingdisciple.com/chi-squared-python.html accessed on 11/12/2019\n"
   ]
  },
  {
   "cell_type": "markdown",
   "metadata": {},
   "source": [
    "# Reference\n",
    "1. https://www.cso.ie/en/releasesandpublications/ep/p-eaads/earningsanalysisusingadministrativedatasources2018/\n",
    "2. Education Attainment Report 2019 online available at https://www.cso.ie/en/releasesandpublications/er/eda/educationalattainmentthematicreport2019/ accessed on 04/12/2019\n",
    "3. Great divide in household income across the country is laid bare online available at  https://www.independent.ie/business/personal-finance/latest-news/great-divide-in-household-income-across-the-country-is-laid-bare-38239841.html accessed on 05/12/2019\n",
    "4. iterate over pandas rows and set column values based on values in other column available online at\n",
    "https://stackoverflow.com/questions/55114954/iterate-over-pandas-rows-and-set-column-values-based-on-values-in-other-column accessed on 06/12/2019\n",
    "5. Barry, M.M., Van Lente, E., Molcho. M., Morgan, K., McGee, H., Conroy, R.M., Watson, D., Shelley, E. and Perry, I. (2009) SLÁN 2007: Survey of Lifestyle, Attitudes and Nutrition in Ireland. Mental Health and Social Well-being Report, Department of Health and Children. Dublin: The Stationery Office.\n",
    "6. Practical Tutorial on Data Manipulation with Numpy and Pandas in Python available at  https://www.hackerearth.com/practice/machine-learning/data-manipulation-visualisation-r-python/tutorial-data-manipulation-numpy-pandas-python/tutorial/ accessed on 11/12/2019\n",
    "7. A Gentle Introduction to Calculating Normal Summary Statistics available online at https://machinelearningmastery.com/a-gentle-introduction-to-calculating-normal-summary-statistics/ accessed on 13/12/2019"
   ]
  },
  {
   "cell_type": "code",
   "execution_count": null,
   "metadata": {},
   "outputs": [],
   "source": []
  },
  {
   "cell_type": "code",
   "execution_count": null,
   "metadata": {},
   "outputs": [],
   "source": []
  },
  {
   "cell_type": "code",
   "execution_count": null,
   "metadata": {},
   "outputs": [],
   "source": []
  },
  {
   "cell_type": "code",
   "execution_count": null,
   "metadata": {},
   "outputs": [],
   "source": []
  },
  {
   "cell_type": "code",
   "execution_count": null,
   "metadata": {},
   "outputs": [],
   "source": []
  },
  {
   "cell_type": "code",
   "execution_count": null,
   "metadata": {},
   "outputs": [],
   "source": []
  },
  {
   "cell_type": "code",
   "execution_count": null,
   "metadata": {},
   "outputs": [],
   "source": []
  },
  {
   "cell_type": "code",
   "execution_count": null,
   "metadata": {},
   "outputs": [],
   "source": []
  },
  {
   "cell_type": "code",
   "execution_count": null,
   "metadata": {},
   "outputs": [],
   "source": []
  },
  {
   "cell_type": "code",
   "execution_count": null,
   "metadata": {},
   "outputs": [],
   "source": []
  },
  {
   "cell_type": "code",
   "execution_count": null,
   "metadata": {},
   "outputs": [],
   "source": []
  }
 ],
 "metadata": {
  "kernelspec": {
   "display_name": "Python 3",
   "language": "python",
   "name": "python3"
  },
  "language_info": {
   "codemirror_mode": {
    "name": "ipython",
    "version": 3
   },
   "file_extension": ".py",
   "mimetype": "text/x-python",
   "name": "python",
   "nbconvert_exporter": "python",
   "pygments_lexer": "ipython3",
   "version": "3.7.1"
  }
 },
 "nbformat": 4,
 "nbformat_minor": 2
}
