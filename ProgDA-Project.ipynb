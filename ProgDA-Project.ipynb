{
 "cells": [
  {
   "cell_type": "markdown",
   "metadata": {},
   "source": [
    "# Module: Programming for Data Analysis\n",
    "\n",
    "# Project 2019\n",
    "\n",
    "# Lecturer: Brian McGinley"
   ]
  },
  {
   "cell_type": "markdown",
   "metadata": {},
   "source": [
    "## Introduction\n",
    " The Objective of this project is\n",
    " \n",
    "    - Choose a real-world phenomenon that can be measured and for which you could collect at least one-hundred data points across at least four diﬀerent variables. \n",
    "    - Investigate the types of variables involved, their likely distributions, and their relationships with each other.\n",
    "    - Synthesise/simulate a data set as closely matching their properties as possible.\n",
    "    - Detail research and implement the simulation in a Jupyter notebook – the data set itself can simply be displayed in an output cell within the notebook."
   ]
  },
  {
   "cell_type": "markdown",
   "metadata": {},
   "source": [
    "## Real-world phenomenon "
   ]
  },
  {
   "cell_type": "markdown",
   "metadata": {},
   "source": [
    "I decide to look at the socioeconomic factors effecting health of people age 25 - 35 in Ireland. The link between general health and socio-economic status is well established.First I have to look at the variables in the dataset\n",
    "\n",
    "column in dataset\n",
    "\n",
    "- Gender: \n",
    "- Age:\n",
    "- Education:\n",
    "- Employment Status:(Full Time, self_employed, Unemployed) \n",
    "- Living Area:(Urban,Rural)\n",
    "- Income:\n",
    "- Marital Status:\n",
    "- General Health:"
   ]
  },
  {
   "cell_type": "markdown",
   "metadata": {},
   "source": [
    "we  have to collect the data of 1000  young people I decide to have 50% males and 50% females "
   ]
  },
  {
   "cell_type": "code",
   "execution_count": 1,
   "metadata": {},
   "outputs": [],
   "source": [
    "#import libraries\n",
    "import seaborn as sns\n",
    "import pandas as pd\n",
    "import numpy as np\n",
    "import matplotlib.pyplot as plt"
   ]
  },
  {
   "cell_type": "code",
   "execution_count": 2,
   "metadata": {},
   "outputs": [
    {
     "data": {
      "text/html": [
       "<div>\n",
       "<style scoped>\n",
       "    .dataframe tbody tr th:only-of-type {\n",
       "        vertical-align: middle;\n",
       "    }\n",
       "\n",
       "    .dataframe tbody tr th {\n",
       "        vertical-align: top;\n",
       "    }\n",
       "\n",
       "    .dataframe thead th {\n",
       "        text-align: right;\n",
       "    }\n",
       "</style>\n",
       "<table border=\"1\" class=\"dataframe\">\n",
       "  <thead>\n",
       "    <tr style=\"text-align: right;\">\n",
       "      <th></th>\n",
       "      <th>GENDER</th>\n",
       "      <th>AGE</th>\n",
       "      <th>EDUCATION</th>\n",
       "      <th>Employment_Status</th>\n",
       "      <th>AREA</th>\n",
       "      <th>INCOME</th>\n",
       "      <th>MARITAL STATUS</th>\n",
       "      <th>GENERAL HEALTH</th>\n",
       "    </tr>\n",
       "  </thead>\n",
       "  <tbody>\n",
       "  </tbody>\n",
       "</table>\n",
       "</div>"
      ],
      "text/plain": [
       "Empty DataFrame\n",
       "Columns: [GENDER, AGE, EDUCATION, Employment_Status, AREA, INCOME, MARITAL STATUS, GENERAL HEALTH]\n",
       "Index: []"
      ]
     },
     "execution_count": 2,
     "metadata": {},
     "output_type": "execute_result"
    }
   ],
   "source": [
    "data1 = ['GENDER: Female,Male',\n",
    "         'AGE: years',\n",
    "         'EDUCATION:',\n",
    "         'Employment_Status: ',\n",
    "         'AREA: ',\n",
    "         'INCOME: Income yearly',\n",
    "         'MARITAL STATUS: 0= Single , 1 = Married, 3= Divorced ',\n",
    "         'GENERAL HEALTH:  0= Poor, 1=Good,2= Very Good, 3=Excellent'\n",
    "]\n",
    "short_names = [d.split(':')[0] for d in data1]\n",
    "data=pd.DataFrame(columns = short_names)\n",
    "\n",
    "data"
   ]
  },
  {
   "cell_type": "code",
   "execution_count": 3,
   "metadata": {},
   "outputs": [],
   "source": [
    "np.random.seed(256) # Set the random seed\n",
    "a=['Male','Female']\n",
    "data['GENDER']= np.random.choice(a, 1000, p=[0.5,0.5])\n",
    "\n",
    "#data['GENDER']"
   ]
  },
  {
   "cell_type": "code",
   "execution_count": 4,
   "metadata": {},
   "outputs": [
    {
     "data": {
      "text/plain": [
       "<matplotlib.axes._subplots.AxesSubplot at 0x161e3f6c9e8>"
      ]
     },
     "execution_count": 4,
     "metadata": {},
     "output_type": "execute_result"
    },
    {
     "data": {
      "image/png": "[encoded data removed]",
      "text/plain": [
       "<Figure size 432x288 with 1 Axes>"
      ]
     },
     "metadata": {
      "needs_background": "light"
     },
     "output_type": "display_data"
    }
   ],
   "source": [
    "sns.countplot(x=data['GENDER'])"
   ]
  },
  {
   "cell_type": "code",
   "execution_count": 5,
   "metadata": {},
   "outputs": [
    {
     "ename": "ValueError",
     "evalue": "Length of values does not match length of index",
     "output_type": "error",
     "traceback": [
      "\u001b[1;31m---------------------------------------------------------------------------\u001b[0m",
      "\u001b[1;31mValueError\u001b[0m                                Traceback (most recent call last)",
      "\u001b[1;32m<ipython-input-5-98af2092eefb>\u001b[0m in \u001b[0;36m<module>\u001b[1;34m\u001b[0m\n\u001b[0;32m      1\u001b[0m \u001b[0mnp\u001b[0m\u001b[1;33m.\u001b[0m\u001b[0mrandom\u001b[0m\u001b[1;33m.\u001b[0m\u001b[0mseed\u001b[0m\u001b[1;33m(\u001b[0m\u001b[1;36m256\u001b[0m\u001b[1;33m)\u001b[0m \u001b[1;31m# Set the random seed\u001b[0m\u001b[1;33m\u001b[0m\u001b[1;33m\u001b[0m\u001b[0m\n\u001b[1;32m----> 2\u001b[1;33m \u001b[0mdata\u001b[0m\u001b[1;33m[\u001b[0m\u001b[1;34m'AGE'\u001b[0m\u001b[1;33m]\u001b[0m \u001b[1;33m=\u001b[0m \u001b[0mnp\u001b[0m\u001b[1;33m.\u001b[0m\u001b[0mrandom\u001b[0m\u001b[1;33m.\u001b[0m\u001b[0mrandint\u001b[0m\u001b[1;33m(\u001b[0m\u001b[1;36m25\u001b[0m\u001b[1;33m,\u001b[0m\u001b[1;36m36\u001b[0m\u001b[1;33m,\u001b[0m \u001b[0msize\u001b[0m\u001b[1;33m=\u001b[0m \u001b[1;36m200\u001b[0m\u001b[1;33m)\u001b[0m\u001b[1;33m\u001b[0m\u001b[1;33m\u001b[0m\u001b[0m\n\u001b[0m\u001b[0;32m      3\u001b[0m \u001b[1;31m#data = data.astype({\"AGE\": int})\u001b[0m\u001b[1;33m\u001b[0m\u001b[1;33m\u001b[0m\u001b[1;33m\u001b[0m\u001b[0m\n\u001b[0;32m      4\u001b[0m \u001b[0mplt\u001b[0m\u001b[1;33m.\u001b[0m\u001b[0mhist\u001b[0m\u001b[1;33m(\u001b[0m\u001b[0mdata\u001b[0m\u001b[1;33m[\u001b[0m\u001b[1;34m'AGE'\u001b[0m\u001b[1;33m]\u001b[0m\u001b[1;33m)\u001b[0m\u001b[1;33m\u001b[0m\u001b[1;33m\u001b[0m\u001b[0m\n",
      "\u001b[1;32m~\\Anaconda3\\lib\\site-packages\\pandas\\core\\frame.py\u001b[0m in \u001b[0;36m__setitem__\u001b[1;34m(self, key, value)\u001b[0m\n\u001b[0;32m   3117\u001b[0m         \u001b[1;32melse\u001b[0m\u001b[1;33m:\u001b[0m\u001b[1;33m\u001b[0m\u001b[1;33m\u001b[0m\u001b[0m\n\u001b[0;32m   3118\u001b[0m             \u001b[1;31m# set column\u001b[0m\u001b[1;33m\u001b[0m\u001b[1;33m\u001b[0m\u001b[1;33m\u001b[0m\u001b[0m\n\u001b[1;32m-> 3119\u001b[1;33m             \u001b[0mself\u001b[0m\u001b[1;33m.\u001b[0m\u001b[0m_set_item\u001b[0m\u001b[1;33m(\u001b[0m\u001b[0mkey\u001b[0m\u001b[1;33m,\u001b[0m \u001b[0mvalue\u001b[0m\u001b[1;33m)\u001b[0m\u001b[1;33m\u001b[0m\u001b[1;33m\u001b[0m\u001b[0m\n\u001b[0m\u001b[0;32m   3120\u001b[0m \u001b[1;33m\u001b[0m\u001b[0m\n\u001b[0;32m   3121\u001b[0m     \u001b[1;32mdef\u001b[0m \u001b[0m_setitem_slice\u001b[0m\u001b[1;33m(\u001b[0m\u001b[0mself\u001b[0m\u001b[1;33m,\u001b[0m \u001b[0mkey\u001b[0m\u001b[1;33m,\u001b[0m \u001b[0mvalue\u001b[0m\u001b[1;33m)\u001b[0m\u001b[1;33m:\u001b[0m\u001b[1;33m\u001b[0m\u001b[1;33m\u001b[0m\u001b[0m\n",
      "\u001b[1;32m~\\Anaconda3\\lib\\site-packages\\pandas\\core\\frame.py\u001b[0m in \u001b[0;36m_set_item\u001b[1;34m(self, key, value)\u001b[0m\n\u001b[0;32m   3192\u001b[0m \u001b[1;33m\u001b[0m\u001b[0m\n\u001b[0;32m   3193\u001b[0m         \u001b[0mself\u001b[0m\u001b[1;33m.\u001b[0m\u001b[0m_ensure_valid_index\u001b[0m\u001b[1;33m(\u001b[0m\u001b[0mvalue\u001b[0m\u001b[1;33m)\u001b[0m\u001b[1;33m\u001b[0m\u001b[1;33m\u001b[0m\u001b[0m\n\u001b[1;32m-> 3194\u001b[1;33m         \u001b[0mvalue\u001b[0m \u001b[1;33m=\u001b[0m \u001b[0mself\u001b[0m\u001b[1;33m.\u001b[0m\u001b[0m_sanitize_column\u001b[0m\u001b[1;33m(\u001b[0m\u001b[0mkey\u001b[0m\u001b[1;33m,\u001b[0m \u001b[0mvalue\u001b[0m\u001b[1;33m)\u001b[0m\u001b[1;33m\u001b[0m\u001b[1;33m\u001b[0m\u001b[0m\n\u001b[0m\u001b[0;32m   3195\u001b[0m         \u001b[0mNDFrame\u001b[0m\u001b[1;33m.\u001b[0m\u001b[0m_set_item\u001b[0m\u001b[1;33m(\u001b[0m\u001b[0mself\u001b[0m\u001b[1;33m,\u001b[0m \u001b[0mkey\u001b[0m\u001b[1;33m,\u001b[0m \u001b[0mvalue\u001b[0m\u001b[1;33m)\u001b[0m\u001b[1;33m\u001b[0m\u001b[1;33m\u001b[0m\u001b[0m\n\u001b[0;32m   3196\u001b[0m \u001b[1;33m\u001b[0m\u001b[0m\n",
      "\u001b[1;32m~\\Anaconda3\\lib\\site-packages\\pandas\\core\\frame.py\u001b[0m in \u001b[0;36m_sanitize_column\u001b[1;34m(self, key, value, broadcast)\u001b[0m\n\u001b[0;32m   3389\u001b[0m \u001b[1;33m\u001b[0m\u001b[0m\n\u001b[0;32m   3390\u001b[0m             \u001b[1;31m# turn me into an ndarray\u001b[0m\u001b[1;33m\u001b[0m\u001b[1;33m\u001b[0m\u001b[1;33m\u001b[0m\u001b[0m\n\u001b[1;32m-> 3391\u001b[1;33m             \u001b[0mvalue\u001b[0m \u001b[1;33m=\u001b[0m \u001b[0m_sanitize_index\u001b[0m\u001b[1;33m(\u001b[0m\u001b[0mvalue\u001b[0m\u001b[1;33m,\u001b[0m \u001b[0mself\u001b[0m\u001b[1;33m.\u001b[0m\u001b[0mindex\u001b[0m\u001b[1;33m,\u001b[0m \u001b[0mcopy\u001b[0m\u001b[1;33m=\u001b[0m\u001b[1;32mFalse\u001b[0m\u001b[1;33m)\u001b[0m\u001b[1;33m\u001b[0m\u001b[1;33m\u001b[0m\u001b[0m\n\u001b[0m\u001b[0;32m   3392\u001b[0m             \u001b[1;32mif\u001b[0m \u001b[1;32mnot\u001b[0m \u001b[0misinstance\u001b[0m\u001b[1;33m(\u001b[0m\u001b[0mvalue\u001b[0m\u001b[1;33m,\u001b[0m \u001b[1;33m(\u001b[0m\u001b[0mnp\u001b[0m\u001b[1;33m.\u001b[0m\u001b[0mndarray\u001b[0m\u001b[1;33m,\u001b[0m \u001b[0mIndex\u001b[0m\u001b[1;33m)\u001b[0m\u001b[1;33m)\u001b[0m\u001b[1;33m:\u001b[0m\u001b[1;33m\u001b[0m\u001b[1;33m\u001b[0m\u001b[0m\n\u001b[0;32m   3393\u001b[0m                 \u001b[1;32mif\u001b[0m \u001b[0misinstance\u001b[0m\u001b[1;33m(\u001b[0m\u001b[0mvalue\u001b[0m\u001b[1;33m,\u001b[0m \u001b[0mlist\u001b[0m\u001b[1;33m)\u001b[0m \u001b[1;32mand\u001b[0m \u001b[0mlen\u001b[0m\u001b[1;33m(\u001b[0m\u001b[0mvalue\u001b[0m\u001b[1;33m)\u001b[0m \u001b[1;33m>\u001b[0m \u001b[1;36m0\u001b[0m\u001b[1;33m:\u001b[0m\u001b[1;33m\u001b[0m\u001b[1;33m\u001b[0m\u001b[0m\n",
      "\u001b[1;32m~\\Anaconda3\\lib\\site-packages\\pandas\\core\\series.py\u001b[0m in \u001b[0;36m_sanitize_index\u001b[1;34m(data, index, copy)\u001b[0m\n\u001b[0;32m   3999\u001b[0m \u001b[1;33m\u001b[0m\u001b[0m\n\u001b[0;32m   4000\u001b[0m     \u001b[1;32mif\u001b[0m \u001b[0mlen\u001b[0m\u001b[1;33m(\u001b[0m\u001b[0mdata\u001b[0m\u001b[1;33m)\u001b[0m \u001b[1;33m!=\u001b[0m \u001b[0mlen\u001b[0m\u001b[1;33m(\u001b[0m\u001b[0mindex\u001b[0m\u001b[1;33m)\u001b[0m\u001b[1;33m:\u001b[0m\u001b[1;33m\u001b[0m\u001b[1;33m\u001b[0m\u001b[0m\n\u001b[1;32m-> 4001\u001b[1;33m         \u001b[1;32mraise\u001b[0m \u001b[0mValueError\u001b[0m\u001b[1;33m(\u001b[0m\u001b[1;34m'Length of values does not match length of '\u001b[0m \u001b[1;34m'index'\u001b[0m\u001b[1;33m)\u001b[0m\u001b[1;33m\u001b[0m\u001b[1;33m\u001b[0m\u001b[0m\n\u001b[0m\u001b[0;32m   4002\u001b[0m \u001b[1;33m\u001b[0m\u001b[0m\n\u001b[0;32m   4003\u001b[0m     \u001b[1;32mif\u001b[0m \u001b[0misinstance\u001b[0m\u001b[1;33m(\u001b[0m\u001b[0mdata\u001b[0m\u001b[1;33m,\u001b[0m \u001b[0mABCIndexClass\u001b[0m\u001b[1;33m)\u001b[0m \u001b[1;32mand\u001b[0m \u001b[1;32mnot\u001b[0m \u001b[0mcopy\u001b[0m\u001b[1;33m:\u001b[0m\u001b[1;33m\u001b[0m\u001b[1;33m\u001b[0m\u001b[0m\n",
      "\u001b[1;31mValueError\u001b[0m: Length of values does not match length of index"
     ]
    }
   ],
   "source": [
    "np.random.seed(256) # Set the random seed\n",
    "data['AGE'] = np.random.randint(25,36, size= 200)\n",
    "#data = data.astype({\"AGE\": int})\n",
    "plt.hist(data['AGE'])"
   ]
  },
  {
   "cell_type": "code",
   "execution_count": null,
   "metadata": {},
   "outputs": [],
   "source": [
    "np.random.seed(256)\n",
    "Edu= ['Third Level','Post Leaving CERT','Higher Secondary', 'Lower Secondry','Primary or Below']\n",
    "#source: https://www.cso.ie/en/releasesandpublications/er/eda/educationalattainmentthematicreport2019/\n",
    "data['EDUCATION']= np.random.choice(Edu, 200, p=[0.47,0.15,0.22,0.11,0.05])\n"
   ]
  },
  {
   "cell_type": "markdown",
   "metadata": {},
   "source": [
    "Unemployment rate is  6% and employment rate is 80% and self employed 14%\n"
   ]
  },
  {
   "cell_type": "code",
   "execution_count": null,
   "metadata": {},
   "outputs": [],
   "source": [
    "np.random.seed(256) # Set the random seed\n",
    "a=['Employed','Unemployed']\n",
    "data['Employment_Status']= np.random.choice(a, 200, p=[0.85,0.15])\n"
   ]
  },
  {
   "cell_type": "markdown",
   "metadata": {},
   "source": [
    "for genral health in Ireland 83.3% good health, 3.3%very bad and bad and 12.5% fair source https://ec.europa.eu/eurostat/cache/infographs/qol/index_en.html"
   ]
  },
  {
   "cell_type": "markdown",
   "metadata": {},
   "source": [
    "18,095\n",
    "Lower secondary\n",
    "22,443\n",
    "Higher secondary\n",
    "25,925\n",
    "Post leaving cert \n",
    "24,627\n",
    "Third level non degree\n",
    "30,068\n",
    "Third level degree or above\n",
    "38,074\n",
    "source https://www.cso.ie/en/releasesandpublications/ep/p-silc/surveyonincomeandlivingconditionssilc2018/income/"
   ]
  },
  {
   "cell_type": "code",
   "execution_count": null,
   "metadata": {},
   "outputs": [],
   "source": [
    "np.random.seed(42)\n",
    "#arr = np.arange(1, len(df[df.YN == 'N']) + 1)\n",
    "#np.random.shuffle(arr)\n",
    "#'Third Level,','Post Leaving CERT','Higher Secondary', 'Lower Secondry'\n",
    "cnt = 0\n",
    "for idx, val in enumerate(data.itertuples()):\n",
    "    if data.EDUCATION[idx] == 'Primary or Below':\n",
    "        if data.Employment_Status[idx] =='Employed':\n",
    "            data.loc[idx, 'INCOME'] = np.random.randint(18095,20000)\n",
    "        else:\n",
    "            data.loc[idx, 'INCOME'] = 0\n",
    "    if data.EDUCATION[idx] == 'Lower Secondry':\n",
    "        if data.Employment_Status[idx] =='Employed':\n",
    "            data.loc[idx, 'INCOME'] = np.random.randint(22443,24000)\n",
    "        else:\n",
    "            data.loc[idx, 'INCOME'] = 0  \n",
    "    if data.EDUCATION[idx] == 'Higher Secondary':\n",
    "        if data.Employment_Status[idx] =='Employed':\n",
    "            data.loc[idx, 'INCOME'] = np.random.randint(25000,27000)\n",
    "        else:\n",
    "            data.loc[idx, 'INCOME'] = 0\n",
    "    if data.EDUCATION[idx] == 'Post Leaving CERT':\n",
    "        if data.Employment_Status[idx] =='Employed':\n",
    "            data.loc[idx, 'INCOME'] = np.random.randint(24627,25627)\n",
    "        else:\n",
    "            data.loc[idx, 'INCOME'] = 0 \n",
    "    if data.EDUCATION[idx] == 'Third Level':\n",
    "        if data.Employment_Status[idx] =='Employed':\n",
    "            data.loc[idx, 'INCOME'] = np.random.randint(30065,35000)\n",
    "        else:\n",
    "            data.loc[idx, 'INCOME'] = 0\n",
    "        \n"
   ]
  },
  {
   "cell_type": "code",
   "execution_count": null,
   "metadata": {},
   "outputs": [],
   "source": [
    "np.random.seed(256)\n",
    "Area = ['Urban','Rural']\n",
    "#source:https://www.cso.ie/en/releasesandpublications/ep/p-cp2tc/cp2pdm/\n",
    "data['AREA']= np.random.choice(Area, 200, p=[0.63,0.37])\n",
    "#data"
   ]
  },
  {
   "cell_type": "code",
   "execution_count": null,
   "metadata": {},
   "outputs": [],
   "source": [
    "#np.random.seed(42)\n",
    "#data['INCOME'] = data.GENDER.apply(lambda x: np.random.randint(2200,3000) if x == 'Female' else np.random.randint(3000,4000)).ffill().astype(float)\n",
    "data\n",
    "#https://stackoverflow.com/questions/55114954/iterate-over-pandas-rows-and-set-column-values-based-on-values-in-other-column"
   ]
  },
  {
   "cell_type": "code",
   "execution_count": null,
   "metadata": {},
   "outputs": [],
   "source": []
  },
  {
   "cell_type": "code",
   "execution_count": null,
   "metadata": {},
   "outputs": [],
   "source": [
    "jobs = {\n",
    "    # 'title': (p, min salary, max salary)\n",
    "    'developer': (0.4, 40000, 55000),\n",
    "    'business manager': (0.1, 70000, 85000),\n",
    "    'staff': (0.4, 25000, 45000),\n",
    "    'senior developer': (0.1, 55000, 75000),\n",
    "}\n",
    "\n",
    "titles = [title for title in jobs.keys()]\n",
    "p = [job[0] for job in jobs.values()]\n",
    "title = np.random.choice(titles, size=1, p=p)[0]\n",
    "\n",
    "min_salary = jobs[title][1]\n",
    "max_salary = jobs[title][2]\n",
    "salary = np.random.randint(min_salary, max_salary)\n",
    "print(salary)"
   ]
  },
  {
   "cell_type": "code",
   "execution_count": null,
   "metadata": {},
   "outputs": [],
   "source": [
    "np.random.seed(256)\n",
    "M = ['Married','Single','Divorced']\n",
    "#source:https://www.cso.ie/en/releasesandpublications/ep/p-cp2tc/cp2pdm/\n",
    "data['MARITAL STATUS']= np.random.choice(M, 200, p=[0.40,0.40,0.20])\n",
    "data"
   ]
  },
  {
   "cell_type": "code",
   "execution_count": null,
   "metadata": {},
   "outputs": [],
   "source": [
    "jobs = {\n",
    "    # 'title': (p, min salary, max salary)\n",
    "    'developer': (0.4, 40000, 55000),\n",
    "    'business manager': (0.1, 70000, 85000),\n",
    "    'staff': (0.4, 25000, 45000),\n",
    "    'senior developer': (0.1, 55000, 75000),\n",
    "}\n",
    "\n",
    "titles = [title for title in jobs.keys()]\n",
    "p = [job[0] for job in jobs.values()]\n",
    "title = np.random.choice(titles, size=1, p=p)[0]\n",
    "\n",
    "min_salary = jobs[title][1]\n",
    "max_salary = jobs[title][2]\n",
    "salary = np.random.randint(min_salary, max_salary)\n",
    "print(salary)"
   ]
  },
  {
   "cell_type": "markdown",
   "metadata": {},
   "source": [
    "significant divide in earnings from county to county.\n",
    "\n",
    "The Central Statistics Office (CSO) numbers show that the average income for Irish households stood at €45,256 in 2016.\n",
    "\n",
    "The Dublin coastal town of Malahide had the highest average income of €78,631 of all 41 towns in the country with a population of 10,000 or over.\n",
    "\n",
    "Celbridge in Co Kildare had the second highest at €64,877 while Maynooth was third at €64,529. The towns with the lowest average incomes were Longford at €29,224, Enniscorthy, Co Wexford, at €31,049 and Ballina, Co Mayo, with €32,779.\n",
    "\n",
    "Dublin City had the highest earned income per person at €39,999, followed by Dún Laoghaire-Rathdown, €37,117, and Cork City, €34,317.\n",
    "\n",
    "The lowest earned incomes per person by county were in Donegal at €24,626, Monaghan at €24,903 and Leitrim at €25,962. The figures showed that 42.3pc of households had two or more people earning an income, while 30.1pc had just one member earning a wage."
   ]
  },
  {
   "cell_type": "markdown",
   "metadata": {},
   "source": [
    "#An average of 27pc of households throughout the country had no income earners at all\n",
    "\n",
    "#Social welfare payments to people of working age made up more than half of the income in 13.7pc of households \n",
    "#while the State pension formed the majority of income in 12.9pc.\n",
    "#This gave a total of 26.6pc of households where social welfare made up more than half of household income in Ireland in 2016.\n",
    "#Households where the occupants were in the medical, finance, legal and IT professions enjoyed the highest incomes, \n",
    "#while farmers, care workers and home carers earned under €30,000.\n",
    "#gender\n",
    "#The data also showed a significant gender gap in some professions. \n",
    "#In the financial managers and directors' sector, female income was €60,126 compared with €94,500 for males. \n",
    "#In contrast, the primary and nursery teaching professions had the smallest gender gaps.\n",
    "#Travel\n",
    "#The CSO revealed that those who travel farthest to work also earn the most. \n",
    "#The average worker driving less than 30 minutes to work earns €32,004 a year,\n",
    "#compared with €41,495 for those travelling more than 30 minutes.\n",
    "# education \n",
    "#Those who described their health as \"very bad\" earned an average of €11,700, \n",
    "#but those who earned more than €27,579 reported their health as \"very good\".\n",
    "#source: https://www.independent.ie/business/personal-finance/latest-news/great-divide-in-household-income-across-the-country-is-laid-bare-38239841.html\n"
   ]
  },
  {
   "cell_type": "markdown",
   "metadata": {},
   "source": [
    "# Reference\n",
    "1. https://www.cso.ie/en/releasesandpublications/ep/p-eaads/earningsanalysisusingadministrativedatasources2018/\n",
    "2. Education Attainment Report 2019 online available at https://www.cso.ie/en/releasesandpublications/er/eda/educationalattainmentthematicreport2019/ accessed on 04/12/2019\n",
    "3. Great divide in household income across the country is laid bare online available at  https://www.independent.ie/business/personal-finance/latest-news/great-divide-in-household-income-across-the-country-is-laid-bare-38239841.html accessed on 05/12/2019\n",
    "4. iterate over pandas rows and set column values based on values in other column available online at\n",
    "https://stackoverflow.com/questions/55114954/iterate-over-pandas-rows-and-set-column-values-based-on-values-in-other-column accessed on 06/12/2019"
   ]
  },
  {
   "cell_type": "code",
   "execution_count": null,
   "metadata": {},
   "outputs": [],
   "source": []
  }
 ],
 "metadata": {
  "kernelspec": {
   "display_name": "Python 3",
   "language": "python",
   "name": "python3"
  },
  "language_info": {
   "codemirror_mode": {
    "name": "ipython",
    "version": 3
   },
   "file_extension": ".py",
   "mimetype": "text/x-python",
   "name": "python",
   "nbconvert_exporter": "python",
   "pygments_lexer": "ipython3",
   "version": "3.7.1"
  }
 },
 "nbformat": 4,
 "nbformat_minor": 2
}
