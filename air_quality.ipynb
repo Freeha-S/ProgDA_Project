{
 "cells": [
  {
   "cell_type": "markdown",
   "metadata": {},
   "source": [
    "# EPA Ireland Archive of Nitrogen Oxides Monitoring Data\n",
    "Nitrogen oxides includes the two pollutants nitric oxide (NO) and nitrogen dioxide (NO2). Power-generation plants and motor vehicles are the principal sources of NOx, through high temperature combustion. NOx contributes to the formation of acid rain and is also a recognised ozone precursor. \n",
    "\n",
    "Short-term exposure to NO2 is associated with reduced lung function and airway responsiveness, and increased reactivity to natural allergens. Long-term exposure is associated with increased risk of respiratory infection in children. \n",
    "CAFE Directive 2008/50/EC established an hourly limit of 200 μg/m3 and an annual mean limit of 40 μg/m3 in respect of NO2. No more than 18 exceedances of the hourly limit values are allowed per year. Both limit values come into force on 1 January 2010."
   ]
  },
  {
   "cell_type": "code",
   "execution_count": 1,
   "metadata": {},
   "outputs": [],
   "source": [
    "#import libraries\n",
    "import seaborn as sns\n",
    "import pandas as pd\n",
    "import numpy as np\n",
    "import matplotlib.pyplot as plt\n"
   ]
  },
  {
   "cell_type": "code",
   "execution_count": 2,
   "metadata": {},
   "outputs": [
    {
     "name": "stdout",
     "output_type": "stream",
     "text": [
      "<class 'pandas.core.frame.DataFrame'>\n",
      "Int64Index: 8699 entries, 1 to 8760\n",
      "Data columns (total 5 columns):\n",
      "Date    8699 non-null object\n",
      "Hour    8699 non-null float64\n",
      "NOx     8699 non-null object\n",
      "NO      8699 non-null object\n",
      "NO2     8699 non-null object\n",
      "dtypes: float64(1), object(4)\n",
      "memory usage: 407.8+ KB\n",
      "<class 'pandas.core.frame.DataFrame'>\n",
      "Int64Index: 8699 entries, 1 to 8760\n",
      "Data columns (total 5 columns):\n",
      "Date    8699 non-null datetime64[ns]\n",
      "Hour    8699 non-null int8\n",
      "NOx     8699 non-null float64\n",
      "NO      8699 non-null float64\n",
      "NO2     8699 non-null float64\n",
      "dtypes: datetime64[ns](1), float64(3), int8(1)\n",
      "memory usage: 348.3 KB\n"
     ]
    }
   ],
   "source": [
    "data2=pd.read_csv('Mayo_Castlebar_2018_ugm3_hr.csv', header=None, skiprows=1,names=['Date','Hour','NOx','NO','NO2'])\n",
    "#data2=pd.DataFrame([d], )\n",
    "data2= data2.dropna(axis=0)\n",
    "#data2.columns('Date','Hour','NOx','NO','NO2')\n",
    "\n",
    "data2.info()\n",
    "data2['Date']= pd.to_datetime(data2['Date'])\n",
    "data2['Hour']= pd.to_numeric(data2['Hour'],downcast='integer')\n",
    "data2['NOx']= pd.to_numeric(data2['NOx'])\n",
    "data2['NO']= pd.to_numeric(data2['NO'])\n",
    "data2['NO2']= pd.to_numeric(data2['NO2'])\n",
    "#data2=.astype({'NOx': 'float64'}).dtypes\n",
    "#data2=data2.apply((pd.to_numeric, errors='ignore').info()\n",
    "data2.info()"
   ]
  },
  {
   "cell_type": "code",
   "execution_count": 6,
   "metadata": {},
   "outputs": [
    {
     "data": {
      "text/html": [
       "<div>\n",
       "<style scoped>\n",
       "    .dataframe tbody tr th:only-of-type {\n",
       "        vertical-align: middle;\n",
       "    }\n",
       "\n",
       "    .dataframe tbody tr th {\n",
       "        vertical-align: top;\n",
       "    }\n",
       "\n",
       "    .dataframe thead th {\n",
       "        text-align: right;\n",
       "    }\n",
       "</style>\n",
       "<table border=\"1\" class=\"dataframe\">\n",
       "  <thead>\n",
       "    <tr style=\"text-align: right;\">\n",
       "      <th></th>\n",
       "      <th>Hour</th>\n",
       "      <th>NOx</th>\n",
       "      <th>NO</th>\n",
       "      <th>NO2</th>\n",
       "    </tr>\n",
       "  </thead>\n",
       "  <tbody>\n",
       "    <tr>\n",
       "      <th>count</th>\n",
       "      <td>8699.000000</td>\n",
       "      <td>8699.000000</td>\n",
       "      <td>8699.000000</td>\n",
       "      <td>8699.000000</td>\n",
       "    </tr>\n",
       "    <tr>\n",
       "      <th>mean</th>\n",
       "      <td>12.493965</td>\n",
       "      <td>10.624509</td>\n",
       "      <td>1.817588</td>\n",
       "      <td>7.850259</td>\n",
       "    </tr>\n",
       "    <tr>\n",
       "      <th>std</th>\n",
       "      <td>6.935388</td>\n",
       "      <td>18.924126</td>\n",
       "      <td>7.976394</td>\n",
       "      <td>8.705589</td>\n",
       "    </tr>\n",
       "    <tr>\n",
       "      <th>min</th>\n",
       "      <td>1.000000</td>\n",
       "      <td>-0.800000</td>\n",
       "      <td>-1.000000</td>\n",
       "      <td>-1.500000</td>\n",
       "    </tr>\n",
       "    <tr>\n",
       "      <th>25%</th>\n",
       "      <td>6.000000</td>\n",
       "      <td>2.650000</td>\n",
       "      <td>-0.300000</td>\n",
       "      <td>2.700000</td>\n",
       "    </tr>\n",
       "    <tr>\n",
       "      <th>50%</th>\n",
       "      <td>12.000000</td>\n",
       "      <td>5.900000</td>\n",
       "      <td>0.400000</td>\n",
       "      <td>5.200000</td>\n",
       "    </tr>\n",
       "    <tr>\n",
       "      <th>75%</th>\n",
       "      <td>19.000000</td>\n",
       "      <td>11.700000</td>\n",
       "      <td>1.400000</td>\n",
       "      <td>9.600000</td>\n",
       "    </tr>\n",
       "    <tr>\n",
       "      <th>max</th>\n",
       "      <td>24.000000</td>\n",
       "      <td>612.500000</td>\n",
       "      <td>340.800000</td>\n",
       "      <td>91.900000</td>\n",
       "    </tr>\n",
       "  </tbody>\n",
       "</table>\n",
       "</div>"
      ],
      "text/plain": [
       "              Hour          NOx           NO          NO2\n",
       "count  8699.000000  8699.000000  8699.000000  8699.000000\n",
       "mean     12.493965    10.624509     1.817588     7.850259\n",
       "std       6.935388    18.924126     7.976394     8.705589\n",
       "min       1.000000    -0.800000    -1.000000    -1.500000\n",
       "25%       6.000000     2.650000    -0.300000     2.700000\n",
       "50%      12.000000     5.900000     0.400000     5.200000\n",
       "75%      19.000000    11.700000     1.400000     9.600000\n",
       "max      24.000000   612.500000   340.800000    91.900000"
      ]
     },
     "execution_count": 6,
     "metadata": {},
     "output_type": "execute_result"
    }
   ],
   "source": [
    "data2.describe()"
   ]
  },
  {
   "cell_type": "code",
   "execution_count": 3,
   "metadata": {},
   "outputs": [
    {
     "name": "stderr",
     "output_type": "stream",
     "text": [
      "C:\\Users\\Admin2\\Anaconda3\\lib\\site-packages\\scipy\\stats\\stats.py:1713: FutureWarning: Using a non-tuple sequence for multidimensional indexing is deprecated; use `arr[tuple(seq)]` instead of `arr[seq]`. In the future this will be interpreted as an array index, `arr[np.array(seq)]`, which will result either in an error or a different result.\n",
      "  return np.add.reduce(sorted[indexer] * weights, axis=axis) / sumval\n"
     ]
    },
    {
     "data": {
      "text/plain": [
       "<matplotlib.axes._subplots.AxesSubplot at 0x20845db11d0>"
      ]
     },
     "execution_count": 3,
     "metadata": {},
     "output_type": "execute_result"
    },
    {
     "data": {
      "image/png": "[encoded data removed]",
      "text/plain": [
       "<Figure size 432x288 with 1 Axes>"
      ]
     },
     "metadata": {
      "needs_background": "light"
     },
     "output_type": "display_data"
    }
   ],
   "source": [
    "sns.distplot(data2['NOx'])"
   ]
  },
  {
   "cell_type": "code",
   "execution_count": 65,
   "metadata": {},
   "outputs": [
    {
     "data": {
      "text/plain": [
       "<matplotlib.axes._subplots.AxesSubplot at 0x2084d6e6c18>"
      ]
     },
     "execution_count": 65,
     "metadata": {},
     "output_type": "execute_result"
    },
    {
     "data": {
      "image/png": "[encoded data removed]",
      "text/plain": [
       "<Figure size 432x288 with 1 Axes>"
      ]
     },
     "metadata": {
      "needs_background": "light"
     },
     "output_type": "display_data"
    }
   ],
   "source": [
    " mu, sigma = 10.2, 18. # mean and standard deviation\n",
    "s = np.random.lognormal(mu, sigma, 8699)\n",
    "\n",
    "sns.distplot(s)"
   ]
  },
  {
   "cell_type": "code",
   "execution_count": 4,
   "metadata": {},
   "outputs": [
    {
     "data": {
      "text/plain": [
       "<matplotlib.axes._subplots.AxesSubplot at 0x20845d58d30>"
      ]
     },
     "execution_count": 4,
     "metadata": {},
     "output_type": "execute_result"
    },
    {
     "data": {
      "image/png": "[encoded data removed]",
      "text/plain": [
       "<Figure size 432x288 with 1 Axes>"
      ]
     },
     "metadata": {
      "needs_background": "light"
     },
     "output_type": "display_data"
    }
   ],
   "source": [
    "sns.distplot(data2['NO'])"
   ]
  },
  {
   "cell_type": "code",
   "execution_count": 5,
   "metadata": {},
   "outputs": [
    {
     "data": {
      "text/plain": [
       "<matplotlib.axes._subplots.AxesSubplot at 0x2084623dbe0>"
      ]
     },
     "execution_count": 5,
     "metadata": {},
     "output_type": "execute_result"
    },
    {
     "data": {
      "image/png": "[encoded data removed]",
      "text/plain": [
       "<Figure size 432x288 with 1 Axes>"
      ]
     },
     "metadata": {
      "needs_background": "light"
     },
     "output_type": "display_data"
    }
   ],
   "source": [
    "sns.distplot(data2['NO2'])"
   ]
  },
  {
   "cell_type": "code",
   "execution_count": 63,
   "metadata": {},
   "outputs": [
    {
     "data": {
      "text/plain": [
       "<matplotlib.axes._subplots.AxesSubplot at 0x2084c518940>"
      ]
     },
     "execution_count": 63,
     "metadata": {},
     "output_type": "execute_result"
    },
    {
     "data": {
      "image/png": "[encoded data removed]",
      "text/plain": [
       "<Figure size 432x288 with 1 Axes>"
      ]
     },
     "metadata": {
      "needs_background": "light"
     },
     "output_type": "display_data"
    }
   ],
   "source": [
    "import math\n",
    "\n",
    "scale= 7.\n",
    "shape= 1.1 # mean=4, std=2*sqrt(2)\n",
    "s = np.random.gamma(shape, scale, 8699)\n",
    "#s = np.random.poisson(7.85, size=8699)\n",
    "sns.distplot(s)"
   ]
  },
  {
   "cell_type": "markdown",
   "metadata": {},
   "source": [
    "\n",
    "# Reference\n",
    "Nitrogen oxides includes the two pollutants nitric oxide (NO) and nitrogen dioxide (NO2). Power-generation plants and motor vehicles are the principal sources of NOx, through high temperature combustion. NOx contributes to the formation of acid rain and is also a recognised ozone precursor. \n",
    "\n",
    "Short-term exposure to NO2 is associated with reduced lung function and airway responsiveness, and increased reactivity to natural allergens. Long-term exposure is associated with increased risk of respiratory infection in children. \n",
    "CAFE Directive 2008/50/EC established an hourly limit of 200 μg/m3 and an annual mean limit of 40 μg/m3 in respect of NO2. No more than 18 exceedances of the hourly limit values are allowed per year. Both limit values come into force on 1 January 2010.\n",
    "Supplementary Information\n",
    "Oxides of Nitrogen- this pollutant is measured using an API M200 NOx analyser. Both nitrogen dioxide and nitrogen monoxide are measured by Chemiluminescence, which, in this case, is the emission of light during the reaction of NO with Ozone. \n",
    "Air is sampled, through a filter, into a reaction chamber in the analyser. Here it is mixed with Ozone and the emitted radiation is measured to give the number of NO molecules. To determine the NO2 concentration, sampled air is fed through a converter to reduce the NO2 to NO and measured as above. The signal given off is the concentration of NO2 plus NO. By then taking away the concentration of NO from this, you get the NO2 concentration. \n",
    "1. EPA,   \"EPA Ireland Archive of Nitrogen Oxides Monitoring Data\". Associated datasets and digitial information objects connected to this resource are available at: Secure Archive For Environmental Research Data (SAFER) managed by Environmental Protection Agency Ireland http://erc.epa.ie/safer/resource?id=216a8992-76e5-102b-aa08-55a7497570d3 (Last Accessed: 2019-12-02)"
   ]
  },
  {
   "cell_type": "code",
   "execution_count": null,
   "metadata": {},
   "outputs": [],
   "source": []
  }
 ],
 "metadata": {
  "kernelspec": {
   "display_name": "Python 3",
   "language": "python",
   "name": "python3"
  },
  "language_info": {
   "codemirror_mode": {
    "name": "ipython",
    "version": 3
   },
   "file_extension": ".py",
   "mimetype": "text/x-python",
   "name": "python",
   "nbconvert_exporter": "python",
   "pygments_lexer": "ipython3",
   "version": "3.7.1"
  }
 },
 "nbformat": 4,
 "nbformat_minor": 2
}
