{
 "cells": [
  {
   "cell_type": "code",
   "execution_count": null,
   "metadata": {},
   "outputs": [],
   "source": [
    "jobs = {\n",
    "    # 'title': (p, min salary, max salary)\n",
    "    'developer': (0.4, 40000, 55000),\n",
    "    'business manager': (0.1, 70000, 85000),\n",
    "    'staff': (0.4, 25000, 45000),\n",
    "    'senior developer': (0.1, 55000, 75000),\n",
    "}\n",
    "\n",
    "titles = [title for title in jobs.keys()]\n",
    "p = [job[0] for job in jobs.values()]\n",
    "title = np.random.choice(titles, size=1, p=p)[0]\n",
    "\n",
    "min_salary = jobs[title][1]\n",
    "max_salary = jobs[title][2]\n",
    "salary = np.random.randint(min_salary, max_salary)\n",
    "print(salary)\n",
    "\n",
    "jobs = {\n",
    "    # 'title': (p, min salary, max salary)\n",
    "    'developer': (0.4, 40000, 55000),\n",
    "    'business manager': (0.1, 70000, 85000),\n",
    "    'staff': (0.4, 25000, 45000),\n",
    "    'senior developer': (0.1, 55000, 75000),\n",
    "}\n",
    "\n",
    "titles = [title for title in jobs.keys()]\n",
    "p = [job[0] for job in jobs.values()]\n",
    "title = np.random.choice(titles, size=1, p=p)[0]\n",
    "\n",
    "min_salary = jobs[title][1]\n",
    "max_salary = jobs[title][2]\n",
    "salary = np.random.randint(min_salary, max_salary)\n",
    "print(salary)jobs = {\n",
    "    # 'title': (p, min salary, max salary)\n",
    "    'developer': (0.4, 40000, 55000),\n",
    "    'business manager': (0.1, 70000, 85000),\n",
    "    'staff': (0.4, 25000, 45000),\n",
    "    'senior developer': (0.1, 55000, 75000),\n",
    "}\n",
    "\n",
    "titles = [title for title in jobs.keys()]\n",
    "p = [job[0] for job in jobs.values()]\n",
    "title = np.random.choice(titles, size=1, p=p)[0]\n",
    "\n",
    "min_salary = jobs[title][1]\n",
    "max_salary = jobs[title][2]\n",
    "salary = np.random.randint(min_salary, max_salary)\n",
    "print(salary)\n",
    "\n",
    "jobs = {\n",
    "    # 'title': (p, min salary, max salary)\n",
    "    'developer': (0.4, 40000, 55000),\n",
    "    'business manager': (0.1, 70000, 85000),\n",
    "    'staff': (0.4, 25000, 45000),\n",
    "    'senior developer': (0.1, 55000, 75000),\n",
    "}\n",
    "\n",
    "titles = [title for title in jobs.keys()]\n",
    "p = [job[0] for job in jobs.values()]\n",
    "title = np.random.choice(titles, size=1, p=p)[0]\n",
    "\n",
    "min_salary = jobs[title][1]\n",
    "max_salary = jobs[title][2]\n",
    "salary = np.random.randint(min_salary, max_salary)\n",
    "print(salary)jobs = {\n",
    "    # 'title': (p, min salary, max salary)\n",
    "    'developer': (0.4, 40000, 55000),\n",
    "    'business manager': (0.1, 70000, 85000),\n",
    "    'staff': (0.4, 25000, 45000),\n",
    "    'senior developer': (0.1, 55000, 75000),\n",
    "}\n",
    "\n",
    "titles = [title for title in jobs.keys()]\n",
    "p = [job[0] for job in jobs.values()]\n",
    "title = np.random.choice(titles, size=1, p=p)[0]\n",
    "\n",
    "min_salary = jobs[title][1]\n",
    "max_salary = jobs[title][2]\n",
    "salary = np.random.randint(min_salary, max_salary)\n",
    "print(salary)\n",
    "\n",
    "jobs = {\n",
    "    # 'title': (p, min salary, max salary)\n",
    "    'developer': (0.4, 40000, 55000),\n",
    "    'business manager': (0.1, 70000, 85000),\n",
    "    'staff': (0.4, 25000, 45000),\n",
    "    'senior developer': (0.1, 55000, 75000),\n",
    "}\n",
    "\n",
    "titles = [title for title in jobs.keys()]\n",
    "p = [job[0] for job in jobs.values()]\n",
    "title = np.random.choice(titles, size=1, p=p)[0]\n",
    "\n",
    "min_salary = jobs[title][1]\n",
    "max_salary = jobs[title][2]\n",
    "salary = np.random.randint(min_salary, max_salary)\n",
    "print(salary)"
   ]
  },
  {
   "cell_type": "code",
   "execution_count": 21,
   "metadata": {},
   "outputs": [
    {
     "name": "stdout",
     "output_type": "stream",
     "text": [
      "60314\n"
     ]
    }
   ],
   "source": [
    "jobs = {\n",
    "    # 'title': (p, min salary, max salary)\n",
    "    'developer': (0.4, 40000, 55000),\n",
    "    'business manager': (0.1, 70000, 85000),\n",
    "    'staff': (0.4, 25000, 45000),\n",
    "    'senior developer': (0.1, 55000, 75000),\n",
    "}\n",
    "\n",
    "titles = [title for title in jobs.keys()]\n",
    "p = [job[0] for job in jobs.values()]\n",
    "title = np.random.choice(titles, size=1, p=p)[0]\n",
    "\n",
    "min_salary = jobs[title][1]\n",
    "max_salary = jobs[title][2]\n",
    "salary = np.random.randint(min_salary, max_salary)\n",
    "print(salary)"
   ]
  },
  {
   "cell_type": "code",
   "execution_count": null,
   "metadata": {},
   "outputs": [],
   "source": [
    "jobs = {\n",
    "    # 'title': (p, min salary, max salary)\n",
    "    'developer': (0.4, 40000, 55000),\n",
    "    'business manager': (0.1, 70000, 85000),\n",
    "    'staff': (0.4, 25000, 45000),\n",
    "    'senior developer': (0.1, 55000, 75000),\n",
    "}\n",
    "\n",
    "titles = [title for title in jobs.keys()]\n",
    "p = [job[0] for job in jobs.values()]\n",
    "title = np.random.choice(titles, size=1, p=p)[0]\n",
    "\n",
    "min_salary = jobs[title][1]\n",
    "max_salary = jobs[title][2]\n",
    "salary = np.random.randint(min_salary, max_salary)\n",
    "print(salary)"
   ]
  },
  {
   "cell_type": "code",
   "execution_count": 21,
   "metadata": {},
   "outputs": [
    {
     "name": "stdout",
     "output_type": "stream",
     "text": [
      "60314\n"
     ]
    }
   ],
   "source": [
    "jobs = {\n",
    "    # 'title': (p, min salary, max salary)\n",
    "    'developer': (0.4, 40000, 55000),\n",
    "    'business manager': (0.1, 70000, 85000),\n",
    "    'staff': (0.4, 25000, 45000),\n",
    "    'senior developer': (0.1, 55000, 75000),\n",
    "}\n",
    "\n",
    "titles = [title for title in jobs.keys()]\n",
    "p = [job[0] for job in jobs.values()]\n",
    "title = np.random.choice(titles, size=1, p=p)[0]\n",
    "\n",
    "min_salary = jobs[title][1]\n",
    "max_salary = jobs[title][2]\n",
    "salary = np.random.randint(min_salary, max_salary)\n",
    "print(salary)"
   ]
  },
  {
   "cell_type": "code",
   "execution_count": 21,
   "metadata": {},
   "outputs": [
    {
     "name": "stdout",
     "output_type": "stream",
     "text": [
      "60314\n"
     ]
    }
   ],
   "source": [
    "jobs = {\n",
    "    # 'title': (p, min salary, max salary)\n",
    "    'developer': (0.4, 40000, 55000),\n",
    "    'business manager': (0.1, 70000, 85000),\n",
    "    'staff': (0.4, 25000, 45000),\n",
    "    'senior developer': (0.1, 55000, 75000),\n",
    "}\n",
    "\n",
    "titles = [title for title in jobs.keys()]\n",
    "p = [job[0] for job in jobs.values()]\n",
    "title = np.random.choice(titles, size=1, p=p)[0]\n",
    "\n",
    "min_salary = jobs[title][1]\n",
    "max_salary = jobs[title][2]\n",
    "salary = np.random.randint(min_salary, max_salary)\n",
    "print(salary)"
   ]
  },
  {
   "cell_type": "code",
   "execution_count": null,
   "metadata": {},
   "outputs": [],
   "source": [
    "jobs = {\n",
    "    # 'title': (p, min salary, max salary)\n",
    "    'developer': (0.4, 40000, 55000),\n",
    "    'business manager': (0.1, 70000, 85000),\n",
    "    'staff': (0.4, 25000, 45000),\n",
    "    'senior developer': (0.1, 55000, 75000),\n",
    "}\n",
    "\n",
    "titles = [title for title in jobs.keys()]\n",
    "p = [job[0] for job in jobs.values()]\n",
    "title = np.random.choice(titles, size=1, p=p)[0]\n",
    "\n",
    "min_salary = jobs[title][1]\n",
    "max_salary = jobs[title][2]\n",
    "salary = np.random.randint(min_salary, max_salary)\n",
    "print(salary)"
   ]
  },
  {
   "cell_type": "code",
   "execution_count": null,
   "metadata": {},
   "outputs": [],
   "source": [
    "jobs = {\n",
    "    # 'title': (p, min salary, max salary)\n",
    "    'developer': (0.4, 40000, 55000),\n",
    "    'business manager': (0.1, 70000, 85000),\n",
    "    'staff': (0.4, 25000, 45000),\n",
    "    'senior developer': (0.1, 55000, 75000),\n",
    "}\n",
    "\n",
    "titles = [title for title in jobs.keys()]\n",
    "p = [job[0] for job in jobs.values()]\n",
    "title = np.random.choice(titles, size=1, p=p)[0]\n",
    "\n",
    "min_salary = jobs[title][1]\n",
    "max_salary = jobs[title][2]\n",
    "salary = np.random.randint(min_salary, max_salary)\n",
    "print(salary)\n",
    "\n",
    "jobs = {\n",
    "    # 'title': (p, min salary, max salary)\n",
    "    'developer': (0.4, 40000, 55000),\n",
    "    'business manager': (0.1, 70000, 85000),\n",
    "    'staff': (0.4, 25000, 45000),\n",
    "    'senior developer': (0.1, 55000, 75000),\n",
    "}\n",
    "\n",
    "titles = [title for title in jobs.keys()]\n",
    "p = [job[0] for job in jobs.values()]\n",
    "title = np.random.choice(titles, size=1, p=p)[0]\n",
    "\n",
    "min_salary = jobs[title][1]\n",
    "max_salary = jobs[title][2]\n",
    "salary = np.random.randint(min_salary, max_salary)\n",
    "print(salary)"
   ]
  },
  {
   "cell_type": "code",
   "execution_count": null,
   "metadata": {},
   "outputs": [],
   "source": [
    "jobs = {\n",
    "    # 'title': (p, min salary, max salary)\n",
    "    'developer': (0.4, 40000, 55000),\n",
    "    'business manager': (0.1, 70000, 85000),\n",
    "    'staff': (0.4, 25000, 45000),\n",
    "    'senior developer': (0.1, 55000, 75000),\n",
    "}\n",
    "\n",
    "titles = [title for title in jobs.keys()]\n",
    "p = [job[0] for job in jobs.values()]\n",
    "title = np.random.choice(titles, size=1, p=p)[0]\n",
    "\n",
    "min_salary = jobs[title][1]\n",
    "max_salary = jobs[title][2]\n",
    "salary = np.random.randint(min_salary, max_salary)\n",
    "print(salary)"
   ]
  },
  {
   "cell_type": "markdown",
   "metadata": {},
   "source": [
    "## Household income\n",
    "- Under €10,000  3.9%\n",
    "- €10,000 – €19,000 15.4%\n",
    "- €20,000 – €29,999 17.3%\n",
    "- €30,000 – €39,999 16.7%\n",
    "- €40,000 – €49,999 16.8%\n",
    "- €50,000 or more 30.0%\n",
    "\n",
    "The equivalised household (HH) income is calculated based on the above figures using the national equivalence scale (Callan et al, 1996). The equivalised HH income (units: weekly net household incomes) adjusts for household size such that the needs of the composition of households are taken into account. The national equivalence scale used here attributes a weight of 1 to the first adult, 0.66 to each subsequent adult and 0.33 to each child.12 For analysis purposes, the equivalised income is split into quintiles, from the highest income quintile to the lowest income quintile.\n"
   ]
  },
  {
   "cell_type": "code",
   "execution_count": null,
   "metadata": {},
   "outputs": [],
   "source": [
    "hincome= ['Under €10,000','€10,000 – €19,000','€20,000 – €29,999','€30,000 – €39,999','€40,000 – €49,999','€50,000 or more']\n",
    "data['Household_Income']= np.random.choice(hincome, 1000, p=[0.039,0.154,0.172,0.167,0.168,0.30]) \n",
    "sns.countplot(data['Household_Income'])"
   ]
  },
  {
   "cell_type": "code",
   "execution_count": null,
   "metadata": {},
   "outputs": [],
   "source": [
    "#data['INCOME'] = data.GENDER.apply(lambda x: np.random.randint(2200,3000) if x == 'Female' else np.random.randint(3000,4000)).ffill().astype(float)\n"
   ]
  }
 ],
 "metadata": {
  "kernelspec": {
   "display_name": "Python 3",
   "language": "python",
   "name": "python3"
  },
  "language_info": {
   "codemirror_mode": {
    "name": "ipython",
    "version": 3
   },
   "file_extension": ".py",
   "mimetype": "text/x-python",
   "name": "python",
   "nbconvert_exporter": "python",
   "pygments_lexer": "ipython3",
   "version": "3.7.1"
  }
 },
 "nbformat": 4,
 "nbformat_minor": 2
}
