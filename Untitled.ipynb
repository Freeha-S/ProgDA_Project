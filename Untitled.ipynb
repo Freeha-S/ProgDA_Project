{
 "cells": [
  {
   "cell_type": "markdown",
   "metadata": {},
   "source": [
    "# Dublin Housing Market "
   ]
  },
  {
   "cell_type": "markdown",
   "metadata": {},
   "source": [
    "the aim of this project is to look at the housing market trends in Ireland\n",
    "\n",
    "The variables that i am using are \n",
    "- PropertyStatus\n",
    "- PropertType\n",
    "- Area per square feet\n",
    "- Transport Links\n",
    "- no of bedrooms\n",
    "- SalePrice\n",
    "\n",
    "\n",
    "1. First look at each variable and do a philosophical analysis about their meaning and importance.\n",
    "2. Univariate study: focus on the dependent variable ('SalePrice').\n",
    "3. Multivariate study: Understand how the dependent variable and independent variables relate.\n"
   ]
  },
  {
   "cell_type": "code",
   "execution_count": 2,
   "metadata": {},
   "outputs": [],
   "source": [
    "#import Libraries\n",
    "import pandas as pd\n",
    "import seaborn as sns\n",
    "import numpy as np\n",
    "import matplotlib.pyplot as plt\n",
    "from matplotlib.pyplot import pie, axis, show\n",
    "\n",
    "# Display plots inline in the notebook\n",
    "%matplotlib inline "
   ]
  },
  {
   "cell_type": "code",
   "execution_count": 3,
   "metadata": {},
   "outputs": [],
   "source": [
    "data=pd.DataFrame()"
   ]
  },
  {
   "cell_type": "markdown",
   "metadata": {},
   "source": [
    "## Property Status\n",
    "This variable is categorical variable with two value {0= Old and 1= New}\n"
   ]
  },
  {
   "cell_type": "code",
   "execution_count": 22,
   "metadata": {},
   "outputs": [
    {
     "data": {
      "text/plain": [
       "Old    126\n",
       "New     74\n",
       "Name: P_Status, dtype: int64"
      ]
     },
     "execution_count": 22,
     "metadata": {},
     "output_type": "execute_result"
    }
   ],
   "source": [
    "np.random.seed(256) # Set the random seed\n",
    "status=['Old','New']\n",
    "data['P_Status']= np.random.choice(status, 200,p=[0.60,0.40])\n",
    "\n",
    "data['P_Status'].value_counts()"
   ]
  },
  {
   "cell_type": "markdown",
   "metadata": {},
   "source": [
    "## Property Type\n",
    "This variable is categorical variable with two value {0= House and 1= Apartment}"
   ]
  },
  {
   "cell_type": "code",
   "execution_count": 24,
   "metadata": {},
   "outputs": [
    {
     "data": {
      "text/plain": [
       "Apartment    116\n",
       "House         84\n",
       "Name: P_Type, dtype: int64"
      ]
     },
     "execution_count": 24,
     "metadata": {},
     "output_type": "execute_result"
    }
   ],
   "source": [
    "np.random.seed(256) # Set the random seed\n",
    "ptype=['Apartment','House']\n",
    "cnt = 0\n",
    "for idx, val in enumerate(data.itertuples()):\n",
    "    if data.P_Status[idx] == 'Old':\n",
    "            data.loc[idx, 'P_Type'] = np.random.choice(ptype)\n",
    "        \n",
    "    if data.P_Status[idx] == 'New':\n",
    "            data.loc[idx, 'P_Type'] = np.random.choice(ptype)\n",
    "#data['P_Type']= np.random.choice(ptype, 200)\n",
    "data['P_Type'].value_counts()"
   ]
  },
  {
   "cell_type": "markdown",
   "metadata": {},
   "source": [
    "## Number of Bedrooms\n",
    "This variable is numerical variable with values 1-5, as it is obvious that bigger properties are less. and most properties sold have 1,2 or 3 bedrooms.\n"
   ]
  },
  {
   "cell_type": "code",
   "execution_count": 39,
   "metadata": {},
   "outputs": [
    {
     "data": {
      "text/plain": [
       "1.0    60\n",
       "3.0    56\n",
       "2.0    46\n",
       "4.0    38\n",
       "Name: Bedrooms, dtype: int64"
      ]
     },
     "execution_count": 39,
     "metadata": {},
     "output_type": "execute_result"
    }
   ],
   "source": [
    "\n",
    "#No of Bedrooms\n",
    "np.random.seed(256) # Set the random seed\n",
    "\n",
    "cnt = 0\n",
    "for idx, val in enumerate(data.itertuples()):\n",
    "    if data.P_Type[idx] == 'Apartment':\n",
    "            data.loc[idx, 'Bedrooms'] = np.random.randint(1,4)\n",
    "        \n",
    "    if data.P_Type[idx] == 'House':\n",
    "            data.loc[idx, 'Bedrooms'] = np.random.randint(1,5)\n",
    "#data['P_Type']= np.random.choice(ptype, 200)\n",
    "data['Bedrooms'].value_counts()\n"
   ]
  },
  {
   "cell_type": "markdown",
   "metadata": {},
   "source": [
    "## SalePrice\n",
    "This is a numerical data column we have the mean value of property and assume that it follows a exponential distribution\n",
    "average sale price of\n"
   ]
  },
  {
   "cell_type": "code",
   "execution_count": 40,
   "metadata": {},
   "outputs": [],
   "source": [
    "#data"
   ]
  },
  {
   "cell_type": "markdown",
   "metadata": {},
   "source": [
    "# References\n",
    "1. COMPREHENSIVE DATA EXPLORATION WITH PYTHON available at https://www.kaggle.com/pmarcelino/comprehensive-data-exploration-with-python accessed on 10/12/2019"
   ]
  },
  {
   "cell_type": "code",
   "execution_count": null,
   "metadata": {},
   "outputs": [],
   "source": []
  }
 ],
 "metadata": {
  "kernelspec": {
   "display_name": "Python 3",
   "language": "python",
   "name": "python3"
  },
  "language_info": {
   "codemirror_mode": {
    "name": "ipython",
    "version": 3
   },
   "file_extension": ".py",
   "mimetype": "text/x-python",
   "name": "python",
   "nbconvert_exporter": "python",
   "pygments_lexer": "ipython3",
   "version": "3.7.1"
  }
 },
 "nbformat": 4,
 "nbformat_minor": 2
}
